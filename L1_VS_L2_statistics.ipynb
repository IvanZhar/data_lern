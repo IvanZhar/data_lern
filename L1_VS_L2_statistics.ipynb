{
 "cells": [
  {
   "cell_type": "code",
   "execution_count": 1,
   "id": "d6883cda",
   "metadata": {},
   "outputs": [],
   "source": [
    "import numpy as np\n",
    "import pandas as pd\n",
    "import plotly.express as px\n",
    "import plotly.graph_objects as go\n",
    "from sklearn.preprocessing import OneHotEncoder, StandardScaler, PolynomialFeatures, OrdinalEncoder\n",
    "from sklearn.pipeline import Pipeline\n",
    "from sklearn.compose import ColumnTransformer\n",
    "from sklearn.linear_model import Lasso, Ridge\n",
    "from sklearn.model_selection import GridSearchCV, cross_validate\n",
    "from sklearn.tree import DecisionTreeRegressor\n",
    "from sklearn.metrics import mean_absolute_error as mae\n",
    "from sklearn.ensemble import RandomForestRegressor as RFR, HistGradientBoostingRegressor\n",
    "from  sklearn.utils import resample\n",
    "import scipy.stats as st\n",
    "import math as m\n",
    "from tqdm import tqdm\n",
    "# from lightgbm import RandomForestRegres"
   ]
  },
  {
   "cell_type": "code",
   "execution_count": 2,
   "id": "badecc8e",
   "metadata": {},
   "outputs": [
    {
     "data": {
      "text/html": [
       "<div>\n",
       "<style scoped>\n",
       "    .dataframe tbody tr th:only-of-type {\n",
       "        vertical-align: middle;\n",
       "    }\n",
       "\n",
       "    .dataframe tbody tr th {\n",
       "        vertical-align: top;\n",
       "    }\n",
       "\n",
       "    .dataframe thead th {\n",
       "        text-align: right;\n",
       "    }\n",
       "</style>\n",
       "<table border=\"1\" class=\"dataframe\">\n",
       "  <thead>\n",
       "    <tr style=\"text-align: right;\">\n",
       "      <th></th>\n",
       "      <th>age</th>\n",
       "      <th>sex</th>\n",
       "      <th>bmi</th>\n",
       "      <th>children</th>\n",
       "      <th>smoker</th>\n",
       "      <th>region</th>\n",
       "      <th>charges</th>\n",
       "    </tr>\n",
       "  </thead>\n",
       "  <tbody>\n",
       "    <tr>\n",
       "      <th>1196</th>\n",
       "      <td>19</td>\n",
       "      <td>female</td>\n",
       "      <td>30.02</td>\n",
       "      <td>0</td>\n",
       "      <td>yes</td>\n",
       "      <td>northwest</td>\n",
       "      <td>33307.55080</td>\n",
       "    </tr>\n",
       "    <tr>\n",
       "      <th>928</th>\n",
       "      <td>62</td>\n",
       "      <td>female</td>\n",
       "      <td>39.16</td>\n",
       "      <td>0</td>\n",
       "      <td>no</td>\n",
       "      <td>southeast</td>\n",
       "      <td>13470.80440</td>\n",
       "    </tr>\n",
       "    <tr>\n",
       "      <th>673</th>\n",
       "      <td>41</td>\n",
       "      <td>female</td>\n",
       "      <td>31.02</td>\n",
       "      <td>0</td>\n",
       "      <td>no</td>\n",
       "      <td>southeast</td>\n",
       "      <td>6185.32080</td>\n",
       "    </tr>\n",
       "    <tr>\n",
       "      <th>931</th>\n",
       "      <td>39</td>\n",
       "      <td>female</td>\n",
       "      <td>32.50</td>\n",
       "      <td>1</td>\n",
       "      <td>no</td>\n",
       "      <td>southwest</td>\n",
       "      <td>6238.29800</td>\n",
       "    </tr>\n",
       "    <tr>\n",
       "      <th>216</th>\n",
       "      <td>53</td>\n",
       "      <td>female</td>\n",
       "      <td>26.60</td>\n",
       "      <td>0</td>\n",
       "      <td>no</td>\n",
       "      <td>northwest</td>\n",
       "      <td>10355.64100</td>\n",
       "    </tr>\n",
       "    <tr>\n",
       "      <th>...</th>\n",
       "      <td>...</td>\n",
       "      <td>...</td>\n",
       "      <td>...</td>\n",
       "      <td>...</td>\n",
       "      <td>...</td>\n",
       "      <td>...</td>\n",
       "      <td>...</td>\n",
       "    </tr>\n",
       "    <tr>\n",
       "      <th>322</th>\n",
       "      <td>34</td>\n",
       "      <td>male</td>\n",
       "      <td>30.80</td>\n",
       "      <td>0</td>\n",
       "      <td>yes</td>\n",
       "      <td>southwest</td>\n",
       "      <td>35491.64000</td>\n",
       "    </tr>\n",
       "    <tr>\n",
       "      <th>1242</th>\n",
       "      <td>22</td>\n",
       "      <td>female</td>\n",
       "      <td>21.28</td>\n",
       "      <td>3</td>\n",
       "      <td>no</td>\n",
       "      <td>northwest</td>\n",
       "      <td>4296.27120</td>\n",
       "    </tr>\n",
       "    <tr>\n",
       "      <th>1206</th>\n",
       "      <td>59</td>\n",
       "      <td>female</td>\n",
       "      <td>34.80</td>\n",
       "      <td>2</td>\n",
       "      <td>no</td>\n",
       "      <td>southwest</td>\n",
       "      <td>36910.60803</td>\n",
       "    </tr>\n",
       "    <tr>\n",
       "      <th>500</th>\n",
       "      <td>29</td>\n",
       "      <td>male</td>\n",
       "      <td>34.40</td>\n",
       "      <td>0</td>\n",
       "      <td>yes</td>\n",
       "      <td>southwest</td>\n",
       "      <td>36197.69900</td>\n",
       "    </tr>\n",
       "    <tr>\n",
       "      <th>198</th>\n",
       "      <td>51</td>\n",
       "      <td>female</td>\n",
       "      <td>18.05</td>\n",
       "      <td>0</td>\n",
       "      <td>no</td>\n",
       "      <td>northwest</td>\n",
       "      <td>9644.25250</td>\n",
       "    </tr>\n",
       "  </tbody>\n",
       "</table>\n",
       "<p>1204 rows × 7 columns</p>\n",
       "</div>"
      ],
      "text/plain": [
       "      age     sex    bmi  children smoker     region      charges\n",
       "1196   19  female  30.02         0    yes  northwest  33307.55080\n",
       "928    62  female  39.16         0     no  southeast  13470.80440\n",
       "673    41  female  31.02         0     no  southeast   6185.32080\n",
       "931    39  female  32.50         1     no  southwest   6238.29800\n",
       "216    53  female  26.60         0     no  northwest  10355.64100\n",
       "...   ...     ...    ...       ...    ...        ...          ...\n",
       "322    34    male  30.80         0    yes  southwest  35491.64000\n",
       "1242   22  female  21.28         3     no  northwest   4296.27120\n",
       "1206   59  female  34.80         2     no  southwest  36910.60803\n",
       "500    29    male  34.40         0    yes  southwest  36197.69900\n",
       "198    51  female  18.05         0     no  northwest   9644.25250\n",
       "\n",
       "[1204 rows x 7 columns]"
      ]
     },
     "execution_count": 2,
     "metadata": {},
     "output_type": "execute_result"
    }
   ],
   "source": [
    "data = pd.read_csv('insurance.csv', sep=',')\n",
    "data_train = data.sample(frac=0.9)\n",
    "data_validate = data.loc[~data.index.isin(data_train.index)]\n",
    "data_train"
   ]
  },
  {
   "cell_type": "markdown",
   "id": "ca323d76",
   "metadata": {},
   "source": [
    "# **L1 CONFIDENCE INTERVAL 95**"
   ]
  },
  {
   "cell_type": "markdown",
   "id": "26ceedf3",
   "metadata": {},
   "source": [
    "**CREATE COLUMN TRANSFORMER**"
   ]
  },
  {
   "cell_type": "code",
   "execution_count": 3,
   "id": "cc07f3b5",
   "metadata": {},
   "outputs": [],
   "source": [
    "col_trans_l1 = ColumnTransformer([\n",
    "    ('scaller', StandardScaler(), ['age', 'bmi', 'children']),\n",
    "    ('hot_encode', OneHotEncoder(handle_unknown='ignore', drop='first'), ['sex', 'smoker', 'region']),\n",
    "], remainder='passthrough')"
   ]
  },
  {
   "cell_type": "markdown",
   "id": "e7c09a04",
   "metadata": {},
   "source": [
    "**CREATE PIPE**"
   ]
  },
  {
   "cell_type": "code",
   "execution_count": 4,
   "id": "2cf710d8",
   "metadata": {},
   "outputs": [],
   "source": [
    "pipe_l1 = Pipeline([\n",
    "    ('col_trans_l1', col_trans_l1), \n",
    "    ('poly', PolynomialFeatures(degree=4, include_bias=False)), \n",
    "    ('lasso', Lasso(alpha=69.56552173913043))\n",
    "])"
   ]
  },
  {
   "cell_type": "code",
   "execution_count": 5,
   "id": "bd9d21a8",
   "metadata": {},
   "outputs": [
    {
     "data": {
      "text/plain": [
       "Pipeline(steps=[('col_trans_l1',\n",
       "                 ColumnTransformer(remainder='passthrough',\n",
       "                                   transformers=[('scaller', StandardScaler(),\n",
       "                                                  ['age', 'bmi', 'children']),\n",
       "                                                 ('hot_encode',\n",
       "                                                  OneHotEncoder(drop='first',\n",
       "                                                                handle_unknown='ignore'),\n",
       "                                                  ['sex', 'smoker',\n",
       "                                                   'region'])])),\n",
       "                ('poly', PolynomialFeatures(degree=4, include_bias=False)),\n",
       "                ('lasso', Lasso(alpha=69.56552173913043))])"
      ]
     },
     "execution_count": 5,
     "metadata": {},
     "output_type": "execute_result"
    }
   ],
   "source": [
    "pipe_l1.fit(data_train.loc[:, ~data_train.columns.isin(['charges'])], data_train['charges'])"
   ]
  },
  {
   "cell_type": "markdown",
   "id": "104f6f76",
   "metadata": {},
   "source": [
    "**L1 RESULTS- BEST MEAN SCORE**"
   ]
  },
  {
   "cell_type": "code",
   "execution_count": 6,
   "id": "b2f90d74",
   "metadata": {},
   "outputs": [],
   "source": [
    "def btstrap_cv_score(data, pipe):\n",
    "    res = np.zeros((200,), dtype=int)\n",
    "    for i in tqdm(range(200)):\n",
    "        resampled_data = data.sample(frac=0.7)\n",
    "        res[i] = -np.mean(cross_validate(pipe,\n",
    "                                         resampled_data.loc[:, ~resampled_data.columns.isin(['charges'])],\n",
    "                                         resampled_data['charges'],\n",
    "                                         scoring=('neg_mean_absolute_error',))['test_neg_mean_absolute_error'])\n",
    "    return res"
   ]
  },
  {
   "cell_type": "code",
   "execution_count": 7,
   "id": "b0859d8b",
   "metadata": {
    "tags": []
   },
   "outputs": [
    {
     "name": "stderr",
     "output_type": "stream",
     "text": [
      " 40%|████████████████████████████████▊                                                | 81/200 [00:40<00:55,  2.13it/s]C:\\Users\\IvanZ\\anaconda3\\lib\\site-packages\\sklearn\\linear_model\\_coordinate_descent.py:647: ConvergenceWarning: Objective did not converge. You might want to increase the number of iterations, check the scale of the features or consider increasing regularisation. Duality gap: 1.227e+07, tolerance: 1.018e+07\n",
      "  model = cd_fast.enet_coordinate_descent(\n",
      " 54%|██████████████████████████████████████████▊                                     | 107/200 [00:54<00:48,  1.90it/s]C:\\Users\\IvanZ\\anaconda3\\lib\\site-packages\\sklearn\\linear_model\\_coordinate_descent.py:647: ConvergenceWarning: Objective did not converge. You might want to increase the number of iterations, check the scale of the features or consider increasing regularisation. Duality gap: 1.225e+07, tolerance: 9.317e+06\n",
      "  model = cd_fast.enet_coordinate_descent(\n",
      " 70%|███████████████████████████████████████████████████████▌                        | 139/200 [01:13<00:41,  1.46it/s]C:\\Users\\IvanZ\\anaconda3\\lib\\site-packages\\sklearn\\linear_model\\_coordinate_descent.py:647: ConvergenceWarning: Objective did not converge. You might want to increase the number of iterations, check the scale of the features or consider increasing regularisation. Duality gap: 2.081e+07, tolerance: 9.711e+06\n",
      "  model = cd_fast.enet_coordinate_descent(\n",
      " 85%|████████████████████████████████████████████████████████████████████            | 170/200 [01:30<00:17,  1.72it/s]C:\\Users\\IvanZ\\anaconda3\\lib\\site-packages\\sklearn\\linear_model\\_coordinate_descent.py:647: ConvergenceWarning: Objective did not converge. You might want to increase the number of iterations, check the scale of the features or consider increasing regularisation. Duality gap: 1.585e+07, tolerance: 1.009e+07\n",
      "  model = cd_fast.enet_coordinate_descent(\n",
      " 95%|████████████████████████████████████████████████████████████████████████████    | 190/200 [01:41<00:06,  1.62it/s]C:\\Users\\IvanZ\\anaconda3\\lib\\site-packages\\sklearn\\linear_model\\_coordinate_descent.py:647: ConvergenceWarning: Objective did not converge. You might want to increase the number of iterations, check the scale of the features or consider increasing regularisation. Duality gap: 1.723e+07, tolerance: 9.544e+06\n",
      "  model = cd_fast.enet_coordinate_descent(\n",
      "100%|████████████████████████████████████████████████████████████████████████████████| 200/200 [01:47<00:00,  1.86it/s]\n"
     ]
    }
   ],
   "source": [
    "l1_res = btstrap_cv_score(data_train, pipe_l1)"
   ]
  },
  {
   "cell_type": "code",
   "execution_count": 8,
   "id": "cb210810",
   "metadata": {},
   "outputs": [
    {
     "data": {
      "text/plain": [
       "array([3018, 2917, 2908, 3124, 3007, 3277, 2552, 3232, 3127, 3004, 3189,\n",
       "       3058, 2968, 3120, 2921, 3172, 3015, 2987, 3177, 3134, 3013, 2857,\n",
       "       2971, 3312, 3258, 3210, 3069, 3060, 3202, 3182, 3015, 3074, 3288,\n",
       "       3158, 3068, 3271, 3019, 3089, 3124, 3261, 2966, 2868, 2876, 3051,\n",
       "       2967, 3008, 3326, 2942, 3050, 3152, 2859, 3171, 2894, 2944, 2882,\n",
       "       3097, 3158, 3014, 3100, 2993, 3193, 2848, 3191, 2811, 3124, 2979,\n",
       "       2881, 3097, 3181, 2958, 3015, 2949, 2963, 3056, 2901, 3223, 2976,\n",
       "       3015, 2909, 3014, 3037, 3215, 2973, 2869, 2959, 2792, 3133, 2985,\n",
       "       3168, 3005, 3155, 3020, 2998, 2993, 2948, 2849, 3088, 3194, 3028,\n",
       "       3041, 2903, 3067, 2989, 3113, 2947, 3179, 2833, 3174, 2793, 2954,\n",
       "       3012, 3098, 2980, 2651, 2851, 3129, 3164, 3147, 2906, 3049, 2990,\n",
       "       2906, 3094, 2920, 2986, 2998, 2976, 2911, 2974, 3062, 2939, 3107,\n",
       "       3119, 3034, 3094, 2999, 2695, 2994, 3109, 3052, 2999, 3258, 3084,\n",
       "       3005, 3105, 3185, 3002, 3124, 2882, 2847, 3141, 3064, 3181, 3209,\n",
       "       3227, 2977, 3087, 2923, 3146, 2993, 3157, 3034, 2602, 2980, 2997,\n",
       "       3042, 3034, 3091, 3103, 3168, 2968, 3136, 2999, 3078, 2763, 2841,\n",
       "       3214, 2940, 3029, 3095, 2966, 2933, 2994, 2847, 3042, 3280, 2861,\n",
       "       3098, 3059, 2733, 3135, 3106, 2926, 2750, 2844, 2916, 3019, 3181,\n",
       "       3105, 3000])"
      ]
     },
     "execution_count": 8,
     "metadata": {},
     "output_type": "execute_result"
    }
   ],
   "source": [
    "l1_res"
   ]
  },
  {
   "cell_type": "code",
   "execution_count": 9,
   "id": "e596b9b7",
   "metadata": {},
   "outputs": [],
   "source": [
    "l1_res_df = pd.DataFrame(data=l1_res, columns=['means'])"
   ]
  },
  {
   "cell_type": "code",
   "execution_count": 10,
   "id": "625fd18f-ffd2-4df0-ad1a-9902ea245e5f",
   "metadata": {},
   "outputs": [
    {
     "name": "stdout",
     "output_type": "stream",
     "text": [
      "3029.315 132.6076154425787 14.142135623730951\n"
     ]
    }
   ],
   "source": [
    "print(np.mean(l1_res), np.std(l1_res, ddof=1), len(l1_res) ** 0.5)"
   ]
  },
  {
   "cell_type": "markdown",
   "id": "c1d9fce2",
   "metadata": {},
   "source": [
    "**CALCULATE 95% CONFIDENSE INTERVAL**"
   ]
  },
  {
   "cell_type": "code",
   "execution_count": 11,
   "id": "e85caddd",
   "metadata": {},
   "outputs": [],
   "source": [
    "def conf_interv(array, conf_lvl):\n",
    "    return (np.mean(array) - conf_lvl * (np.std(array, ddof=1) / m.sqrt(array.shape[0])), \n",
    "            np.mean(array) + conf_lvl * (np.std(array, ddof=1) / m.sqrt(array.shape[0])))"
   ]
  },
  {
   "cell_type": "code",
   "execution_count": 12,
   "id": "4a5b8ade",
   "metadata": {},
   "outputs": [
    {
     "data": {
      "text/plain": [
       "(3010.9365221531807, 3047.6934778468194)"
      ]
     },
     "execution_count": 12,
     "metadata": {},
     "output_type": "execute_result"
    }
   ],
   "source": [
    "conf_interv(l1_res, 1.96)"
   ]
  },
  {
   "cell_type": "markdown",
   "id": "2b756c1b",
   "metadata": {},
   "source": [
    "**BUILD HISTOGRAM**"
   ]
  },
  {
   "cell_type": "code",
   "execution_count": 13,
   "id": "900e3249",
   "metadata": {},
   "outputs": [
    {
     "data": {
      "text/plain": [
       "<matplotlib.lines.Line2D at 0x1a319fcb340>"
      ]
     },
     "execution_count": 13,
     "metadata": {},
     "output_type": "execute_result"
    },
    {
     "data": {
      "image/png": "[encoded data removed]",
      "text/plain": [
       "<Figure size 640x480 with 1 Axes>"
      ]
     },
     "metadata": {},
     "output_type": "display_data"
    }
   ],
   "source": [
    "fig = l1_res_df.hist(bins=30)\n",
    "fig[0][0].axvline(x=np.mean(l1_res) - 2 * np.std(l1_res, ddof=1), color='red')\n",
    "fig[0][0].axvline(x=np.mean(l1_res) + 2 * np.std(l1_res, ddof=1), color='red')"
   ]
  },
  {
   "cell_type": "markdown",
   "id": "a17eea47-ff5e-4bf0-8cb5-c73cd753672c",
   "metadata": {},
   "source": [
    "**BUILD PROBABILITY DENSITY FUNCTION**"
   ]
  },
  {
   "cell_type": "code",
   "execution_count": 14,
   "id": "4815896d",
   "metadata": {
    "tags": []
   },
   "outputs": [
    {
     "name": "stderr",
     "output_type": "stream",
     "text": [
      "C:\\Users\\IvanZ\\AppData\\Local\\Temp\\ipykernel_17800\\1746027687.py:1: DeprecationWarning: Use of keyword argument `alpha` for method `interval` is deprecated. Use first positional argument or keyword argument `confidence` instead.\n",
      "  st.t.interval(alpha=0.95, df=len(l1_res)-1, loc=np.mean(l1_res), scale=st.sem(l1_res), )\n"
     ]
    },
    {
     "data": {
      "text/plain": [
       "(3010.8244083350114, 3047.8055916649887)"
      ]
     },
     "execution_count": 14,
     "metadata": {},
     "output_type": "execute_result"
    }
   ],
   "source": [
    "st.t.interval(alpha=0.95, df=len(l1_res)-1, loc=np.mean(l1_res), scale=st.sem(l1_res), )"
   ]
  },
  {
   "cell_type": "markdown",
   "id": "b6116ec5",
   "metadata": {},
   "source": [
    "# **L2 95 CONFIDENCE INTERVAL**"
   ]
  },
  {
   "cell_type": "markdown",
   "id": "7cf1bddb",
   "metadata": {},
   "source": [
    "**LETS CREATE PIPE (WE CAN USE THE SAME COLUMN TRANSFORMER)**"
   ]
  },
  {
   "cell_type": "code",
   "execution_count": 15,
   "id": "9be03f9a",
   "metadata": {},
   "outputs": [],
   "source": [
    "col_trans_l2 = col_trans_l1"
   ]
  },
  {
   "cell_type": "code",
   "execution_count": 16,
   "id": "7277547a",
   "metadata": {},
   "outputs": [],
   "source": [
    "pipe_l2 = Pipeline([\n",
    "    ('col_trans_l2', col_trans_l2), \n",
    "    ('poly', PolynomialFeatures(degree=2, include_bias=False)), \n",
    "    ('ridge', Ridge(alpha=1e-05))\n",
    "])"
   ]
  },
  {
   "cell_type": "markdown",
   "id": "95f5a537",
   "metadata": {},
   "source": [
    "**CALCULATE RESULTS**"
   ]
  },
  {
   "cell_type": "code",
   "execution_count": 17,
   "id": "fb9f55ba",
   "metadata": {},
   "outputs": [
    {
     "name": "stderr",
     "output_type": "stream",
     "text": [
      "100%|████████████████████████████████████████████████████████████████████████████████| 200/200 [00:22<00:00,  8.99it/s]\n"
     ]
    }
   ],
   "source": [
    "l2_res = btstrap_cv_score(data_train, pipe_l2)"
   ]
  },
  {
   "cell_type": "code",
   "execution_count": 18,
   "id": "cfd8687b",
   "metadata": {
    "tags": []
   },
   "outputs": [],
   "source": [
    "l2_res_df = pd.DataFrame(data=l2_res, columns=['means'])"
   ]
  },
  {
   "cell_type": "code",
   "execution_count": 19,
   "id": "738bcef1-1efa-448b-a542-483595be20ab",
   "metadata": {},
   "outputs": [
    {
     "name": "stderr",
     "output_type": "stream",
     "text": [
      "C:\\Users\\IvanZ\\AppData\\Local\\Temp\\ipykernel_17800\\1830565150.py:1: DeprecationWarning: Use of keyword argument `alpha` for method `interval` is deprecated. Use first positional argument or keyword argument `confidence` instead.\n",
      "  st.t.interval(alpha=0.95, df=len(l2_res)-1, loc=np.mean(l2_res), scale=st.sem(l2_res))\n"
     ]
    },
    {
     "data": {
      "text/plain": [
       "(3021.775295720408, 3058.6947042795923)"
      ]
     },
     "execution_count": 19,
     "metadata": {},
     "output_type": "execute_result"
    }
   ],
   "source": [
    "st.t.interval(alpha=0.95, df=len(l2_res)-1, loc=np.mean(l2_res), scale=st.sem(l2_res))"
   ]
  },
  {
   "cell_type": "markdown",
   "id": "785a54a1",
   "metadata": {},
   "source": [
    "**BUILD HISTOGRAM**"
   ]
  },
  {
   "cell_type": "code",
   "execution_count": 20,
   "id": "a39ed8a6",
   "metadata": {},
   "outputs": [
    {
     "data": {
      "text/plain": [
       "array([[<AxesSubplot:title={'center':'means'}>]], dtype=object)"
      ]
     },
     "execution_count": 20,
     "metadata": {},
     "output_type": "execute_result"
    },
    {
     "data": {
      "image/png": "[encoded data removed]",
      "text/plain": [
       "<Figure size 640x480 with 1 Axes>"
      ]
     },
     "metadata": {},
     "output_type": "display_data"
    }
   ],
   "source": [
    "l2_res_df.hist(bins=20)"
   ]
  },
  {
   "cell_type": "markdown",
   "id": "be80c882",
   "metadata": {},
   "source": [
    "# **DECISION TREE BOOTSTRAP**"
   ]
  },
  {
   "cell_type": "markdown",
   "id": "198828bf",
   "metadata": {},
   "source": [
    "**CREATE COLLUMN TRANSFORMER**"
   ]
  },
  {
   "cell_type": "code",
   "execution_count": 21,
   "id": "9020c66a",
   "metadata": {},
   "outputs": [],
   "source": [
    "bintree_trans = ColumnTransformer([\n",
    "    ('encode_ord', OrdinalEncoder(handle_unknown='use_encoded_value', unknown_value=-1), ['sex', 'smoker', 'region']),\n",
    "], remainder='passthrough')"
   ]
  },
  {
   "cell_type": "markdown",
   "id": "fd2cf989",
   "metadata": {},
   "source": [
    "**CREATE PIPELINE**"
   ]
  },
  {
   "cell_type": "code",
   "execution_count": 22,
   "id": "eed76764",
   "metadata": {},
   "outputs": [],
   "source": [
    "pipe_bintree = Pipeline([\n",
    "    ('bintree_trans', bintree_trans), \n",
    "    ('bintree', DecisionTreeRegressor(max_depth=5, min_samples_leaf=11))\n",
    "])"
   ]
  },
  {
   "cell_type": "markdown",
   "id": "752275ce-f47c-4117-a396-92a149a64ccf",
   "metadata": {},
   "source": [
    "**CALCULATE RESULTS**"
   ]
  },
  {
   "cell_type": "code",
   "execution_count": 23,
   "id": "8667bfe4",
   "metadata": {},
   "outputs": [
    {
     "name": "stderr",
     "output_type": "stream",
     "text": [
      "100%|████████████████████████████████████████████████████████████████████████████████| 200/200 [00:13<00:00, 14.43it/s]\n"
     ]
    }
   ],
   "source": [
    "bintree_res = btstrap_cv_score(data_train, pipe_bintree)"
   ]
  },
  {
   "cell_type": "code",
   "execution_count": 24,
   "id": "327cc785-3259-4bcc-8c1c-5877b0edbed3",
   "metadata": {},
   "outputs": [
    {
     "data": {
      "text/plain": [
       "array([3130, 2809, 2714, 2708, 2385, 2702, 2676, 2593, 2703, 2822, 2634,\n",
       "       2725, 2721, 2899, 2888, 3011, 2890, 2598, 2931, 2808, 3019, 2685,\n",
       "       2675, 2686, 2678, 2620, 2765, 2821, 2930, 2856, 2871, 2598, 2783,\n",
       "       2846, 2693, 2628, 3000, 2829, 2863, 2638, 2803, 2809, 2707, 3112,\n",
       "       2822, 2610, 3034, 2922, 2844, 2747, 2877, 3006, 2581, 2767, 2775,\n",
       "       2870, 2909, 2790, 2668, 2873, 2611, 2565, 2924, 2746, 2550, 2882,\n",
       "       2616, 2745, 2786, 2872, 3020, 2775, 2788, 2694, 2687, 2820, 2789,\n",
       "       2582, 2694, 2686, 2655, 2566, 2788, 2889, 2807, 2860, 2814, 2813,\n",
       "       2780, 3096, 2901, 2533, 2769, 2701, 2844, 2667, 2822, 2835, 2721,\n",
       "       2744, 2837, 2713, 2890, 2755, 2511, 2636, 2937, 2877, 2760, 2704,\n",
       "       2882, 2921, 2754, 2759, 2572, 2831, 2727, 2821, 2886, 2732, 2827,\n",
       "       2950, 2576, 2794, 2734, 2930, 2680, 2745, 2702, 2965, 2917, 2793,\n",
       "       2876, 2896, 2992, 2838, 2607, 2983, 2696, 2707, 2970, 2864, 2766,\n",
       "       2713, 2828, 2937, 2507, 2799, 2720, 2641, 2898, 2641, 2812, 2997,\n",
       "       2854, 2846, 2812, 2782, 2353, 2847, 2804, 2617, 2736, 3033, 2629,\n",
       "       2888, 2832, 2667, 2765, 2909, 2848, 2746, 2756, 2851, 2560, 2763,\n",
       "       2946, 3043, 2681, 2932, 2653, 2670, 2706, 2713, 2666, 2837, 2709,\n",
       "       2726, 2746, 2703, 2620, 2673, 2872, 2845, 2821, 2730, 2759, 2611,\n",
       "       2855, 2866])"
      ]
     },
     "execution_count": 24,
     "metadata": {},
     "output_type": "execute_result"
    }
   ],
   "source": [
    "bintree_res"
   ]
  },
  {
   "cell_type": "code",
   "execution_count": 25,
   "id": "ea73aacc",
   "metadata": {},
   "outputs": [],
   "source": [
    "bintree_df = pd.DataFrame(data=bintree_res, columns=['means'])"
   ]
  },
  {
   "cell_type": "markdown",
   "id": "ad5f3f5c",
   "metadata": {},
   "source": [
    "**BUILD HISTOGRAM**"
   ]
  },
  {
   "cell_type": "code",
   "execution_count": 26,
   "id": "ade0d67e",
   "metadata": {},
   "outputs": [
    {
     "data": {
      "text/plain": [
       "array([[<AxesSubplot:title={'center':'means'}>]], dtype=object)"
      ]
     },
     "execution_count": 26,
     "metadata": {},
     "output_type": "execute_result"
    },
    {
     "data": {
      "image/png": "[encoded data removed]",
      "text/plain": [
       "<Figure size 640x480 with 1 Axes>"
      ]
     },
     "metadata": {},
     "output_type": "display_data"
    }
   ],
   "source": [
    "bintree_df.hist(bins=20)"
   ]
  },
  {
   "cell_type": "code",
   "execution_count": 27,
   "id": "3a30ace3",
   "metadata": {},
   "outputs": [
    {
     "name": "stderr",
     "output_type": "stream",
     "text": [
      "C:\\Users\\IvanZ\\AppData\\Local\\Temp\\ipykernel_17800\\2307373638.py:1: DeprecationWarning: Use of keyword argument `alpha` for method `interval` is deprecated. Use first positional argument or keyword argument `confidence` instead.\n",
      "  st.t.interval(alpha=0.95, df=len(bintree_res)-1, loc=np.mean(bintree_res), scale=st.sem(bintree_res), )\n"
     ]
    },
    {
     "data": {
      "text/plain": [
       "(2761.256085596835, 2797.5539144031654)"
      ]
     },
     "execution_count": 27,
     "metadata": {},
     "output_type": "execute_result"
    }
   ],
   "source": [
    "st.t.interval(alpha=0.95, df=len(bintree_res)-1, loc=np.mean(bintree_res), scale=st.sem(bintree_res), )"
   ]
  },
  {
   "cell_type": "markdown",
   "id": "f09533e9-2711-4e2b-b696-edec943fb1de",
   "metadata": {},
   "source": [
    "# **GRADIENT BOOST**"
   ]
  },
  {
   "cell_type": "markdown",
   "id": "3ef97d74-9b5a-4cec-a433-3efbd838acc4",
   "metadata": {},
   "source": [
    "**CREATE TRANSFORMER**"
   ]
  },
  {
   "cell_type": "code",
   "execution_count": 28,
   "id": "24f557bf-a516-4d38-b328-1a19ea40158d",
   "metadata": {},
   "outputs": [],
   "source": [
    "grad_boost_trans = ColumnTransformer([\n",
    "    ('encode_ord', OrdinalEncoder(handle_unknown='use_encoded_value', unknown_value=-1), ['sex', 'smoker', 'region']),\n",
    "], remainder='passthrough')"
   ]
  },
  {
   "cell_type": "markdown",
   "id": "70534c02-881f-494a-a393-1482fdaabbe3",
   "metadata": {},
   "source": [
    "**BUILD PIPELINE**"
   ]
  },
  {
   "cell_type": "code",
   "execution_count": 29,
   "id": "ae6d12c8-979b-44ea-94e3-67004872fc59",
   "metadata": {},
   "outputs": [],
   "source": [
    "pipe_grad_boost = Pipeline([\n",
    "    ('grad_boost_trans', grad_boost_trans), \n",
    "    ('grad_boost', HistGradientBoostingRegressor(learning_rate=0.01, loss='absolute_error'))\n",
    "])"
   ]
  },
  {
   "cell_type": "code",
   "execution_count": 30,
   "id": "600f8c88-661a-4d74-95bb-30e241c3ae98",
   "metadata": {},
   "outputs": [
    {
     "name": "stderr",
     "output_type": "stream",
     "text": [
      " 20%|███████████████▊                                                                 | 39/200 [04:55<20:18,  7.57s/it]\n"
     ]
    },
    {
     "ename": "KeyboardInterrupt",
     "evalue": "",
     "output_type": "error",
     "traceback": [
      "\u001b[1;31m---------------------------------------------------------------------------\u001b[0m",
      "\u001b[1;31mKeyboardInterrupt\u001b[0m                         Traceback (most recent call last)",
      "\u001b[1;32m~\\AppData\\Local\\Temp\\ipykernel_17800\\1847000018.py\u001b[0m in \u001b[0;36m<module>\u001b[1;34m\u001b[0m\n\u001b[1;32m----> 1\u001b[1;33m \u001b[0mgradboost_res\u001b[0m \u001b[1;33m=\u001b[0m \u001b[0mbtstrap_cv_score\u001b[0m\u001b[1;33m(\u001b[0m\u001b[0mdata_train\u001b[0m\u001b[1;33m,\u001b[0m \u001b[0mpipe_grad_boost\u001b[0m\u001b[1;33m)\u001b[0m\u001b[1;33m\u001b[0m\u001b[1;33m\u001b[0m\u001b[0m\n\u001b[0m",
      "\u001b[1;32m~\\AppData\\Local\\Temp\\ipykernel_17800\\2989684819.py\u001b[0m in \u001b[0;36mbtstrap_cv_score\u001b[1;34m(data, pipe)\u001b[0m\n\u001b[0;32m      3\u001b[0m     \u001b[1;32mfor\u001b[0m \u001b[0mi\u001b[0m \u001b[1;32min\u001b[0m \u001b[0mtqdm\u001b[0m\u001b[1;33m(\u001b[0m\u001b[0mrange\u001b[0m\u001b[1;33m(\u001b[0m\u001b[1;36m200\u001b[0m\u001b[1;33m)\u001b[0m\u001b[1;33m)\u001b[0m\u001b[1;33m:\u001b[0m\u001b[1;33m\u001b[0m\u001b[1;33m\u001b[0m\u001b[0m\n\u001b[0;32m      4\u001b[0m         \u001b[0mresampled_data\u001b[0m \u001b[1;33m=\u001b[0m \u001b[0mdata\u001b[0m\u001b[1;33m.\u001b[0m\u001b[0msample\u001b[0m\u001b[1;33m(\u001b[0m\u001b[0mfrac\u001b[0m\u001b[1;33m=\u001b[0m\u001b[1;36m0.7\u001b[0m\u001b[1;33m)\u001b[0m\u001b[1;33m\u001b[0m\u001b[1;33m\u001b[0m\u001b[0m\n\u001b[1;32m----> 5\u001b[1;33m         res[i] = -np.mean(cross_validate(pipe,\n\u001b[0m\u001b[0;32m      6\u001b[0m                                          \u001b[0mresampled_data\u001b[0m\u001b[1;33m.\u001b[0m\u001b[0mloc\u001b[0m\u001b[1;33m[\u001b[0m\u001b[1;33m:\u001b[0m\u001b[1;33m,\u001b[0m \u001b[1;33m~\u001b[0m\u001b[0mresampled_data\u001b[0m\u001b[1;33m.\u001b[0m\u001b[0mcolumns\u001b[0m\u001b[1;33m.\u001b[0m\u001b[0misin\u001b[0m\u001b[1;33m(\u001b[0m\u001b[1;33m[\u001b[0m\u001b[1;34m'charges'\u001b[0m\u001b[1;33m]\u001b[0m\u001b[1;33m)\u001b[0m\u001b[1;33m]\u001b[0m\u001b[1;33m,\u001b[0m\u001b[1;33m\u001b[0m\u001b[1;33m\u001b[0m\u001b[0m\n\u001b[0;32m      7\u001b[0m                                          \u001b[0mresampled_data\u001b[0m\u001b[1;33m[\u001b[0m\u001b[1;34m'charges'\u001b[0m\u001b[1;33m]\u001b[0m\u001b[1;33m,\u001b[0m\u001b[1;33m\u001b[0m\u001b[1;33m\u001b[0m\u001b[0m\n",
      "\u001b[1;32m~\\anaconda3\\lib\\site-packages\\sklearn\\model_selection\\_validation.py\u001b[0m in \u001b[0;36mcross_validate\u001b[1;34m(estimator, X, y, groups, scoring, cv, n_jobs, verbose, fit_params, pre_dispatch, return_train_score, return_estimator, error_score)\u001b[0m\n\u001b[0;32m    265\u001b[0m     \u001b[1;31m# independent, and that it is pickle-able.\u001b[0m\u001b[1;33m\u001b[0m\u001b[1;33m\u001b[0m\u001b[0m\n\u001b[0;32m    266\u001b[0m     \u001b[0mparallel\u001b[0m \u001b[1;33m=\u001b[0m \u001b[0mParallel\u001b[0m\u001b[1;33m(\u001b[0m\u001b[0mn_jobs\u001b[0m\u001b[1;33m=\u001b[0m\u001b[0mn_jobs\u001b[0m\u001b[1;33m,\u001b[0m \u001b[0mverbose\u001b[0m\u001b[1;33m=\u001b[0m\u001b[0mverbose\u001b[0m\u001b[1;33m,\u001b[0m \u001b[0mpre_dispatch\u001b[0m\u001b[1;33m=\u001b[0m\u001b[0mpre_dispatch\u001b[0m\u001b[1;33m)\u001b[0m\u001b[1;33m\u001b[0m\u001b[1;33m\u001b[0m\u001b[0m\n\u001b[1;32m--> 267\u001b[1;33m     results = parallel(\n\u001b[0m\u001b[0;32m    268\u001b[0m         delayed(_fit_and_score)(\n\u001b[0;32m    269\u001b[0m             \u001b[0mclone\u001b[0m\u001b[1;33m(\u001b[0m\u001b[0mestimator\u001b[0m\u001b[1;33m)\u001b[0m\u001b[1;33m,\u001b[0m\u001b[1;33m\u001b[0m\u001b[1;33m\u001b[0m\u001b[0m\n",
      "\u001b[1;32m~\\anaconda3\\lib\\site-packages\\joblib\\parallel.py\u001b[0m in \u001b[0;36m__call__\u001b[1;34m(self, iterable)\u001b[0m\n\u001b[0;32m   1044\u001b[0m                 \u001b[0mself\u001b[0m\u001b[1;33m.\u001b[0m\u001b[0m_iterating\u001b[0m \u001b[1;33m=\u001b[0m \u001b[0mself\u001b[0m\u001b[1;33m.\u001b[0m\u001b[0m_original_iterator\u001b[0m \u001b[1;32mis\u001b[0m \u001b[1;32mnot\u001b[0m \u001b[1;32mNone\u001b[0m\u001b[1;33m\u001b[0m\u001b[1;33m\u001b[0m\u001b[0m\n\u001b[0;32m   1045\u001b[0m \u001b[1;33m\u001b[0m\u001b[0m\n\u001b[1;32m-> 1046\u001b[1;33m             \u001b[1;32mwhile\u001b[0m \u001b[0mself\u001b[0m\u001b[1;33m.\u001b[0m\u001b[0mdispatch_one_batch\u001b[0m\u001b[1;33m(\u001b[0m\u001b[0miterator\u001b[0m\u001b[1;33m)\u001b[0m\u001b[1;33m:\u001b[0m\u001b[1;33m\u001b[0m\u001b[1;33m\u001b[0m\u001b[0m\n\u001b[0m\u001b[0;32m   1047\u001b[0m                 \u001b[1;32mpass\u001b[0m\u001b[1;33m\u001b[0m\u001b[1;33m\u001b[0m\u001b[0m\n\u001b[0;32m   1048\u001b[0m \u001b[1;33m\u001b[0m\u001b[0m\n",
      "\u001b[1;32m~\\anaconda3\\lib\\site-packages\\joblib\\parallel.py\u001b[0m in \u001b[0;36mdispatch_one_batch\u001b[1;34m(self, iterator)\u001b[0m\n\u001b[0;32m    859\u001b[0m                 \u001b[1;32mreturn\u001b[0m \u001b[1;32mFalse\u001b[0m\u001b[1;33m\u001b[0m\u001b[1;33m\u001b[0m\u001b[0m\n\u001b[0;32m    860\u001b[0m             \u001b[1;32melse\u001b[0m\u001b[1;33m:\u001b[0m\u001b[1;33m\u001b[0m\u001b[1;33m\u001b[0m\u001b[0m\n\u001b[1;32m--> 861\u001b[1;33m                 \u001b[0mself\u001b[0m\u001b[1;33m.\u001b[0m\u001b[0m_dispatch\u001b[0m\u001b[1;33m(\u001b[0m\u001b[0mtasks\u001b[0m\u001b[1;33m)\u001b[0m\u001b[1;33m\u001b[0m\u001b[1;33m\u001b[0m\u001b[0m\n\u001b[0m\u001b[0;32m    862\u001b[0m                 \u001b[1;32mreturn\u001b[0m \u001b[1;32mTrue\u001b[0m\u001b[1;33m\u001b[0m\u001b[1;33m\u001b[0m\u001b[0m\n\u001b[0;32m    863\u001b[0m \u001b[1;33m\u001b[0m\u001b[0m\n",
      "\u001b[1;32m~\\anaconda3\\lib\\site-packages\\joblib\\parallel.py\u001b[0m in \u001b[0;36m_dispatch\u001b[1;34m(self, batch)\u001b[0m\n\u001b[0;32m    777\u001b[0m         \u001b[1;32mwith\u001b[0m \u001b[0mself\u001b[0m\u001b[1;33m.\u001b[0m\u001b[0m_lock\u001b[0m\u001b[1;33m:\u001b[0m\u001b[1;33m\u001b[0m\u001b[1;33m\u001b[0m\u001b[0m\n\u001b[0;32m    778\u001b[0m             \u001b[0mjob_idx\u001b[0m \u001b[1;33m=\u001b[0m \u001b[0mlen\u001b[0m\u001b[1;33m(\u001b[0m\u001b[0mself\u001b[0m\u001b[1;33m.\u001b[0m\u001b[0m_jobs\u001b[0m\u001b[1;33m)\u001b[0m\u001b[1;33m\u001b[0m\u001b[1;33m\u001b[0m\u001b[0m\n\u001b[1;32m--> 779\u001b[1;33m             \u001b[0mjob\u001b[0m \u001b[1;33m=\u001b[0m \u001b[0mself\u001b[0m\u001b[1;33m.\u001b[0m\u001b[0m_backend\u001b[0m\u001b[1;33m.\u001b[0m\u001b[0mapply_async\u001b[0m\u001b[1;33m(\u001b[0m\u001b[0mbatch\u001b[0m\u001b[1;33m,\u001b[0m \u001b[0mcallback\u001b[0m\u001b[1;33m=\u001b[0m\u001b[0mcb\u001b[0m\u001b[1;33m)\u001b[0m\u001b[1;33m\u001b[0m\u001b[1;33m\u001b[0m\u001b[0m\n\u001b[0m\u001b[0;32m    780\u001b[0m             \u001b[1;31m# A job can complete so quickly than its callback is\u001b[0m\u001b[1;33m\u001b[0m\u001b[1;33m\u001b[0m\u001b[0m\n\u001b[0;32m    781\u001b[0m             \u001b[1;31m# called before we get here, causing self._jobs to\u001b[0m\u001b[1;33m\u001b[0m\u001b[1;33m\u001b[0m\u001b[0m\n",
      "\u001b[1;32m~\\anaconda3\\lib\\site-packages\\joblib\\_parallel_backends.py\u001b[0m in \u001b[0;36mapply_async\u001b[1;34m(self, func, callback)\u001b[0m\n\u001b[0;32m    206\u001b[0m     \u001b[1;32mdef\u001b[0m \u001b[0mapply_async\u001b[0m\u001b[1;33m(\u001b[0m\u001b[0mself\u001b[0m\u001b[1;33m,\u001b[0m \u001b[0mfunc\u001b[0m\u001b[1;33m,\u001b[0m \u001b[0mcallback\u001b[0m\u001b[1;33m=\u001b[0m\u001b[1;32mNone\u001b[0m\u001b[1;33m)\u001b[0m\u001b[1;33m:\u001b[0m\u001b[1;33m\u001b[0m\u001b[1;33m\u001b[0m\u001b[0m\n\u001b[0;32m    207\u001b[0m         \u001b[1;34m\"\"\"Schedule a func to be run\"\"\"\u001b[0m\u001b[1;33m\u001b[0m\u001b[1;33m\u001b[0m\u001b[0m\n\u001b[1;32m--> 208\u001b[1;33m         \u001b[0mresult\u001b[0m \u001b[1;33m=\u001b[0m \u001b[0mImmediateResult\u001b[0m\u001b[1;33m(\u001b[0m\u001b[0mfunc\u001b[0m\u001b[1;33m)\u001b[0m\u001b[1;33m\u001b[0m\u001b[1;33m\u001b[0m\u001b[0m\n\u001b[0m\u001b[0;32m    209\u001b[0m         \u001b[1;32mif\u001b[0m \u001b[0mcallback\u001b[0m\u001b[1;33m:\u001b[0m\u001b[1;33m\u001b[0m\u001b[1;33m\u001b[0m\u001b[0m\n\u001b[0;32m    210\u001b[0m             \u001b[0mcallback\u001b[0m\u001b[1;33m(\u001b[0m\u001b[0mresult\u001b[0m\u001b[1;33m)\u001b[0m\u001b[1;33m\u001b[0m\u001b[1;33m\u001b[0m\u001b[0m\n",
      "\u001b[1;32m~\\anaconda3\\lib\\site-packages\\joblib\\_parallel_backends.py\u001b[0m in \u001b[0;36m__init__\u001b[1;34m(self, batch)\u001b[0m\n\u001b[0;32m    570\u001b[0m         \u001b[1;31m# Don't delay the application, to avoid keeping the input\u001b[0m\u001b[1;33m\u001b[0m\u001b[1;33m\u001b[0m\u001b[0m\n\u001b[0;32m    571\u001b[0m         \u001b[1;31m# arguments in memory\u001b[0m\u001b[1;33m\u001b[0m\u001b[1;33m\u001b[0m\u001b[0m\n\u001b[1;32m--> 572\u001b[1;33m         \u001b[0mself\u001b[0m\u001b[1;33m.\u001b[0m\u001b[0mresults\u001b[0m \u001b[1;33m=\u001b[0m \u001b[0mbatch\u001b[0m\u001b[1;33m(\u001b[0m\u001b[1;33m)\u001b[0m\u001b[1;33m\u001b[0m\u001b[1;33m\u001b[0m\u001b[0m\n\u001b[0m\u001b[0;32m    573\u001b[0m \u001b[1;33m\u001b[0m\u001b[0m\n\u001b[0;32m    574\u001b[0m     \u001b[1;32mdef\u001b[0m \u001b[0mget\u001b[0m\u001b[1;33m(\u001b[0m\u001b[0mself\u001b[0m\u001b[1;33m)\u001b[0m\u001b[1;33m:\u001b[0m\u001b[1;33m\u001b[0m\u001b[1;33m\u001b[0m\u001b[0m\n",
      "\u001b[1;32m~\\anaconda3\\lib\\site-packages\\joblib\\parallel.py\u001b[0m in \u001b[0;36m__call__\u001b[1;34m(self)\u001b[0m\n\u001b[0;32m    260\u001b[0m         \u001b[1;31m# change the default number of processes to -1\u001b[0m\u001b[1;33m\u001b[0m\u001b[1;33m\u001b[0m\u001b[0m\n\u001b[0;32m    261\u001b[0m         \u001b[1;32mwith\u001b[0m \u001b[0mparallel_backend\u001b[0m\u001b[1;33m(\u001b[0m\u001b[0mself\u001b[0m\u001b[1;33m.\u001b[0m\u001b[0m_backend\u001b[0m\u001b[1;33m,\u001b[0m \u001b[0mn_jobs\u001b[0m\u001b[1;33m=\u001b[0m\u001b[0mself\u001b[0m\u001b[1;33m.\u001b[0m\u001b[0m_n_jobs\u001b[0m\u001b[1;33m)\u001b[0m\u001b[1;33m:\u001b[0m\u001b[1;33m\u001b[0m\u001b[1;33m\u001b[0m\u001b[0m\n\u001b[1;32m--> 262\u001b[1;33m             return [func(*args, **kwargs)\n\u001b[0m\u001b[0;32m    263\u001b[0m                     for func, args, kwargs in self.items]\n\u001b[0;32m    264\u001b[0m \u001b[1;33m\u001b[0m\u001b[0m\n",
      "\u001b[1;32m~\\anaconda3\\lib\\site-packages\\joblib\\parallel.py\u001b[0m in \u001b[0;36m<listcomp>\u001b[1;34m(.0)\u001b[0m\n\u001b[0;32m    260\u001b[0m         \u001b[1;31m# change the default number of processes to -1\u001b[0m\u001b[1;33m\u001b[0m\u001b[1;33m\u001b[0m\u001b[0m\n\u001b[0;32m    261\u001b[0m         \u001b[1;32mwith\u001b[0m \u001b[0mparallel_backend\u001b[0m\u001b[1;33m(\u001b[0m\u001b[0mself\u001b[0m\u001b[1;33m.\u001b[0m\u001b[0m_backend\u001b[0m\u001b[1;33m,\u001b[0m \u001b[0mn_jobs\u001b[0m\u001b[1;33m=\u001b[0m\u001b[0mself\u001b[0m\u001b[1;33m.\u001b[0m\u001b[0m_n_jobs\u001b[0m\u001b[1;33m)\u001b[0m\u001b[1;33m:\u001b[0m\u001b[1;33m\u001b[0m\u001b[1;33m\u001b[0m\u001b[0m\n\u001b[1;32m--> 262\u001b[1;33m             return [func(*args, **kwargs)\n\u001b[0m\u001b[0;32m    263\u001b[0m                     for func, args, kwargs in self.items]\n\u001b[0;32m    264\u001b[0m \u001b[1;33m\u001b[0m\u001b[0m\n",
      "\u001b[1;32m~\\anaconda3\\lib\\site-packages\\sklearn\\utils\\fixes.py\u001b[0m in \u001b[0;36m__call__\u001b[1;34m(self, *args, **kwargs)\u001b[0m\n\u001b[0;32m    214\u001b[0m     \u001b[1;32mdef\u001b[0m \u001b[0m__call__\u001b[0m\u001b[1;33m(\u001b[0m\u001b[0mself\u001b[0m\u001b[1;33m,\u001b[0m \u001b[1;33m*\u001b[0m\u001b[0margs\u001b[0m\u001b[1;33m,\u001b[0m \u001b[1;33m**\u001b[0m\u001b[0mkwargs\u001b[0m\u001b[1;33m)\u001b[0m\u001b[1;33m:\u001b[0m\u001b[1;33m\u001b[0m\u001b[1;33m\u001b[0m\u001b[0m\n\u001b[0;32m    215\u001b[0m         \u001b[1;32mwith\u001b[0m \u001b[0mconfig_context\u001b[0m\u001b[1;33m(\u001b[0m\u001b[1;33m**\u001b[0m\u001b[0mself\u001b[0m\u001b[1;33m.\u001b[0m\u001b[0mconfig\u001b[0m\u001b[1;33m)\u001b[0m\u001b[1;33m:\u001b[0m\u001b[1;33m\u001b[0m\u001b[1;33m\u001b[0m\u001b[0m\n\u001b[1;32m--> 216\u001b[1;33m             \u001b[1;32mreturn\u001b[0m \u001b[0mself\u001b[0m\u001b[1;33m.\u001b[0m\u001b[0mfunction\u001b[0m\u001b[1;33m(\u001b[0m\u001b[1;33m*\u001b[0m\u001b[0margs\u001b[0m\u001b[1;33m,\u001b[0m \u001b[1;33m**\u001b[0m\u001b[0mkwargs\u001b[0m\u001b[1;33m)\u001b[0m\u001b[1;33m\u001b[0m\u001b[1;33m\u001b[0m\u001b[0m\n\u001b[0m\u001b[0;32m    217\u001b[0m \u001b[1;33m\u001b[0m\u001b[0m\n\u001b[0;32m    218\u001b[0m \u001b[1;33m\u001b[0m\u001b[0m\n",
      "\u001b[1;32m~\\anaconda3\\lib\\site-packages\\sklearn\\model_selection\\_validation.py\u001b[0m in \u001b[0;36m_fit_and_score\u001b[1;34m(estimator, X, y, scorer, train, test, verbose, parameters, fit_params, return_train_score, return_parameters, return_n_test_samples, return_times, return_estimator, split_progress, candidate_progress, error_score)\u001b[0m\n\u001b[0;32m    678\u001b[0m             \u001b[0mestimator\u001b[0m\u001b[1;33m.\u001b[0m\u001b[0mfit\u001b[0m\u001b[1;33m(\u001b[0m\u001b[0mX_train\u001b[0m\u001b[1;33m,\u001b[0m \u001b[1;33m**\u001b[0m\u001b[0mfit_params\u001b[0m\u001b[1;33m)\u001b[0m\u001b[1;33m\u001b[0m\u001b[1;33m\u001b[0m\u001b[0m\n\u001b[0;32m    679\u001b[0m         \u001b[1;32melse\u001b[0m\u001b[1;33m:\u001b[0m\u001b[1;33m\u001b[0m\u001b[1;33m\u001b[0m\u001b[0m\n\u001b[1;32m--> 680\u001b[1;33m             \u001b[0mestimator\u001b[0m\u001b[1;33m.\u001b[0m\u001b[0mfit\u001b[0m\u001b[1;33m(\u001b[0m\u001b[0mX_train\u001b[0m\u001b[1;33m,\u001b[0m \u001b[0my_train\u001b[0m\u001b[1;33m,\u001b[0m \u001b[1;33m**\u001b[0m\u001b[0mfit_params\u001b[0m\u001b[1;33m)\u001b[0m\u001b[1;33m\u001b[0m\u001b[1;33m\u001b[0m\u001b[0m\n\u001b[0m\u001b[0;32m    681\u001b[0m \u001b[1;33m\u001b[0m\u001b[0m\n\u001b[0;32m    682\u001b[0m     \u001b[1;32mexcept\u001b[0m \u001b[0mException\u001b[0m\u001b[1;33m:\u001b[0m\u001b[1;33m\u001b[0m\u001b[1;33m\u001b[0m\u001b[0m\n",
      "\u001b[1;32m~\\anaconda3\\lib\\site-packages\\sklearn\\pipeline.py\u001b[0m in \u001b[0;36mfit\u001b[1;34m(self, X, y, **fit_params)\u001b[0m\n\u001b[0;32m    392\u001b[0m             \u001b[1;32mif\u001b[0m \u001b[0mself\u001b[0m\u001b[1;33m.\u001b[0m\u001b[0m_final_estimator\u001b[0m \u001b[1;33m!=\u001b[0m \u001b[1;34m\"passthrough\"\u001b[0m\u001b[1;33m:\u001b[0m\u001b[1;33m\u001b[0m\u001b[1;33m\u001b[0m\u001b[0m\n\u001b[0;32m    393\u001b[0m                 \u001b[0mfit_params_last_step\u001b[0m \u001b[1;33m=\u001b[0m \u001b[0mfit_params_steps\u001b[0m\u001b[1;33m[\u001b[0m\u001b[0mself\u001b[0m\u001b[1;33m.\u001b[0m\u001b[0msteps\u001b[0m\u001b[1;33m[\u001b[0m\u001b[1;33m-\u001b[0m\u001b[1;36m1\u001b[0m\u001b[1;33m]\u001b[0m\u001b[1;33m[\u001b[0m\u001b[1;36m0\u001b[0m\u001b[1;33m]\u001b[0m\u001b[1;33m]\u001b[0m\u001b[1;33m\u001b[0m\u001b[1;33m\u001b[0m\u001b[0m\n\u001b[1;32m--> 394\u001b[1;33m                 \u001b[0mself\u001b[0m\u001b[1;33m.\u001b[0m\u001b[0m_final_estimator\u001b[0m\u001b[1;33m.\u001b[0m\u001b[0mfit\u001b[0m\u001b[1;33m(\u001b[0m\u001b[0mXt\u001b[0m\u001b[1;33m,\u001b[0m \u001b[0my\u001b[0m\u001b[1;33m,\u001b[0m \u001b[1;33m**\u001b[0m\u001b[0mfit_params_last_step\u001b[0m\u001b[1;33m)\u001b[0m\u001b[1;33m\u001b[0m\u001b[1;33m\u001b[0m\u001b[0m\n\u001b[0m\u001b[0;32m    395\u001b[0m \u001b[1;33m\u001b[0m\u001b[0m\n\u001b[0;32m    396\u001b[0m         \u001b[1;32mreturn\u001b[0m \u001b[0mself\u001b[0m\u001b[1;33m\u001b[0m\u001b[1;33m\u001b[0m\u001b[0m\n",
      "\u001b[1;32m~\\anaconda3\\lib\\site-packages\\sklearn\\ensemble\\_hist_gradient_boosting\\gradient_boosting.py\u001b[0m in \u001b[0;36mfit\u001b[1;34m(self, X, y, sample_weight)\u001b[0m\n\u001b[0;32m    524\u001b[0m                     \u001b[0mn_threads\u001b[0m\u001b[1;33m=\u001b[0m\u001b[0mn_threads\u001b[0m\u001b[1;33m,\u001b[0m\u001b[1;33m\u001b[0m\u001b[1;33m\u001b[0m\u001b[0m\n\u001b[0;32m    525\u001b[0m                 )\n\u001b[1;32m--> 526\u001b[1;33m                 \u001b[0mgrower\u001b[0m\u001b[1;33m.\u001b[0m\u001b[0mgrow\u001b[0m\u001b[1;33m(\u001b[0m\u001b[1;33m)\u001b[0m\u001b[1;33m\u001b[0m\u001b[1;33m\u001b[0m\u001b[0m\n\u001b[0m\u001b[0;32m    527\u001b[0m \u001b[1;33m\u001b[0m\u001b[0m\n\u001b[0;32m    528\u001b[0m                 \u001b[0macc_apply_split_time\u001b[0m \u001b[1;33m+=\u001b[0m \u001b[0mgrower\u001b[0m\u001b[1;33m.\u001b[0m\u001b[0mtotal_apply_split_time\u001b[0m\u001b[1;33m\u001b[0m\u001b[1;33m\u001b[0m\u001b[0m\n",
      "\u001b[1;32m~\\anaconda3\\lib\\site-packages\\sklearn\\ensemble\\_hist_gradient_boosting\\grower.py\u001b[0m in \u001b[0;36mgrow\u001b[1;34m(self)\u001b[0m\n\u001b[0;32m    358\u001b[0m         \u001b[1;34m\"\"\"Grow the tree, from root to leaves.\"\"\"\u001b[0m\u001b[1;33m\u001b[0m\u001b[1;33m\u001b[0m\u001b[0m\n\u001b[0;32m    359\u001b[0m         \u001b[1;32mwhile\u001b[0m \u001b[0mself\u001b[0m\u001b[1;33m.\u001b[0m\u001b[0msplittable_nodes\u001b[0m\u001b[1;33m:\u001b[0m\u001b[1;33m\u001b[0m\u001b[1;33m\u001b[0m\u001b[0m\n\u001b[1;32m--> 360\u001b[1;33m             \u001b[0mself\u001b[0m\u001b[1;33m.\u001b[0m\u001b[0msplit_next\u001b[0m\u001b[1;33m(\u001b[0m\u001b[1;33m)\u001b[0m\u001b[1;33m\u001b[0m\u001b[1;33m\u001b[0m\u001b[0m\n\u001b[0m\u001b[0;32m    361\u001b[0m \u001b[1;33m\u001b[0m\u001b[0m\n\u001b[0;32m    362\u001b[0m         \u001b[0mself\u001b[0m\u001b[1;33m.\u001b[0m\u001b[0m_apply_shrinkage\u001b[0m\u001b[1;33m(\u001b[0m\u001b[1;33m)\u001b[0m\u001b[1;33m\u001b[0m\u001b[1;33m\u001b[0m\u001b[0m\n",
      "\u001b[1;32m~\\anaconda3\\lib\\site-packages\\sklearn\\ensemble\\_hist_gradient_boosting\\grower.py\u001b[0m in \u001b[0;36msplit_next\u001b[1;34m(self)\u001b[0m\n\u001b[0;32m    552\u001b[0m             \u001b[1;31m# on the other one.\u001b[0m\u001b[1;33m\u001b[0m\u001b[1;33m\u001b[0m\u001b[0m\n\u001b[0;32m    553\u001b[0m             \u001b[0mtic\u001b[0m \u001b[1;33m=\u001b[0m \u001b[0mtime\u001b[0m\u001b[1;33m(\u001b[0m\u001b[1;33m)\u001b[0m\u001b[1;33m\u001b[0m\u001b[1;33m\u001b[0m\u001b[0m\n\u001b[1;32m--> 554\u001b[1;33m             smallest_child.histograms = self.histogram_builder.compute_histograms_brute(\n\u001b[0m\u001b[0;32m    555\u001b[0m                 \u001b[0msmallest_child\u001b[0m\u001b[1;33m.\u001b[0m\u001b[0msample_indices\u001b[0m\u001b[1;33m\u001b[0m\u001b[1;33m\u001b[0m\u001b[0m\n\u001b[0;32m    556\u001b[0m             )\n",
      "\u001b[1;31mKeyboardInterrupt\u001b[0m: "
     ]
    }
   ],
   "source": [
    "gradboost_res = btstrap_cv_score(data_train, pipe_grad_boost)"
   ]
  },
  {
   "cell_type": "code",
   "execution_count": null,
   "id": "9f3fa7b4-cdba-4cf2-a0cf-70a9238436e1",
   "metadata": {},
   "outputs": [],
   "source": []
  }
 ],
 "metadata": {
  "kernelspec": {
   "display_name": "Python 3 (ipykernel)",
   "language": "python",
   "name": "python3"
  },
  "language_info": {
   "codemirror_mode": {
    "name": "ipython",
    "version": 3
   },
   "file_extension": ".py",
   "mimetype": "text/x-python",
   "name": "python",
   "nbconvert_exporter": "python",
   "pygments_lexer": "ipython3",
   "version": "3.9.13"
  }
 },
 "nbformat": 4,
 "nbformat_minor": 5
}
