{
 "cells": [
  {
   "cell_type": "code",
   "execution_count": 1,
   "metadata": {},
   "outputs": [],
   "source": [
    "import numpy as np\n",
    "import pandas as pd\n",
    "import plotly.express as px\n",
    "import plotly.graph_objects as go\n",
    "from sklearn.preprocessing import OneHotEncoder, StandardScaler, PolynomialFeatures, OrdinalEncoder\n",
    "from sklearn.pipeline import Pipeline\n",
    "from sklearn.compose import ColumnTransformer\n",
    "from sklearn.linear_model import Lasso, Ridge\n",
    "from sklearn.model_selection import GridSearchCV, cross_validate\n",
    "from sklearn.tree import DecisionTreeRegressor\n",
    "from sklearn.metrics import mean_absolute_error as mae\n",
    "from sklearn.ensemble import RandomForestRegressor as RFR, HistGradientBoostingRegressor\n",
    "from  sklearn.utils import resample\n",
    "import scipy.stats as st\n",
    "import math as m\n",
    "from tqdm import tqdm\n",
    "# from lightgbm import RandomForestRegres"
   ]
  },
  {
   "cell_type": "code",
   "execution_count": 2,
   "metadata": {},
   "outputs": [
    {
     "data": {
      "text/html": [
       "<div>\n",
       "<style scoped>\n",
       "    .dataframe tbody tr th:only-of-type {\n",
       "        vertical-align: middle;\n",
       "    }\n",
       "\n",
       "    .dataframe tbody tr th {\n",
       "        vertical-align: top;\n",
       "    }\n",
       "\n",
       "    .dataframe thead th {\n",
       "        text-align: right;\n",
       "    }\n",
       "</style>\n",
       "<table border=\"1\" class=\"dataframe\">\n",
       "  <thead>\n",
       "    <tr style=\"text-align: right;\">\n",
       "      <th></th>\n",
       "      <th>age</th>\n",
       "      <th>sex</th>\n",
       "      <th>bmi</th>\n",
       "      <th>children</th>\n",
       "      <th>smoker</th>\n",
       "      <th>region</th>\n",
       "      <th>charges</th>\n",
       "    </tr>\n",
       "  </thead>\n",
       "  <tbody>\n",
       "    <tr>\n",
       "      <th>483</th>\n",
       "      <td>51</td>\n",
       "      <td>female</td>\n",
       "      <td>39.500</td>\n",
       "      <td>1</td>\n",
       "      <td>no</td>\n",
       "      <td>southwest</td>\n",
       "      <td>9880.06800</td>\n",
       "    </tr>\n",
       "    <tr>\n",
       "      <th>1081</th>\n",
       "      <td>32</td>\n",
       "      <td>male</td>\n",
       "      <td>27.835</td>\n",
       "      <td>1</td>\n",
       "      <td>no</td>\n",
       "      <td>northwest</td>\n",
       "      <td>4454.40265</td>\n",
       "    </tr>\n",
       "    <tr>\n",
       "      <th>1238</th>\n",
       "      <td>37</td>\n",
       "      <td>male</td>\n",
       "      <td>22.705</td>\n",
       "      <td>3</td>\n",
       "      <td>no</td>\n",
       "      <td>northeast</td>\n",
       "      <td>6985.50695</td>\n",
       "    </tr>\n",
       "    <tr>\n",
       "      <th>265</th>\n",
       "      <td>46</td>\n",
       "      <td>male</td>\n",
       "      <td>42.350</td>\n",
       "      <td>3</td>\n",
       "      <td>yes</td>\n",
       "      <td>southeast</td>\n",
       "      <td>46151.12450</td>\n",
       "    </tr>\n",
       "    <tr>\n",
       "      <th>560</th>\n",
       "      <td>46</td>\n",
       "      <td>female</td>\n",
       "      <td>19.950</td>\n",
       "      <td>2</td>\n",
       "      <td>no</td>\n",
       "      <td>northwest</td>\n",
       "      <td>9193.83850</td>\n",
       "    </tr>\n",
       "    <tr>\n",
       "      <th>...</th>\n",
       "      <td>...</td>\n",
       "      <td>...</td>\n",
       "      <td>...</td>\n",
       "      <td>...</td>\n",
       "      <td>...</td>\n",
       "      <td>...</td>\n",
       "      <td>...</td>\n",
       "    </tr>\n",
       "    <tr>\n",
       "      <th>374</th>\n",
       "      <td>20</td>\n",
       "      <td>male</td>\n",
       "      <td>33.330</td>\n",
       "      <td>0</td>\n",
       "      <td>no</td>\n",
       "      <td>southeast</td>\n",
       "      <td>1391.52870</td>\n",
       "    </tr>\n",
       "    <tr>\n",
       "      <th>623</th>\n",
       "      <td>18</td>\n",
       "      <td>male</td>\n",
       "      <td>33.535</td>\n",
       "      <td>0</td>\n",
       "      <td>yes</td>\n",
       "      <td>northeast</td>\n",
       "      <td>34617.84065</td>\n",
       "    </tr>\n",
       "    <tr>\n",
       "      <th>57</th>\n",
       "      <td>18</td>\n",
       "      <td>male</td>\n",
       "      <td>31.680</td>\n",
       "      <td>2</td>\n",
       "      <td>yes</td>\n",
       "      <td>southeast</td>\n",
       "      <td>34303.16720</td>\n",
       "    </tr>\n",
       "    <tr>\n",
       "      <th>130</th>\n",
       "      <td>59</td>\n",
       "      <td>female</td>\n",
       "      <td>26.505</td>\n",
       "      <td>0</td>\n",
       "      <td>no</td>\n",
       "      <td>northeast</td>\n",
       "      <td>12815.44495</td>\n",
       "    </tr>\n",
       "    <tr>\n",
       "      <th>190</th>\n",
       "      <td>61</td>\n",
       "      <td>male</td>\n",
       "      <td>31.570</td>\n",
       "      <td>0</td>\n",
       "      <td>no</td>\n",
       "      <td>southeast</td>\n",
       "      <td>12557.60530</td>\n",
       "    </tr>\n",
       "  </tbody>\n",
       "</table>\n",
       "<p>1204 rows × 7 columns</p>\n",
       "</div>"
      ],
      "text/plain": [
       "      age     sex     bmi  children smoker     region      charges\n",
       "483    51  female  39.500         1     no  southwest   9880.06800\n",
       "1081   32    male  27.835         1     no  northwest   4454.40265\n",
       "1238   37    male  22.705         3     no  northeast   6985.50695\n",
       "265    46    male  42.350         3    yes  southeast  46151.12450\n",
       "560    46  female  19.950         2     no  northwest   9193.83850\n",
       "...   ...     ...     ...       ...    ...        ...          ...\n",
       "374    20    male  33.330         0     no  southeast   1391.52870\n",
       "623    18    male  33.535         0    yes  northeast  34617.84065\n",
       "57     18    male  31.680         2    yes  southeast  34303.16720\n",
       "130    59  female  26.505         0     no  northeast  12815.44495\n",
       "190    61    male  31.570         0     no  southeast  12557.60530\n",
       "\n",
       "[1204 rows x 7 columns]"
      ]
     },
     "execution_count": 2,
     "metadata": {},
     "output_type": "execute_result"
    }
   ],
   "source": [
    "data = pd.read_csv('insurance.csv', sep=',')\n",
    "data_train = data.sample(frac=0.9)\n",
    "data_validate = data.loc[~data.index.isin(data_train.index)]\n",
    "data_train"
   ]
  },
  {
   "cell_type": "markdown",
   "metadata": {},
   "source": [
    "# **L1 CONFIDENCE INTERVAL 95**"
   ]
  },
  {
   "cell_type": "markdown",
   "metadata": {},
   "source": [
    "**CREATE COLUMN TRANSFORMER**"
   ]
  },
  {
   "cell_type": "code",
   "execution_count": 3,
   "metadata": {},
   "outputs": [],
   "source": [
    "col_trans_l1 = ColumnTransformer([\n",
    "    ('scaller', StandardScaler(), ['age', 'bmi', 'children']),\n",
    "    ('hot_encode', OneHotEncoder(handle_unknown='ignore', drop='first'), ['sex', 'smoker', 'region']),\n",
    "], remainder='passthrough')"
   ]
  },
  {
   "cell_type": "markdown",
   "metadata": {},
   "source": [
    "**CREATE PIPE**"
   ]
  },
  {
   "cell_type": "code",
   "execution_count": 4,
   "metadata": {},
   "outputs": [],
   "source": [
    "pipe_l1 = Pipeline([\n",
    "    ('col_trans_l1', col_trans_l1), \n",
    "    ('poly', PolynomialFeatures(degree=4, include_bias=False)), \n",
    "    ('lasso', Lasso(alpha=69.56552173913043))\n",
    "])"
   ]
  },
  {
   "cell_type": "code",
   "execution_count": 5,
   "metadata": {},
   "outputs": [
    {
     "data": {
      "text/html": [
       "<style>#sk-container-id-1 {color: black;background-color: white;}#sk-container-id-1 pre{padding: 0;}#sk-container-id-1 div.sk-toggleable {background-color: white;}#sk-container-id-1 label.sk-toggleable__label {cursor: pointer;display: block;width: 100%;margin-bottom: 0;padding: 0.3em;box-sizing: border-box;text-align: center;}#sk-container-id-1 label.sk-toggleable__label-arrow:before {content: \"▸\";float: left;margin-right: 0.25em;color: #696969;}#sk-container-id-1 label.sk-toggleable__label-arrow:hover:before {color: black;}#sk-container-id-1 div.sk-estimator:hover label.sk-toggleable__label-arrow:before {color: black;}#sk-container-id-1 div.sk-toggleable__content {max-height: 0;max-width: 0;overflow: hidden;text-align: left;background-color: #f0f8ff;}#sk-container-id-1 div.sk-toggleable__content pre {margin: 0.2em;color: black;border-radius: 0.25em;background-color: #f0f8ff;}#sk-container-id-1 input.sk-toggleable__control:checked~div.sk-toggleable__content {max-height: 200px;max-width: 100%;overflow: auto;}#sk-container-id-1 input.sk-toggleable__control:checked~label.sk-toggleable__label-arrow:before {content: \"▾\";}#sk-container-id-1 div.sk-estimator input.sk-toggleable__control:checked~label.sk-toggleable__label {background-color: #d4ebff;}#sk-container-id-1 div.sk-label input.sk-toggleable__control:checked~label.sk-toggleable__label {background-color: #d4ebff;}#sk-container-id-1 input.sk-hidden--visually {border: 0;clip: rect(1px 1px 1px 1px);clip: rect(1px, 1px, 1px, 1px);height: 1px;margin: -1px;overflow: hidden;padding: 0;position: absolute;width: 1px;}#sk-container-id-1 div.sk-estimator {font-family: monospace;background-color: #f0f8ff;border: 1px dotted black;border-radius: 0.25em;box-sizing: border-box;margin-bottom: 0.5em;}#sk-container-id-1 div.sk-estimator:hover {background-color: #d4ebff;}#sk-container-id-1 div.sk-parallel-item::after {content: \"\";width: 100%;border-bottom: 1px solid gray;flex-grow: 1;}#sk-container-id-1 div.sk-label:hover label.sk-toggleable__label {background-color: #d4ebff;}#sk-container-id-1 div.sk-serial::before {content: \"\";position: absolute;border-left: 1px solid gray;box-sizing: border-box;top: 0;bottom: 0;left: 50%;z-index: 0;}#sk-container-id-1 div.sk-serial {display: flex;flex-direction: column;align-items: center;background-color: white;padding-right: 0.2em;padding-left: 0.2em;position: relative;}#sk-container-id-1 div.sk-item {position: relative;z-index: 1;}#sk-container-id-1 div.sk-parallel {display: flex;align-items: stretch;justify-content: center;background-color: white;position: relative;}#sk-container-id-1 div.sk-item::before, #sk-container-id-1 div.sk-parallel-item::before {content: \"\";position: absolute;border-left: 1px solid gray;box-sizing: border-box;top: 0;bottom: 0;left: 50%;z-index: -1;}#sk-container-id-1 div.sk-parallel-item {display: flex;flex-direction: column;z-index: 1;position: relative;background-color: white;}#sk-container-id-1 div.sk-parallel-item:first-child::after {align-self: flex-end;width: 50%;}#sk-container-id-1 div.sk-parallel-item:last-child::after {align-self: flex-start;width: 50%;}#sk-container-id-1 div.sk-parallel-item:only-child::after {width: 0;}#sk-container-id-1 div.sk-dashed-wrapped {border: 1px dashed gray;margin: 0 0.4em 0.5em 0.4em;box-sizing: border-box;padding-bottom: 0.4em;background-color: white;}#sk-container-id-1 div.sk-label label {font-family: monospace;font-weight: bold;display: inline-block;line-height: 1.2em;}#sk-container-id-1 div.sk-label-container {text-align: center;}#sk-container-id-1 div.sk-container {/* jupyter's `normalize.less` sets `[hidden] { display: none; }` but bootstrap.min.css set `[hidden] { display: none !important; }` so we also need the `!important` here to be able to override the default hidden behavior on the sphinx rendered scikit-learn.org. See: https://github.com/scikit-learn/scikit-learn/issues/21755 */display: inline-block !important;position: relative;}#sk-container-id-1 div.sk-text-repr-fallback {display: none;}</style><div id=\"sk-container-id-1\" class=\"sk-top-container\"><div class=\"sk-text-repr-fallback\"><pre>Pipeline(steps=[(&#x27;col_trans_l1&#x27;,\n",
       "                 ColumnTransformer(remainder=&#x27;passthrough&#x27;,\n",
       "                                   transformers=[(&#x27;scaller&#x27;, StandardScaler(),\n",
       "                                                  [&#x27;age&#x27;, &#x27;bmi&#x27;, &#x27;children&#x27;]),\n",
       "                                                 (&#x27;hot_encode&#x27;,\n",
       "                                                  OneHotEncoder(drop=&#x27;first&#x27;,\n",
       "                                                                handle_unknown=&#x27;ignore&#x27;),\n",
       "                                                  [&#x27;sex&#x27;, &#x27;smoker&#x27;,\n",
       "                                                   &#x27;region&#x27;])])),\n",
       "                (&#x27;poly&#x27;, PolynomialFeatures(degree=4, include_bias=False)),\n",
       "                (&#x27;lasso&#x27;, Lasso(alpha=69.56552173913043))])</pre><b>In a Jupyter environment, please rerun this cell to show the HTML representation or trust the notebook. <br />On GitHub, the HTML representation is unable to render, please try loading this page with nbviewer.org.</b></div><div class=\"sk-container\" hidden><div class=\"sk-item sk-dashed-wrapped\"><div class=\"sk-label-container\"><div class=\"sk-label sk-toggleable\"><input class=\"sk-toggleable__control sk-hidden--visually\" id=\"sk-estimator-id-1\" type=\"checkbox\" ><label for=\"sk-estimator-id-1\" class=\"sk-toggleable__label sk-toggleable__label-arrow\">Pipeline</label><div class=\"sk-toggleable__content\"><pre>Pipeline(steps=[(&#x27;col_trans_l1&#x27;,\n",
       "                 ColumnTransformer(remainder=&#x27;passthrough&#x27;,\n",
       "                                   transformers=[(&#x27;scaller&#x27;, StandardScaler(),\n",
       "                                                  [&#x27;age&#x27;, &#x27;bmi&#x27;, &#x27;children&#x27;]),\n",
       "                                                 (&#x27;hot_encode&#x27;,\n",
       "                                                  OneHotEncoder(drop=&#x27;first&#x27;,\n",
       "                                                                handle_unknown=&#x27;ignore&#x27;),\n",
       "                                                  [&#x27;sex&#x27;, &#x27;smoker&#x27;,\n",
       "                                                   &#x27;region&#x27;])])),\n",
       "                (&#x27;poly&#x27;, PolynomialFeatures(degree=4, include_bias=False)),\n",
       "                (&#x27;lasso&#x27;, Lasso(alpha=69.56552173913043))])</pre></div></div></div><div class=\"sk-serial\"><div class=\"sk-item sk-dashed-wrapped\"><div class=\"sk-label-container\"><div class=\"sk-label sk-toggleable\"><input class=\"sk-toggleable__control sk-hidden--visually\" id=\"sk-estimator-id-2\" type=\"checkbox\" ><label for=\"sk-estimator-id-2\" class=\"sk-toggleable__label sk-toggleable__label-arrow\">col_trans_l1: ColumnTransformer</label><div class=\"sk-toggleable__content\"><pre>ColumnTransformer(remainder=&#x27;passthrough&#x27;,\n",
       "                  transformers=[(&#x27;scaller&#x27;, StandardScaler(),\n",
       "                                 [&#x27;age&#x27;, &#x27;bmi&#x27;, &#x27;children&#x27;]),\n",
       "                                (&#x27;hot_encode&#x27;,\n",
       "                                 OneHotEncoder(drop=&#x27;first&#x27;,\n",
       "                                               handle_unknown=&#x27;ignore&#x27;),\n",
       "                                 [&#x27;sex&#x27;, &#x27;smoker&#x27;, &#x27;region&#x27;])])</pre></div></div></div><div class=\"sk-parallel\"><div class=\"sk-parallel-item\"><div class=\"sk-item\"><div class=\"sk-label-container\"><div class=\"sk-label sk-toggleable\"><input class=\"sk-toggleable__control sk-hidden--visually\" id=\"sk-estimator-id-3\" type=\"checkbox\" ><label for=\"sk-estimator-id-3\" class=\"sk-toggleable__label sk-toggleable__label-arrow\">scaller</label><div class=\"sk-toggleable__content\"><pre>[&#x27;age&#x27;, &#x27;bmi&#x27;, &#x27;children&#x27;]</pre></div></div></div><div class=\"sk-serial\"><div class=\"sk-item\"><div class=\"sk-estimator sk-toggleable\"><input class=\"sk-toggleable__control sk-hidden--visually\" id=\"sk-estimator-id-4\" type=\"checkbox\" ><label for=\"sk-estimator-id-4\" class=\"sk-toggleable__label sk-toggleable__label-arrow\">StandardScaler</label><div class=\"sk-toggleable__content\"><pre>StandardScaler()</pre></div></div></div></div></div></div><div class=\"sk-parallel-item\"><div class=\"sk-item\"><div class=\"sk-label-container\"><div class=\"sk-label sk-toggleable\"><input class=\"sk-toggleable__control sk-hidden--visually\" id=\"sk-estimator-id-5\" type=\"checkbox\" ><label for=\"sk-estimator-id-5\" class=\"sk-toggleable__label sk-toggleable__label-arrow\">hot_encode</label><div class=\"sk-toggleable__content\"><pre>[&#x27;sex&#x27;, &#x27;smoker&#x27;, &#x27;region&#x27;]</pre></div></div></div><div class=\"sk-serial\"><div class=\"sk-item\"><div class=\"sk-estimator sk-toggleable\"><input class=\"sk-toggleable__control sk-hidden--visually\" id=\"sk-estimator-id-6\" type=\"checkbox\" ><label for=\"sk-estimator-id-6\" class=\"sk-toggleable__label sk-toggleable__label-arrow\">OneHotEncoder</label><div class=\"sk-toggleable__content\"><pre>OneHotEncoder(drop=&#x27;first&#x27;, handle_unknown=&#x27;ignore&#x27;)</pre></div></div></div></div></div></div><div class=\"sk-parallel-item\"><div class=\"sk-item\"><div class=\"sk-label-container\"><div class=\"sk-label sk-toggleable\"><input class=\"sk-toggleable__control sk-hidden--visually\" id=\"sk-estimator-id-7\" type=\"checkbox\" ><label for=\"sk-estimator-id-7\" class=\"sk-toggleable__label sk-toggleable__label-arrow\">remainder</label><div class=\"sk-toggleable__content\"><pre>[]</pre></div></div></div><div class=\"sk-serial\"><div class=\"sk-item\"><div class=\"sk-estimator sk-toggleable\"><input class=\"sk-toggleable__control sk-hidden--visually\" id=\"sk-estimator-id-8\" type=\"checkbox\" ><label for=\"sk-estimator-id-8\" class=\"sk-toggleable__label sk-toggleable__label-arrow\">passthrough</label><div class=\"sk-toggleable__content\"><pre>passthrough</pre></div></div></div></div></div></div></div></div><div class=\"sk-item\"><div class=\"sk-estimator sk-toggleable\"><input class=\"sk-toggleable__control sk-hidden--visually\" id=\"sk-estimator-id-9\" type=\"checkbox\" ><label for=\"sk-estimator-id-9\" class=\"sk-toggleable__label sk-toggleable__label-arrow\">PolynomialFeatures</label><div class=\"sk-toggleable__content\"><pre>PolynomialFeatures(degree=4, include_bias=False)</pre></div></div></div><div class=\"sk-item\"><div class=\"sk-estimator sk-toggleable\"><input class=\"sk-toggleable__control sk-hidden--visually\" id=\"sk-estimator-id-10\" type=\"checkbox\" ><label for=\"sk-estimator-id-10\" class=\"sk-toggleable__label sk-toggleable__label-arrow\">Lasso</label><div class=\"sk-toggleable__content\"><pre>Lasso(alpha=69.56552173913043)</pre></div></div></div></div></div></div></div>"
      ],
      "text/plain": [
       "Pipeline(steps=[('col_trans_l1',\n",
       "                 ColumnTransformer(remainder='passthrough',\n",
       "                                   transformers=[('scaller', StandardScaler(),\n",
       "                                                  ['age', 'bmi', 'children']),\n",
       "                                                 ('hot_encode',\n",
       "                                                  OneHotEncoder(drop='first',\n",
       "                                                                handle_unknown='ignore'),\n",
       "                                                  ['sex', 'smoker',\n",
       "                                                   'region'])])),\n",
       "                ('poly', PolynomialFeatures(degree=4, include_bias=False)),\n",
       "                ('lasso', Lasso(alpha=69.56552173913043))])"
      ]
     },
     "execution_count": 5,
     "metadata": {},
     "output_type": "execute_result"
    }
   ],
   "source": [
    "pipe_l1.fit(data_train.loc[:, ~data_train.columns.isin(['charges'])], data_train['charges'])"
   ]
  },
  {
   "cell_type": "markdown",
   "metadata": {},
   "source": [
    "**L1 RESULTS- BEST MEAN SCORE**"
   ]
  },
  {
   "cell_type": "code",
   "execution_count": 6,
   "metadata": {},
   "outputs": [],
   "source": [
    "def btstrap_cv_score(data, pipe):\n",
    "    res = np.zeros((1000,), dtype=int)\n",
    "    for i in tqdm(range(1000)):\n",
    "        resampled_data = data.sample(frac=0.7)\n",
    "        res[i] = -np.mean(cross_validate(pipe,\n",
    "                                         resampled_data.loc[:, ~resampled_data.columns.isin(['charges'])],\n",
    "                                         resampled_data['charges'],\n",
    "                                         scoring=('neg_mean_absolute_error',))['test_neg_mean_absolute_error'])\n",
    "    return res"
   ]
  },
  {
   "cell_type": "code",
   "execution_count": 7,
   "metadata": {
    "tags": []
   },
   "outputs": [
    {
     "name": "stderr",
     "output_type": "stream",
     "text": [
      "  3%|██                                                                              | 26/1000 [00:03<01:53,  8.61it/s]D:\\Programming\\Anaconda\\lib\\site-packages\\sklearn\\linear_model\\_coordinate_descent.py:631: ConvergenceWarning: Objective did not converge. You might want to increase the number of iterations, check the scale of the features or consider increasing regularisation. Duality gap: 2.729e+07, tolerance: 1.024e+07\n",
      "  model = cd_fast.enet_coordinate_descent(\n",
      " 23%|██████████████████▏                                                            | 230/1000 [00:31<01:47,  7.13it/s]D:\\Programming\\Anaconda\\lib\\site-packages\\sklearn\\linear_model\\_coordinate_descent.py:631: ConvergenceWarning: Objective did not converge. You might want to increase the number of iterations, check the scale of the features or consider increasing regularisation. Duality gap: 3.123e+07, tolerance: 1.142e+07\n",
      "  model = cd_fast.enet_coordinate_descent(\n",
      " 26%|████████████████████▌                                                          | 261/1000 [00:35<01:46,  6.96it/s]D:\\Programming\\Anaconda\\lib\\site-packages\\sklearn\\linear_model\\_coordinate_descent.py:631: ConvergenceWarning: Objective did not converge. You might want to increase the number of iterations, check the scale of the features or consider increasing regularisation. Duality gap: 1.565e+07, tolerance: 1.014e+07\n",
      "  model = cd_fast.enet_coordinate_descent(\n",
      " 29%|███████████████████████                                                        | 292/1000 [00:40<01:27,  8.13it/s]D:\\Programming\\Anaconda\\lib\\site-packages\\sklearn\\linear_model\\_coordinate_descent.py:631: ConvergenceWarning: Objective did not converge. You might want to increase the number of iterations, check the scale of the features or consider increasing regularisation. Duality gap: 1.316e+07, tolerance: 9.175e+06\n",
      "  model = cd_fast.enet_coordinate_descent(\n",
      " 32%|█████████████████████████▌                                                     | 323/1000 [00:44<01:28,  7.67it/s]D:\\Programming\\Anaconda\\lib\\site-packages\\sklearn\\linear_model\\_coordinate_descent.py:631: ConvergenceWarning: Objective did not converge. You might want to increase the number of iterations, check the scale of the features or consider increasing regularisation. Duality gap: 1.871e+07, tolerance: 1.067e+07\n",
      "  model = cd_fast.enet_coordinate_descent(\n",
      " 34%|███████████████████████████                                                    | 342/1000 [00:47<01:46,  6.20it/s]D:\\Programming\\Anaconda\\lib\\site-packages\\sklearn\\linear_model\\_coordinate_descent.py:631: ConvergenceWarning: Objective did not converge. You might want to increase the number of iterations, check the scale of the features or consider increasing regularisation. Duality gap: 2.925e+07, tolerance: 1.009e+07\n",
      "  model = cd_fast.enet_coordinate_descent(\n",
      " 38%|██████████████████████████████▏                                                | 382/1000 [00:52<01:21,  7.59it/s]D:\\Programming\\Anaconda\\lib\\site-packages\\sklearn\\linear_model\\_coordinate_descent.py:631: ConvergenceWarning: Objective did not converge. You might want to increase the number of iterations, check the scale of the features or consider increasing regularisation. Duality gap: 1.319e+07, tolerance: 8.993e+06\n",
      "  model = cd_fast.enet_coordinate_descent(\n",
      " 46%|████████████████████████████████████▋                                          | 465/1000 [01:04<01:21,  6.53it/s]D:\\Programming\\Anaconda\\lib\\site-packages\\sklearn\\linear_model\\_coordinate_descent.py:631: ConvergenceWarning: Objective did not converge. You might want to increase the number of iterations, check the scale of the features or consider increasing regularisation. Duality gap: 1.218e+07, tolerance: 1.093e+07\n",
      "  model = cd_fast.enet_coordinate_descent(\n",
      " 53%|█████████████████████████████████████████▉                                     | 531/1000 [01:13<01:02,  7.54it/s]D:\\Programming\\Anaconda\\lib\\site-packages\\sklearn\\linear_model\\_coordinate_descent.py:631: ConvergenceWarning: Objective did not converge. You might want to increase the number of iterations, check the scale of the features or consider increasing regularisation. Duality gap: 1.194e+07, tolerance: 1.051e+07\n",
      "  model = cd_fast.enet_coordinate_descent(\n",
      " 55%|███████████████████████████████████████████▎                                   | 548/1000 [01:15<00:59,  7.55it/s]D:\\Programming\\Anaconda\\lib\\site-packages\\sklearn\\linear_model\\_coordinate_descent.py:631: ConvergenceWarning: Objective did not converge. You might want to increase the number of iterations, check the scale of the features or consider increasing regularisation. Duality gap: 1.013e+07, tolerance: 1.009e+07\n",
      "  model = cd_fast.enet_coordinate_descent(\n",
      " 57%|████████████████████████████████████████████▉                                  | 569/1000 [01:18<00:55,  7.80it/s]D:\\Programming\\Anaconda\\lib\\site-packages\\sklearn\\linear_model\\_coordinate_descent.py:631: ConvergenceWarning: Objective did not converge. You might want to increase the number of iterations, check the scale of the features or consider increasing regularisation. Duality gap: 1.196e+07, tolerance: 9.801e+06\n",
      "  model = cd_fast.enet_coordinate_descent(\n",
      " 57%|█████████████████████████████████████████████                                  | 571/1000 [01:19<01:01,  6.93it/s]D:\\Programming\\Anaconda\\lib\\site-packages\\sklearn\\linear_model\\_coordinate_descent.py:631: ConvergenceWarning: Objective did not converge. You might want to increase the number of iterations, check the scale of the features or consider increasing regularisation. Duality gap: 1.909e+07, tolerance: 1.038e+07\n",
      "  model = cd_fast.enet_coordinate_descent(\n",
      " 74%|██████████████████████████████████████████████████████████▏                    | 737/1000 [01:41<00:38,  6.78it/s]D:\\Programming\\Anaconda\\lib\\site-packages\\sklearn\\linear_model\\_coordinate_descent.py:631: ConvergenceWarning: Objective did not converge. You might want to increase the number of iterations, check the scale of the features or consider increasing regularisation. Duality gap: 1.387e+07, tolerance: 1.020e+07\n",
      "  model = cd_fast.enet_coordinate_descent(\n",
      " 96%|███████████████████████████████████████████████████████████████████████████▌   | 957/1000 [02:11<00:05,  7.89it/s]D:\\Programming\\Anaconda\\lib\\site-packages\\sklearn\\linear_model\\_coordinate_descent.py:631: ConvergenceWarning: Objective did not converge. You might want to increase the number of iterations, check the scale of the features or consider increasing regularisation. Duality gap: 2.714e+07, tolerance: 9.517e+06\n",
      "  model = cd_fast.enet_coordinate_descent(\n",
      "100%|██████████████████████████████████████████████████████████████████████████████▌| 995/1000 [02:16<00:00,  7.25it/s]D:\\Programming\\Anaconda\\lib\\site-packages\\sklearn\\linear_model\\_coordinate_descent.py:631: ConvergenceWarning: Objective did not converge. You might want to increase the number of iterations, check the scale of the features or consider increasing regularisation. Duality gap: 1.243e+07, tolerance: 1.088e+07\n",
      "  model = cd_fast.enet_coordinate_descent(\n",
      "100%|██████████████████████████████████████████████████████████████████████████████| 1000/1000 [02:17<00:00,  7.30it/s]\n"
     ]
    }
   ],
   "source": [
    "l1_res = btstrap_cv_score(data_train, pipe_l1)"
   ]
  },
  {
   "cell_type": "code",
   "execution_count": 8,
   "metadata": {},
   "outputs": [
    {
     "data": {
      "text/plain": [
       "array([2981, 3010, 2899, 2743, 2916, 2913, 2895, 2852, 3013, 2994, 2889,\n",
       "       2749, 2787, 3129, 2890, 2749, 2944, 2829, 2906, 2896, 2986, 2826,\n",
       "       2594, 2915, 2823, 2730, 2787, 2905, 2905, 3005, 2955, 2834, 2973,\n",
       "       2783, 2824, 2825, 2932, 2844, 2761, 3067, 2756, 3021, 2837, 3038,\n",
       "       3076, 2767, 3042, 2707, 2986, 2871, 3072, 2946, 2991, 3132, 2884,\n",
       "       3010, 2878, 2842, 2881, 2920, 2857, 2883, 2936, 3108, 2728, 3029,\n",
       "       2949, 2775, 2916, 3018, 2918, 2700, 2685, 2967, 2947, 2926, 2959,\n",
       "       2846, 3129, 2794, 2870, 2926, 3132, 2883, 2760, 2815, 3013, 3074,\n",
       "       2886, 2727, 2841, 2839, 3147, 2847, 2987, 2809, 2876, 3043, 2889,\n",
       "       3055, 2839, 2847, 2992, 2915, 2929, 3107, 2870, 3010, 2851, 2802,\n",
       "       2613, 3022, 2981, 2918, 3158, 2974, 2884, 3344, 3093, 3121, 2956,\n",
       "       2901, 2787, 3085, 2934, 2838, 3116, 2820, 2946, 3006, 3063, 2940,\n",
       "       2630, 2872, 2823, 2866, 3050, 3025, 2944, 2940, 3011, 2958, 2907,\n",
       "       2883, 2907, 2929, 2906, 2744, 2600, 2779, 2989, 2808, 2805, 3044,\n",
       "       2991, 2993, 2622, 2913, 2964, 2876, 3033, 2864, 2830, 2631, 3107,\n",
       "       2696, 2539, 2985, 2875, 2600, 2900, 2790, 2738, 2990, 3145, 3073,\n",
       "       2894, 3165, 2898, 2896, 2965, 3219, 3012, 3023, 2783, 3201, 3213,\n",
       "       2925, 3009, 3129, 3029, 2886, 2909, 2680, 3112, 3000, 3076, 3037,\n",
       "       2791, 2989, 3157, 3254, 2904, 2712, 2928, 3175, 2997, 3001, 3090,\n",
       "       2566, 3021, 2926, 2945, 3191, 2852, 3113, 2791, 2965, 2942, 3004,\n",
       "       2963, 2841, 2677, 2749, 2890, 2976, 2979, 2714, 3013, 2990, 3107,\n",
       "       2957, 2861, 3049, 2883, 2973, 2643, 2813, 2836, 2901, 2810, 2823,\n",
       "       2922, 3189, 2940, 2947, 3137, 2745, 2814, 2680, 2623, 3110, 2838,\n",
       "       3162, 2904, 3085, 3142, 2961, 2740, 2874, 3070, 3272, 2808, 2662,\n",
       "       3003, 3003, 2901, 2871, 2697, 2981, 3018, 2880, 3161, 3041, 2727,\n",
       "       3022, 2907, 2955, 2937, 2597, 2745, 2916, 2795, 2965, 2876, 3190,\n",
       "       2927, 3042, 2965, 2784, 2853, 3009, 2992, 2738, 3013, 2916, 2616,\n",
       "       2696, 2844, 3044, 3138, 2785, 2772, 3010, 2947, 2950, 2853, 2885,\n",
       "       2941, 2821, 3127, 2867, 2968, 2775, 2996, 2944, 2928, 2857, 3115,\n",
       "       2901, 3125, 2994, 2808, 2951, 3004, 3031, 2935, 3175, 2800, 2757,\n",
       "       2950, 2782, 3029, 2706, 3121, 2763, 2785, 2964, 2844, 3111, 3025,\n",
       "       3004, 2961, 2912, 2877, 2884, 3007, 2956, 2952, 2987, 2803, 2898,\n",
       "       2915, 2819, 2742, 2803, 2901, 2964, 2679, 2912, 2902, 2776, 3183,\n",
       "       2910, 2997, 3084, 3092, 3000, 2961, 2920, 2869, 2843, 2914, 2776,\n",
       "       2681, 2874, 2839, 2605, 2953, 2955, 2835, 2837, 2986, 2982, 2883,\n",
       "       3132, 3016, 2655, 3080, 2810, 2903, 2846, 3280, 3002, 3061, 2920,\n",
       "       2833, 2593, 2677, 3055, 3087, 3081, 2735, 2944, 2811, 2899, 3030,\n",
       "       3060, 3191, 2718, 2699, 2697, 2675, 2981, 2783, 2789, 3006, 2997,\n",
       "       3095, 2999, 2862, 2992, 2990, 2958, 2670, 2920, 2955, 2853, 3170,\n",
       "       2836, 2943, 2866, 2905, 2904, 2802, 2963, 2828, 3201, 3032, 2801,\n",
       "       2907, 2972, 2886, 2715, 3043, 3059, 2847, 2951, 2888, 2777, 3009,\n",
       "       2738, 2580, 2789, 2859, 2961, 3070, 3228, 2901, 3117, 3148, 2967,\n",
       "       2858, 2981, 3005, 2874, 3042, 2796, 2855, 3029, 2933, 3002, 2899,\n",
       "       3013, 2940, 3201, 2877, 2840, 3043, 2919, 2778, 3045, 2878, 2919,\n",
       "       2972, 3292, 2883, 2883, 2730, 3002, 3002, 3042, 2988, 3065, 2863,\n",
       "       3118, 2865, 2849, 2926, 3069, 2927, 3007, 2816, 3045, 2729, 2678,\n",
       "       3000, 2790, 2701, 3018, 3118, 2717, 2832, 2778, 3051, 2623, 3174,\n",
       "       2825, 2945, 2937, 2699, 3014, 2908, 2838, 2963, 2932, 2871, 2837,\n",
       "       3011, 2943, 2793, 2932, 2978, 2871, 3209, 3169, 3179, 3135, 3078,\n",
       "       2873, 2913, 2812, 2952, 2911, 3025, 3115, 2856, 2905, 2969, 2681,\n",
       "       3050, 2922, 2960, 2682, 2725, 3242, 3100, 3152, 2648, 3038, 2659,\n",
       "       3143, 3095, 3013, 2911, 3078, 3360, 3048, 2871, 2987, 2767, 3099,\n",
       "       2983, 2977, 2910, 3035, 3085, 2978, 2934, 2748, 3177, 3163, 3034,\n",
       "       2977, 2897, 2699, 3010, 2801, 2762, 2965, 2819, 2947, 2736, 2838,\n",
       "       2868, 2641, 2892, 2902, 2925, 2741, 2889, 2648, 2982, 3027, 2764,\n",
       "       2914, 2825, 2939, 3074, 3150, 2862, 2902, 3107, 2661, 2893, 2837,\n",
       "       2951, 2779, 2600, 2886, 3112, 3508, 2784, 3110, 3022, 3006, 2922,\n",
       "       2906, 3180, 2765, 3116, 2718, 3206, 2745, 3005, 3115, 2702, 2755,\n",
       "       2962, 3231, 3172, 2904, 2452, 2918, 3055, 3017, 3106, 2962, 3164,\n",
       "       2828, 2894, 3143, 3011, 3062, 2889, 3034, 2871, 2960, 2910, 3168,\n",
       "       2826, 2933, 2762, 3041, 3169, 2604, 2696, 2776, 2649, 2873, 2853,\n",
       "       2784, 2848, 2991, 3038, 2923, 2898, 2817, 2862, 2961, 2938, 2936,\n",
       "       2961, 2799, 2990, 2859, 2928, 2938, 2688, 2828, 3124, 3005, 2933,\n",
       "       2863, 2996, 3000, 2817, 3188, 3041, 2892, 3076, 2962, 2844, 3043,\n",
       "       2966, 2893, 2818, 2865, 2872, 2978, 2904, 2820, 3085, 3091, 2667,\n",
       "       2906, 2779, 2929, 2939, 3108, 2947, 3145, 2812, 3175, 2901, 3024,\n",
       "       2975, 3142, 2987, 2750, 2934, 3039, 3040, 3070, 2960, 2991, 3002,\n",
       "       2837, 3044, 3017, 2937, 3119, 2928, 3004, 3050, 2782, 2997, 2719,\n",
       "       2787, 2794, 3033, 2961, 2936, 3007, 3025, 3203, 3146, 2809, 2975,\n",
       "       3165, 3066, 2828, 3181, 2984, 2617, 2945, 2819, 3136, 2683, 2990,\n",
       "       2903, 3113, 2817, 2806, 2789, 2858, 3206, 2730, 2979, 2737, 3060,\n",
       "       2828, 2767, 2794, 2868, 3007, 2744, 2959, 3095, 2657, 2893, 2777,\n",
       "       3091, 3065, 2960, 2817, 3255, 3017, 2876, 3021, 2743, 3072, 2759,\n",
       "       2885, 2890, 3189, 2907, 2944, 2596, 3041, 2868, 2850, 2921, 2868,\n",
       "       2966, 3024, 2922, 2712, 2499, 2910, 2997, 3030, 3013, 2947, 2892,\n",
       "       2965, 2867, 2984, 2809, 3082, 3085, 2945, 2914, 2985, 2932, 2998,\n",
       "       3047, 2784, 2660, 3106, 2483, 2914, 3088, 2886, 2884, 2853, 3053,\n",
       "       3094, 2867, 2621, 3223, 2691, 2546, 2668, 2878, 3177, 2880, 2663,\n",
       "       3002, 2768, 2742, 2939, 2975, 3095, 2758, 2878, 3009, 3175, 3021,\n",
       "       2928, 2954, 2920, 2801, 2996, 2972, 2890, 3116, 2862, 2959, 2886,\n",
       "       2941, 2857, 2924, 2839, 3038, 2869, 2945, 2786, 3004, 2885, 2903,\n",
       "       2802, 2904, 2997, 2948, 2810, 2563, 3234, 2731, 2834, 2848, 3084,\n",
       "       3052, 2983, 2867, 2820, 2891, 3139, 3062, 3061, 2942, 2896, 2994,\n",
       "       3068, 3013, 2970, 2972, 3127, 3018, 2753, 3053, 2917, 2663, 3047,\n",
       "       2854, 2952, 2856, 2981, 3003, 2865, 2878, 2786, 3063, 2781, 2928,\n",
       "       3044, 2869, 2975, 2820, 2795, 3015, 3047, 2947, 2818, 3070, 2991,\n",
       "       2925, 2743, 3050, 3044, 2942, 2958, 3010, 3034, 3064, 3103, 3300,\n",
       "       2727, 2976, 2997, 3175, 3164, 2939, 3106, 2967, 3081, 2888, 3190,\n",
       "       2953, 2987, 2830, 2676, 2906, 2703, 3022, 2757, 3038, 2997, 2974,\n",
       "       2849, 2980, 2836, 2901, 2819, 2992, 2964, 2980, 2918, 3065, 3167,\n",
       "       2838, 3152, 2601, 2886, 2782, 2776, 2793, 2941, 2925, 2803])"
      ]
     },
     "execution_count": 8,
     "metadata": {},
     "output_type": "execute_result"
    }
   ],
   "source": [
    "l1_res"
   ]
  },
  {
   "cell_type": "code",
   "execution_count": 9,
   "metadata": {},
   "outputs": [],
   "source": [
    "l1_res_df = pd.DataFrame(data=l1_res, columns=['means'])"
   ]
  },
  {
   "cell_type": "code",
   "execution_count": 10,
   "metadata": {},
   "outputs": [
    {
     "name": "stdout",
     "output_type": "stream",
     "text": [
      "2926.814 142.4239586164771 31.622776601683793\n"
     ]
    }
   ],
   "source": [
    "print(np.mean(l1_res), np.std(l1_res, ddof=1), len(l1_res) ** 0.5)"
   ]
  },
  {
   "cell_type": "markdown",
   "metadata": {},
   "source": [
    "**CALCULATE 95% CONFIDENSE INTERVAL**"
   ]
  },
  {
   "cell_type": "code",
   "execution_count": 11,
   "metadata": {},
   "outputs": [],
   "source": [
    "def conf_interv(array, conf_lvl):\n",
    "    return (np.mean(array) - conf_lvl * (np.std(array, ddof=1) / m.sqrt(array.shape[0])), \n",
    "            np.mean(array) + conf_lvl * (np.std(array, ddof=1) / m.sqrt(array.shape[0])))"
   ]
  },
  {
   "cell_type": "code",
   "execution_count": 12,
   "metadata": {},
   "outputs": [
    {
     "data": {
      "text/plain": [
       "(2917.9864715889294, 2935.6415284110703)"
      ]
     },
     "execution_count": 12,
     "metadata": {},
     "output_type": "execute_result"
    }
   ],
   "source": [
    "conf_interv(l1_res, 1.96)"
   ]
  },
  {
   "cell_type": "markdown",
   "metadata": {},
   "source": [
    "**BUILD HISTOGRAM**"
   ]
  },
  {
   "cell_type": "code",
   "execution_count": 13,
   "metadata": {},
   "outputs": [
    {
     "data": {
      "text/plain": [
       "<matplotlib.lines.Line2D at 0x2143a5a1370>"
      ]
     },
     "execution_count": 13,
     "metadata": {},
     "output_type": "execute_result"
    },
    {
     "data": {
      "image/png": "[encoded data removed]",
      "text/plain": [
       "<Figure size 432x288 with 1 Axes>"
      ]
     },
     "metadata": {
      "needs_background": "light"
     },
     "output_type": "display_data"
    }
   ],
   "source": [
    "fig = l1_res_df.hist(bins=30)\n",
    "fig[0][0].axvline(x=np.mean(l1_res) - 2 * np.std(l1_res, ddof=1), color='red')\n",
    "fig[0][0].axvline(x=np.mean(l1_res) + 2 * np.std(l1_res, ddof=1), color='red')"
   ]
  },
  {
   "cell_type": "markdown",
   "metadata": {},
   "source": [
    "**BUILD PROBABILITY DENSITY FUNCTION**"
   ]
  },
  {
   "cell_type": "code",
   "execution_count": 14,
   "metadata": {
    "tags": []
   },
   "outputs": [
    {
     "data": {
      "text/plain": [
       "(2917.975926020216, 2935.652073979784)"
      ]
     },
     "execution_count": 14,
     "metadata": {},
     "output_type": "execute_result"
    }
   ],
   "source": [
    "st.t.interval(alpha=0.95, df=len(l1_res)-1, loc=np.mean(l1_res), scale=st.sem(l1_res), )"
   ]
  },
  {
   "cell_type": "markdown",
   "metadata": {},
   "source": [
    "# **L2 95 CONFIDENCE INTERVAL**"
   ]
  },
  {
   "cell_type": "markdown",
   "metadata": {},
   "source": [
    "**LETS CREATE PIPE (WE CAN USE THE SAME COLUMN TRANSFORMER)**"
   ]
  },
  {
   "cell_type": "code",
   "execution_count": 15,
   "metadata": {},
   "outputs": [],
   "source": [
    "col_trans_l2 = col_trans_l1"
   ]
  },
  {
   "cell_type": "code",
   "execution_count": 16,
   "metadata": {},
   "outputs": [],
   "source": [
    "pipe_l2 = Pipeline([\n",
    "    ('col_trans_l2', col_trans_l2), \n",
    "    ('poly', PolynomialFeatures(degree=2, include_bias=False)), \n",
    "    ('ridge', Ridge(alpha=1e-05))\n",
    "])"
   ]
  },
  {
   "cell_type": "markdown",
   "metadata": {},
   "source": [
    "**CALCULATE RESULTS**"
   ]
  },
  {
   "cell_type": "code",
   "execution_count": 17,
   "metadata": {},
   "outputs": [
    {
     "name": "stderr",
     "output_type": "stream",
     "text": [
      "100%|██████████████████████████████████████████████████████████████████████████████| 1000/1000 [00:51<00:00, 19.33it/s]\n"
     ]
    }
   ],
   "source": [
    "l2_res = btstrap_cv_score(data_train, pipe_l2)"
   ]
  },
  {
   "cell_type": "code",
   "execution_count": 18,
   "metadata": {
    "tags": []
   },
   "outputs": [],
   "source": [
    "l2_res_df = pd.DataFrame(data=l2_res, columns=['means'])"
   ]
  },
  {
   "cell_type": "code",
   "execution_count": 19,
   "metadata": {},
   "outputs": [
    {
     "data": {
      "text/plain": [
       "(2940.5468479747146, 2956.161152025285)"
      ]
     },
     "execution_count": 19,
     "metadata": {},
     "output_type": "execute_result"
    }
   ],
   "source": [
    "st.t.interval(alpha=0.95, df=len(l2_res)-1, loc=np.mean(l2_res), scale=st.sem(l2_res))"
   ]
  },
  {
   "cell_type": "markdown",
   "metadata": {},
   "source": [
    "**BUILD HISTOGRAM**"
   ]
  },
  {
   "cell_type": "code",
   "execution_count": 20,
   "metadata": {},
   "outputs": [
    {
     "data": {
      "text/plain": [
       "array([[<matplotlib.axes._subplots.AxesSubplot object at 0x000002143D981B80>]],\n",
       "      dtype=object)"
      ]
     },
     "execution_count": 20,
     "metadata": {},
     "output_type": "execute_result"
    },
    {
     "data": {
      "image/png": "[encoded data removed]",
      "text/plain": [
       "<Figure size 432x288 with 1 Axes>"
      ]
     },
     "metadata": {
      "needs_background": "light"
     },
     "output_type": "display_data"
    }
   ],
   "source": [
    "l2_res_df.hist(bins=20)"
   ]
  },
  {
   "cell_type": "markdown",
   "metadata": {},
   "source": [
    "# **DECISION TREE BOOTSTRAP**"
   ]
  },
  {
   "cell_type": "markdown",
   "metadata": {},
   "source": [
    "**CREATE COLLUMN TRANSFORMER**"
   ]
  },
  {
   "cell_type": "code",
   "execution_count": 21,
   "metadata": {},
   "outputs": [],
   "source": [
    "bintree_trans = ColumnTransformer([\n",
    "    ('encode_ord', OrdinalEncoder(handle_unknown='use_encoded_value', unknown_value=-1), ['sex', 'smoker', 'region']),\n",
    "], remainder='passthrough')"
   ]
  },
  {
   "cell_type": "markdown",
   "metadata": {},
   "source": [
    "**CREATE PIPELINE**"
   ]
  },
  {
   "cell_type": "code",
   "execution_count": 22,
   "metadata": {},
   "outputs": [],
   "source": [
    "pipe_bintree = Pipeline([\n",
    "    ('bintree_trans', bintree_trans), \n",
    "    ('bintree', DecisionTreeRegressor(max_depth=5, min_samples_leaf=11))\n",
    "])"
   ]
  },
  {
   "cell_type": "markdown",
   "metadata": {},
   "source": [
    "**CALCULATE RESULTS**"
   ]
  },
  {
   "cell_type": "code",
   "execution_count": 23,
   "metadata": {},
   "outputs": [
    {
     "name": "stderr",
     "output_type": "stream",
     "text": [
      "100%|██████████████████████████████████████████████████████████████████████████████| 1000/1000 [00:30<00:00, 33.19it/s]\n"
     ]
    }
   ],
   "source": [
    "bintree_res = btstrap_cv_score(data_train, pipe_bintree)"
   ]
  },
  {
   "cell_type": "code",
   "execution_count": 24,
   "metadata": {},
   "outputs": [
    {
     "data": {
      "text/plain": [
       "array([2406, 2694, 2560, 2825, 2802, 2723, 2663, 2863, 2548, 2737, 2628,\n",
       "       2745, 2512, 2563, 2472, 2579, 2685, 2666, 2686, 2451, 2736, 2746,\n",
       "       2609, 2797, 2671, 2635, 2606, 2820, 2688, 2729, 2553, 2650, 2892,\n",
       "       2825, 2850, 2678, 2704, 2682, 2981, 2802, 2792, 2724, 2582, 2663,\n",
       "       2942, 2561, 2746, 2665, 2626, 2688, 2757, 2710, 2585, 2490, 2696,\n",
       "       2546, 2646, 2599, 2768, 2796, 2574, 2909, 2731, 2814, 2644, 2675,\n",
       "       2648, 2608, 2911, 2514, 2709, 2693, 2512, 2893, 2573, 2511, 2590,\n",
       "       2718, 2655, 2741, 2806, 2669, 2660, 2657, 2807, 2792, 2705, 2567,\n",
       "       2709, 2632, 2803, 2505, 2814, 2700, 2801, 2753, 2735, 2723, 2517,\n",
       "       2738, 2745, 2558, 2758, 2638, 2815, 2614, 2665, 2882, 2891, 2711,\n",
       "       2828, 2649, 2786, 2557, 2731, 2701, 2955, 2841, 2966, 2676, 2620,\n",
       "       2745, 2687, 2344, 2683, 2705, 2455, 2517, 2744, 2412, 2588, 2991,\n",
       "       2615, 2553, 2725, 2936, 2695, 2811, 2604, 2757, 2486, 2699, 2509,\n",
       "       2699, 2653, 2672, 2603, 2709, 2643, 2609, 2731, 2506, 2579, 2449,\n",
       "       2807, 2785, 2717, 2646, 2814, 2576, 2692, 2579, 2723, 2704, 2668,\n",
       "       2812, 2671, 2543, 2802, 2573, 2618, 2889, 2651, 2602, 2701, 2688,\n",
       "       2673, 2684, 2759, 2740, 2972, 2588, 2630, 2844, 2606, 2738, 2685,\n",
       "       2542, 2607, 2696, 2684, 2861, 2704, 2916, 2704, 2606, 2829, 2519,\n",
       "       2579, 2623, 2618, 2604, 2873, 2598, 2636, 2794, 2667, 2864, 3050,\n",
       "       2631, 2628, 2756, 2737, 2598, 2537, 2618, 2576, 2886, 2672, 2738,\n",
       "       2793, 2661, 2600, 2663, 2568, 2531, 2636, 2748, 2699, 2787, 2295,\n",
       "       2798, 2672, 2902, 2382, 2494, 2786, 2648, 2777, 2651, 2623, 2672,\n",
       "       2683, 2498, 2906, 2383, 2561, 2680, 2623, 2654, 2707, 2754, 2648,\n",
       "       2679, 2567, 2428, 2766, 2516, 2912, 2821, 2878, 2804, 2690, 2617,\n",
       "       2669, 2667, 2714, 2311, 2768, 2661, 2771, 2593, 2743, 2611, 2824,\n",
       "       2788, 2907, 2797, 2833, 2574, 2732, 2536, 2613, 2793, 2725, 2585,\n",
       "       2469, 2668, 2367, 2591, 2537, 2651, 2647, 2747, 2570, 2616, 2743,\n",
       "       2759, 2572, 2667, 2628, 2529, 2683, 2713, 2787, 2841, 2509, 2637,\n",
       "       2735, 2632, 2605, 2333, 2565, 2649, 2982, 2577, 2589, 2556, 2730,\n",
       "       2514, 2610, 2859, 2713, 2890, 2650, 2650, 2762, 2666, 2787, 2580,\n",
       "       2649, 2900, 2485, 2689, 2651, 2831, 2628, 2916, 2600, 2653, 2736,\n",
       "       2632, 2406, 2846, 2828, 2829, 2708, 2686, 2696, 2612, 2744, 2728,\n",
       "       2439, 2751, 2747, 2783, 2706, 2590, 2920, 2564, 2597, 2578, 2402,\n",
       "       2724, 2473, 2555, 2787, 2753, 2474, 2516, 2667, 2735, 2575, 2770,\n",
       "       2731, 2583, 2581, 2624, 2775, 2734, 2535, 2716, 2741, 2881, 2522,\n",
       "       2897, 2776, 2593, 2771, 2636, 2644, 2638, 2623, 2769, 2676, 2669,\n",
       "       2693, 2540, 2858, 2481, 2774, 2628, 2696, 2623, 2667, 2610, 2629,\n",
       "       2760, 2603, 2965, 2556, 2490, 2725, 2670, 2837, 2500, 2751, 2654,\n",
       "       2423, 2822, 2623, 2742, 2734, 2588, 2809, 2569, 2723, 2588, 2514,\n",
       "       2291, 2629, 2603, 2546, 2538, 2417, 2554, 2643, 2707, 2548, 2604,\n",
       "       2702, 2757, 2818, 2598, 2612, 2734, 2613, 2521, 2628, 2589, 2670,\n",
       "       2557, 2912, 2575, 2762, 2712, 2747, 2648, 2731, 2743, 2590, 2529,\n",
       "       2349, 2410, 2700, 2806, 2563, 2524, 2544, 2670, 2564, 2690, 2661,\n",
       "       2642, 2709, 2907, 2664, 2614, 2593, 2315, 2829, 2655, 2583, 2534,\n",
       "       2698, 2572, 2934, 2688, 2667, 2432, 2675, 2513, 2619, 2693, 2513,\n",
       "       2654, 2852, 2617, 2633, 2860, 2651, 2784, 2639, 2795, 2691, 2809,\n",
       "       2618, 2817, 2676, 2475, 2825, 2620, 2867, 2595, 2712, 2676, 2912,\n",
       "       2751, 2743, 2796, 2642, 2686, 2700, 2764, 2708, 2603, 2879, 2752,\n",
       "       2785, 2906, 2902, 2606, 2662, 2558, 2671, 2623, 3061, 2612, 2587,\n",
       "       2611, 2542, 2849, 2536, 2703, 2602, 2510, 2636, 2805, 2694, 2679,\n",
       "       2894, 2643, 2605, 2750, 2651, 2540, 2699, 2553, 2502, 2631, 2553,\n",
       "       2720, 2752, 2880, 2685, 2796, 2890, 2800, 2626, 2894, 2716, 2653,\n",
       "       2526, 2609, 2445, 2497, 2588, 2602, 2814, 2276, 2815, 2684, 2482,\n",
       "       2634, 2682, 2320, 2638, 2747, 2491, 2614, 2652, 2956, 2656, 2656,\n",
       "       2921, 2822, 2727, 2755, 2696, 2632, 2448, 2697, 2849, 2573, 2602,\n",
       "       2915, 2759, 2709, 2644, 2956, 2474, 2544, 2549, 2767, 2394, 2847,\n",
       "       2710, 2537, 2877, 2685, 2759, 2834, 2751, 2510, 2722, 2698, 2947,\n",
       "       2626, 2562, 2669, 2537, 2697, 2856, 2639, 2749, 2913, 2614, 2539,\n",
       "       2562, 2597, 2885, 2646, 2922, 2692, 2563, 2593, 2785, 2606, 2671,\n",
       "       2616, 2541, 2596, 2964, 2378, 2765, 2727, 2790, 2948, 2496, 2913,\n",
       "       2727, 2695, 2797, 2351, 2747, 2713, 2579, 2903, 2494, 2733, 2839,\n",
       "       2835, 2328, 2990, 2710, 2673, 2653, 2810, 2639, 2630, 2901, 2566,\n",
       "       2945, 2857, 2742, 2405, 2801, 2885, 2760, 2556, 2926, 2687, 2570,\n",
       "       2705, 2682, 2646, 2774, 2638, 2706, 2655, 2571, 2551, 2633, 2782,\n",
       "       2697, 2466, 2817, 2832, 2781, 2555, 2686, 2798, 2701, 2590, 2693,\n",
       "       2679, 2863, 2563, 2822, 2755, 2576, 2679, 2406, 2839, 2666, 2721,\n",
       "       2631, 2773, 2698, 2710, 2668, 2899, 2993, 2589, 2717, 2790, 2801,\n",
       "       2678, 2588, 2641, 2580, 2906, 2445, 2831, 2580, 2768, 2705, 2582,\n",
       "       2660, 2702, 2804, 2580, 2967, 2729, 2530, 2687, 2611, 2696, 2716,\n",
       "       2864, 2847, 2754, 2731, 2615, 2774, 2674, 2574, 2657, 2572, 2749,\n",
       "       2606, 2648, 2657, 2812, 2690, 2585, 2555, 2699, 2750, 2746, 2660,\n",
       "       2494, 2575, 2534, 2697, 2779, 2585, 2712, 2588, 2775, 2783, 2518,\n",
       "       2742, 2432, 2782, 2804, 2713, 2652, 2669, 2714, 2982, 2738, 2792,\n",
       "       2574, 2796, 2575, 2659, 2786, 2721, 2617, 2679, 2610, 2628, 2790,\n",
       "       2648, 2767, 2981, 2795, 2571, 2651, 2758, 2756, 2538, 2637, 2481,\n",
       "       2666, 2282, 2736, 2764, 2829, 2650, 2686, 2543, 2705, 2668, 2687,\n",
       "       2643, 2664, 2891, 2636, 2613, 2395, 2758, 2785, 2912, 2923, 2694,\n",
       "       2576, 2661, 2451, 2511, 2684, 2669, 2765, 2676, 2640, 2511, 2413,\n",
       "       2913, 2875, 2607, 2740, 2655, 2720, 2521, 2538, 2483, 2507, 2728,\n",
       "       2853, 2659, 2521, 2679, 2843, 2721, 2581, 2643, 2755, 2580, 2523,\n",
       "       2543, 2642, 2665, 2674, 2784, 2617, 2852, 2740, 2727, 2437, 2485,\n",
       "       2641, 2651, 2865, 2772, 2543, 2555, 2762, 2634, 2575, 2814, 2582,\n",
       "       2733, 2460, 2758, 2739, 2646, 2651, 2579, 2676, 2696, 2459, 2561,\n",
       "       2664, 2729, 2832, 2805, 2626, 2800, 2227, 2637, 2609, 2705, 2715,\n",
       "       2615, 2321, 2702, 2699, 2858, 2712, 2867, 2763, 2760, 2404, 2631,\n",
       "       2553, 2486, 2507, 2774, 2444, 2726, 2586, 2717, 2548, 2828, 2568,\n",
       "       2789, 2417, 2668, 2532, 2778, 2822, 2706, 2576, 2876, 2907, 2548,\n",
       "       2613, 2630, 2843, 2789, 2618, 2552, 2615, 2784, 2637, 2699, 2814,\n",
       "       2543, 2829, 2640, 2596, 2808, 2937, 2719, 2761, 2832, 2770, 2630,\n",
       "       2629, 2511, 2706, 2749, 2545, 2688, 2612, 2425, 2707, 2740, 2856,\n",
       "       2732, 2529, 2514, 2543, 2657, 2627, 2860, 2506, 2680, 2608])"
      ]
     },
     "execution_count": 24,
     "metadata": {},
     "output_type": "execute_result"
    }
   ],
   "source": [
    "bintree_res"
   ]
  },
  {
   "cell_type": "code",
   "execution_count": 25,
   "metadata": {},
   "outputs": [],
   "source": [
    "bintree_df = pd.DataFrame(data=bintree_res, columns=['means'])"
   ]
  },
  {
   "cell_type": "markdown",
   "metadata": {},
   "source": [
    "**BUILD HISTOGRAM**"
   ]
  },
  {
   "cell_type": "code",
   "execution_count": 26,
   "metadata": {},
   "outputs": [
    {
     "data": {
      "text/plain": [
       "array([[<matplotlib.axes._subplots.AxesSubplot object at 0x000002143DA4EA90>]],\n",
       "      dtype=object)"
      ]
     },
     "execution_count": 26,
     "metadata": {},
     "output_type": "execute_result"
    },
    {
     "data": {
      "image/png": "[encoded data removed]",
      "text/plain": [
       "<Figure size 432x288 with 1 Axes>"
      ]
     },
     "metadata": {
      "needs_background": "light"
     },
     "output_type": "display_data"
    }
   ],
   "source": [
    "bintree_df.hist(bins=20)"
   ]
  },
  {
   "cell_type": "code",
   "execution_count": 27,
   "metadata": {},
   "outputs": [
    {
     "data": {
      "text/plain": [
       "(2668.614233020128, 2684.651766979872)"
      ]
     },
     "execution_count": 27,
     "metadata": {},
     "output_type": "execute_result"
    }
   ],
   "source": [
    "st.t.interval(alpha=0.95, df=len(bintree_res)-1, loc=np.mean(bintree_res), scale=st.sem(bintree_res), )"
   ]
  },
  {
   "cell_type": "markdown",
   "metadata": {},
   "source": [
    "# **GRADIENT BOOST**"
   ]
  },
  {
   "cell_type": "markdown",
   "metadata": {},
   "source": [
    "**CREATE TRANSFORMER**"
   ]
  },
  {
   "cell_type": "code",
   "execution_count": 28,
   "metadata": {},
   "outputs": [],
   "source": [
    "grad_boost_trans = ColumnTransformer([\n",
    "    ('encode_ord', OrdinalEncoder(handle_unknown='use_encoded_value', unknown_value=-1), ['sex', 'smoker', 'region']),\n",
    "], remainder='passthrough')"
   ]
  },
  {
   "cell_type": "markdown",
   "metadata": {},
   "source": [
    "**BUILD PIPELINE**"
   ]
  },
  {
   "cell_type": "code",
   "execution_count": 45,
   "metadata": {},
   "outputs": [],
   "source": [
    "pipe_grad_boost = Pipeline([\n",
    "    ('grad_boost_trans', grad_boost_trans), \n",
    "    ('grad_boost', HistGradientBoostingRegressor())\n",
    "])"
   ]
  },
  {
   "cell_type": "code",
   "execution_count": 49,
   "metadata": {},
   "outputs": [],
   "source": [
    "parameter_gradboost = {\n",
    "    'grad_boost__max_depth': np.linspace(2, 20, 19).astype(int),\n",
    "    'grad_boost__min_samples_leaf': np.linspace(2, 150, 146).astype(int),\n",
    "    'grad_boost__learning_rate': np.linspace(0.0001, 0.1, 30)\n",
    "}"
   ]
  },
  {
   "cell_type": "code",
   "execution_count": 30,
   "metadata": {},
   "outputs": [
    {
     "name": "stderr",
     "output_type": "stream",
     "text": [
      "100%|██████████████████████████████████████████████████████████████████████████████| 1000/1000 [22:30<00:00,  1.35s/it]\n"
     ]
    }
   ],
   "source": [
    "gradboost_res = btstrap_cv_score(data_train, pipe_grad_boost)"
   ]
  },
  {
   "cell_type": "code",
   "execution_count": 31,
   "metadata": {},
   "outputs": [],
   "source": [
    "gradboost_res_df = pd.DataFrame(data=gradboost_res, columns=['means'])"
   ]
  },
  {
   "cell_type": "code",
   "execution_count": 32,
   "metadata": {},
   "outputs": [
    {
     "data": {
      "text/plain": [
       "array([[<matplotlib.axes._subplots.AxesSubplot object at 0x000002143D97BBE0>]],\n",
       "      dtype=object)"
      ]
     },
     "execution_count": 32,
     "metadata": {},
     "output_type": "execute_result"
    },
    {
     "data": {
      "image/png": "[encoded data removed]",
      "text/plain": [
       "<Figure size 432x288 with 1 Axes>"
      ]
     },
     "metadata": {
      "needs_background": "light"
     },
     "output_type": "display_data"
    }
   ],
   "source": [
    "gradboost_res_df.hist(bins=20)"
   ]
  },
  {
   "cell_type": "code",
   "execution_count": 50,
   "metadata": {},
   "outputs": [],
   "source": [
    "grid_gradboost = GridSearchCV(pipe_grad_boost, parameter_gradboost, scoring='neg_mean_absolute_error', n_jobs=8, verbose=1)"
   ]
  },
  {
   "cell_type": "code",
   "execution_count": 51,
   "metadata": {},
   "outputs": [
    {
     "name": "stdout",
     "output_type": "stream",
     "text": [
      "Fitting 5 folds for each of 83220 candidates, totalling 416100 fits\n"
     ]
    },
    {
     "data": {
      "text/html": [
       "<style>#sk-container-id-3 {color: black;background-color: white;}#sk-container-id-3 pre{padding: 0;}#sk-container-id-3 div.sk-toggleable {background-color: white;}#sk-container-id-3 label.sk-toggleable__label {cursor: pointer;display: block;width: 100%;margin-bottom: 0;padding: 0.3em;box-sizing: border-box;text-align: center;}#sk-container-id-3 label.sk-toggleable__label-arrow:before {content: \"▸\";float: left;margin-right: 0.25em;color: #696969;}#sk-container-id-3 label.sk-toggleable__label-arrow:hover:before {color: black;}#sk-container-id-3 div.sk-estimator:hover label.sk-toggleable__label-arrow:before {color: black;}#sk-container-id-3 div.sk-toggleable__content {max-height: 0;max-width: 0;overflow: hidden;text-align: left;background-color: #f0f8ff;}#sk-container-id-3 div.sk-toggleable__content pre {margin: 0.2em;color: black;border-radius: 0.25em;background-color: #f0f8ff;}#sk-container-id-3 input.sk-toggleable__control:checked~div.sk-toggleable__content {max-height: 200px;max-width: 100%;overflow: auto;}#sk-container-id-3 input.sk-toggleable__control:checked~label.sk-toggleable__label-arrow:before {content: \"▾\";}#sk-container-id-3 div.sk-estimator input.sk-toggleable__control:checked~label.sk-toggleable__label {background-color: #d4ebff;}#sk-container-id-3 div.sk-label input.sk-toggleable__control:checked~label.sk-toggleable__label {background-color: #d4ebff;}#sk-container-id-3 input.sk-hidden--visually {border: 0;clip: rect(1px 1px 1px 1px);clip: rect(1px, 1px, 1px, 1px);height: 1px;margin: -1px;overflow: hidden;padding: 0;position: absolute;width: 1px;}#sk-container-id-3 div.sk-estimator {font-family: monospace;background-color: #f0f8ff;border: 1px dotted black;border-radius: 0.25em;box-sizing: border-box;margin-bottom: 0.5em;}#sk-container-id-3 div.sk-estimator:hover {background-color: #d4ebff;}#sk-container-id-3 div.sk-parallel-item::after {content: \"\";width: 100%;border-bottom: 1px solid gray;flex-grow: 1;}#sk-container-id-3 div.sk-label:hover label.sk-toggleable__label {background-color: #d4ebff;}#sk-container-id-3 div.sk-serial::before {content: \"\";position: absolute;border-left: 1px solid gray;box-sizing: border-box;top: 0;bottom: 0;left: 50%;z-index: 0;}#sk-container-id-3 div.sk-serial {display: flex;flex-direction: column;align-items: center;background-color: white;padding-right: 0.2em;padding-left: 0.2em;position: relative;}#sk-container-id-3 div.sk-item {position: relative;z-index: 1;}#sk-container-id-3 div.sk-parallel {display: flex;align-items: stretch;justify-content: center;background-color: white;position: relative;}#sk-container-id-3 div.sk-item::before, #sk-container-id-3 div.sk-parallel-item::before {content: \"\";position: absolute;border-left: 1px solid gray;box-sizing: border-box;top: 0;bottom: 0;left: 50%;z-index: -1;}#sk-container-id-3 div.sk-parallel-item {display: flex;flex-direction: column;z-index: 1;position: relative;background-color: white;}#sk-container-id-3 div.sk-parallel-item:first-child::after {align-self: flex-end;width: 50%;}#sk-container-id-3 div.sk-parallel-item:last-child::after {align-self: flex-start;width: 50%;}#sk-container-id-3 div.sk-parallel-item:only-child::after {width: 0;}#sk-container-id-3 div.sk-dashed-wrapped {border: 1px dashed gray;margin: 0 0.4em 0.5em 0.4em;box-sizing: border-box;padding-bottom: 0.4em;background-color: white;}#sk-container-id-3 div.sk-label label {font-family: monospace;font-weight: bold;display: inline-block;line-height: 1.2em;}#sk-container-id-3 div.sk-label-container {text-align: center;}#sk-container-id-3 div.sk-container {/* jupyter's `normalize.less` sets `[hidden] { display: none; }` but bootstrap.min.css set `[hidden] { display: none !important; }` so we also need the `!important` here to be able to override the default hidden behavior on the sphinx rendered scikit-learn.org. See: https://github.com/scikit-learn/scikit-learn/issues/21755 */display: inline-block !important;position: relative;}#sk-container-id-3 div.sk-text-repr-fallback {display: none;}</style><div id=\"sk-container-id-3\" class=\"sk-top-container\"><div class=\"sk-text-repr-fallback\"><pre>GridSearchCV(estimator=Pipeline(steps=[(&#x27;grad_boost_trans&#x27;,\n",
       "                                        ColumnTransformer(remainder=&#x27;passthrough&#x27;,\n",
       "                                                          transformers=[(&#x27;encode_ord&#x27;,\n",
       "                                                                         OrdinalEncoder(handle_unknown=&#x27;use_encoded_value&#x27;,\n",
       "                                                                                        unknown_value=-1),\n",
       "                                                                         [&#x27;sex&#x27;,\n",
       "                                                                          &#x27;smoker&#x27;,\n",
       "                                                                          &#x27;region&#x27;])])),\n",
       "                                       (&#x27;grad_boost&#x27;,\n",
       "                                        HistGradientBoostingRegressor())]),\n",
       "             n_jobs=8,\n",
       "             param_grid={&#x27;grad_boost__learning_rate&#x27;: array([0.0001    , 0.00354483,...\n",
       "        55,  56,  57,  58,  59,  60,  61,  62,  63,  64,  65,  66,  67,\n",
       "        68,  69,  70,  71,  72,  73,  74,  75,  76,  77,  78,  79,  80,\n",
       "        81,  82,  83,  84,  85,  86,  87,  88,  89,  90,  91,  92,  93,\n",
       "        94,  95,  96,  97,  98,  99, 101, 102, 103, 104, 105, 106, 107,\n",
       "       108, 109, 110, 111, 112, 113, 114, 115, 116, 117, 118, 119, 120,\n",
       "       121, 122, 123, 124, 125, 126, 127, 128, 129, 130, 131, 132, 133,\n",
       "       134, 135, 136, 137, 138, 139, 140, 141, 142, 143, 144, 145, 146,\n",
       "       147, 148, 150])},\n",
       "             scoring=&#x27;neg_mean_absolute_error&#x27;, verbose=1)</pre><b>In a Jupyter environment, please rerun this cell to show the HTML representation or trust the notebook. <br />On GitHub, the HTML representation is unable to render, please try loading this page with nbviewer.org.</b></div><div class=\"sk-container\" hidden><div class=\"sk-item sk-dashed-wrapped\"><div class=\"sk-label-container\"><div class=\"sk-label sk-toggleable\"><input class=\"sk-toggleable__control sk-hidden--visually\" id=\"sk-estimator-id-19\" type=\"checkbox\" ><label for=\"sk-estimator-id-19\" class=\"sk-toggleable__label sk-toggleable__label-arrow\">GridSearchCV</label><div class=\"sk-toggleable__content\"><pre>GridSearchCV(estimator=Pipeline(steps=[(&#x27;grad_boost_trans&#x27;,\n",
       "                                        ColumnTransformer(remainder=&#x27;passthrough&#x27;,\n",
       "                                                          transformers=[(&#x27;encode_ord&#x27;,\n",
       "                                                                         OrdinalEncoder(handle_unknown=&#x27;use_encoded_value&#x27;,\n",
       "                                                                                        unknown_value=-1),\n",
       "                                                                         [&#x27;sex&#x27;,\n",
       "                                                                          &#x27;smoker&#x27;,\n",
       "                                                                          &#x27;region&#x27;])])),\n",
       "                                       (&#x27;grad_boost&#x27;,\n",
       "                                        HistGradientBoostingRegressor())]),\n",
       "             n_jobs=8,\n",
       "             param_grid={&#x27;grad_boost__learning_rate&#x27;: array([0.0001    , 0.00354483,...\n",
       "        55,  56,  57,  58,  59,  60,  61,  62,  63,  64,  65,  66,  67,\n",
       "        68,  69,  70,  71,  72,  73,  74,  75,  76,  77,  78,  79,  80,\n",
       "        81,  82,  83,  84,  85,  86,  87,  88,  89,  90,  91,  92,  93,\n",
       "        94,  95,  96,  97,  98,  99, 101, 102, 103, 104, 105, 106, 107,\n",
       "       108, 109, 110, 111, 112, 113, 114, 115, 116, 117, 118, 119, 120,\n",
       "       121, 122, 123, 124, 125, 126, 127, 128, 129, 130, 131, 132, 133,\n",
       "       134, 135, 136, 137, 138, 139, 140, 141, 142, 143, 144, 145, 146,\n",
       "       147, 148, 150])},\n",
       "             scoring=&#x27;neg_mean_absolute_error&#x27;, verbose=1)</pre></div></div></div><div class=\"sk-parallel\"><div class=\"sk-parallel-item\"><div class=\"sk-item\"><div class=\"sk-label-container\"><div class=\"sk-label sk-toggleable\"><input class=\"sk-toggleable__control sk-hidden--visually\" id=\"sk-estimator-id-20\" type=\"checkbox\" ><label for=\"sk-estimator-id-20\" class=\"sk-toggleable__label sk-toggleable__label-arrow\">estimator: Pipeline</label><div class=\"sk-toggleable__content\"><pre>Pipeline(steps=[(&#x27;grad_boost_trans&#x27;,\n",
       "                 ColumnTransformer(remainder=&#x27;passthrough&#x27;,\n",
       "                                   transformers=[(&#x27;encode_ord&#x27;,\n",
       "                                                  OrdinalEncoder(handle_unknown=&#x27;use_encoded_value&#x27;,\n",
       "                                                                 unknown_value=-1),\n",
       "                                                  [&#x27;sex&#x27;, &#x27;smoker&#x27;,\n",
       "                                                   &#x27;region&#x27;])])),\n",
       "                (&#x27;grad_boost&#x27;, HistGradientBoostingRegressor())])</pre></div></div></div><div class=\"sk-serial\"><div class=\"sk-item\"><div class=\"sk-serial\"><div class=\"sk-item sk-dashed-wrapped\"><div class=\"sk-label-container\"><div class=\"sk-label sk-toggleable\"><input class=\"sk-toggleable__control sk-hidden--visually\" id=\"sk-estimator-id-21\" type=\"checkbox\" ><label for=\"sk-estimator-id-21\" class=\"sk-toggleable__label sk-toggleable__label-arrow\">grad_boost_trans: ColumnTransformer</label><div class=\"sk-toggleable__content\"><pre>ColumnTransformer(remainder=&#x27;passthrough&#x27;,\n",
       "                  transformers=[(&#x27;encode_ord&#x27;,\n",
       "                                 OrdinalEncoder(handle_unknown=&#x27;use_encoded_value&#x27;,\n",
       "                                                unknown_value=-1),\n",
       "                                 [&#x27;sex&#x27;, &#x27;smoker&#x27;, &#x27;region&#x27;])])</pre></div></div></div><div class=\"sk-parallel\"><div class=\"sk-parallel-item\"><div class=\"sk-item\"><div class=\"sk-label-container\"><div class=\"sk-label sk-toggleable\"><input class=\"sk-toggleable__control sk-hidden--visually\" id=\"sk-estimator-id-22\" type=\"checkbox\" ><label for=\"sk-estimator-id-22\" class=\"sk-toggleable__label sk-toggleable__label-arrow\">encode_ord</label><div class=\"sk-toggleable__content\"><pre>[&#x27;sex&#x27;, &#x27;smoker&#x27;, &#x27;region&#x27;]</pre></div></div></div><div class=\"sk-serial\"><div class=\"sk-item\"><div class=\"sk-estimator sk-toggleable\"><input class=\"sk-toggleable__control sk-hidden--visually\" id=\"sk-estimator-id-23\" type=\"checkbox\" ><label for=\"sk-estimator-id-23\" class=\"sk-toggleable__label sk-toggleable__label-arrow\">OrdinalEncoder</label><div class=\"sk-toggleable__content\"><pre>OrdinalEncoder(handle_unknown=&#x27;use_encoded_value&#x27;, unknown_value=-1)</pre></div></div></div></div></div></div><div class=\"sk-parallel-item\"><div class=\"sk-item\"><div class=\"sk-label-container\"><div class=\"sk-label sk-toggleable\"><input class=\"sk-toggleable__control sk-hidden--visually\" id=\"sk-estimator-id-24\" type=\"checkbox\" ><label for=\"sk-estimator-id-24\" class=\"sk-toggleable__label sk-toggleable__label-arrow\">remainder</label><div class=\"sk-toggleable__content\"><pre></pre></div></div></div><div class=\"sk-serial\"><div class=\"sk-item\"><div class=\"sk-estimator sk-toggleable\"><input class=\"sk-toggleable__control sk-hidden--visually\" id=\"sk-estimator-id-25\" type=\"checkbox\" ><label for=\"sk-estimator-id-25\" class=\"sk-toggleable__label sk-toggleable__label-arrow\">passthrough</label><div class=\"sk-toggleable__content\"><pre>passthrough</pre></div></div></div></div></div></div></div></div><div class=\"sk-item\"><div class=\"sk-estimator sk-toggleable\"><input class=\"sk-toggleable__control sk-hidden--visually\" id=\"sk-estimator-id-26\" type=\"checkbox\" ><label for=\"sk-estimator-id-26\" class=\"sk-toggleable__label sk-toggleable__label-arrow\">HistGradientBoostingRegressor</label><div class=\"sk-toggleable__content\"><pre>HistGradientBoostingRegressor()</pre></div></div></div></div></div></div></div></div></div></div></div></div>"
      ],
      "text/plain": [
       "GridSearchCV(estimator=Pipeline(steps=[('grad_boost_trans',\n",
       "                                        ColumnTransformer(remainder='passthrough',\n",
       "                                                          transformers=[('encode_ord',\n",
       "                                                                         OrdinalEncoder(handle_unknown='use_encoded_value',\n",
       "                                                                                        unknown_value=-1),\n",
       "                                                                         ['sex',\n",
       "                                                                          'smoker',\n",
       "                                                                          'region'])])),\n",
       "                                       ('grad_boost',\n",
       "                                        HistGradientBoostingRegressor())]),\n",
       "             n_jobs=8,\n",
       "             param_grid={'grad_boost__learning_rate': array([0.0001    , 0.00354483,...\n",
       "        55,  56,  57,  58,  59,  60,  61,  62,  63,  64,  65,  66,  67,\n",
       "        68,  69,  70,  71,  72,  73,  74,  75,  76,  77,  78,  79,  80,\n",
       "        81,  82,  83,  84,  85,  86,  87,  88,  89,  90,  91,  92,  93,\n",
       "        94,  95,  96,  97,  98,  99, 101, 102, 103, 104, 105, 106, 107,\n",
       "       108, 109, 110, 111, 112, 113, 114, 115, 116, 117, 118, 119, 120,\n",
       "       121, 122, 123, 124, 125, 126, 127, 128, 129, 130, 131, 132, 133,\n",
       "       134, 135, 136, 137, 138, 139, 140, 141, 142, 143, 144, 145, 146,\n",
       "       147, 148, 150])},\n",
       "             scoring='neg_mean_absolute_error', verbose=1)"
      ]
     },
     "execution_count": 51,
     "metadata": {},
     "output_type": "execute_result"
    }
   ],
   "source": [
    "grid_gradboost.fit(data_train.loc[:, ~data_train.columns.isin(['charges'])], data_train['charges'])"
   ]
  },
  {
   "cell_type": "code",
   "execution_count": 52,
   "metadata": {},
   "outputs": [
    {
     "data": {
      "text/plain": [
       "-2437.2914816229486"
      ]
     },
     "execution_count": 52,
     "metadata": {},
     "output_type": "execute_result"
    }
   ],
   "source": [
    "grid_gradboost.best_score_"
   ]
  },
  {
   "cell_type": "code",
   "execution_count": 53,
   "metadata": {},
   "outputs": [
    {
     "data": {
      "text/plain": [
       "{'grad_boost__learning_rate': 0.05866206896551725,\n",
       " 'grad_boost__max_depth': 3,\n",
       " 'grad_boost__min_samples_leaf': 9}"
      ]
     },
     "execution_count": 53,
     "metadata": {},
     "output_type": "execute_result"
    }
   ],
   "source": [
    "grid_gradboost.best_params_"
   ]
  },
  {
   "cell_type": "code",
   "execution_count": null,
   "metadata": {},
   "outputs": [],
   "source": []
  }
 ],
 "metadata": {
  "kernelspec": {
   "display_name": "Python 3",
   "language": "python",
   "name": "python3"
  },
  "language_info": {
   "codemirror_mode": {
    "name": "ipython",
    "version": 3
   },
   "file_extension": ".py",
   "mimetype": "text/x-python",
   "name": "python",
   "nbconvert_exporter": "python",
   "pygments_lexer": "ipython3",
   "version": "3.8.3"
  }
 },
 "nbformat": 4,
 "nbformat_minor": 5
}
