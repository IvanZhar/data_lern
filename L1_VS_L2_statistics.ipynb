{
 "cells": [
  {
   "cell_type": "code",
   "execution_count": 1,
   "metadata": {},
   "outputs": [],
   "source": [
    "import numpy as np\n",
    "import pandas as pd\n",
    "import plotly.express as px\n",
    "import plotly.graph_objects as go\n",
    "from sklearn.preprocessing import OneHotEncoder, StandardScaler, PolynomialFeatures, OrdinalEncoder\n",
    "from sklearn.pipeline import Pipeline\n",
    "from sklearn.compose import ColumnTransformer\n",
    "from sklearn.linear_model import Lasso, Ridge\n",
    "from sklearn.model_selection import GridSearchCV, cross_validate\n",
    "from sklearn.tree import DecisionTreeRegressor\n",
    "from sklearn.metrics import mean_absolute_error as mae\n",
    "from sklearn.ensemble import RandomForestRegressor as RFR\n",
    "from  sklearn.utils import resample\n",
    "import scipy.stats as st\n",
    "import math as m"
   ]
  },
  {
   "cell_type": "code",
   "execution_count": 2,
   "metadata": {},
   "outputs": [
    {
     "data": {
      "text/html": [
       "<div>\n",
       "<style scoped>\n",
       "    .dataframe tbody tr th:only-of-type {\n",
       "        vertical-align: middle;\n",
       "    }\n",
       "\n",
       "    .dataframe tbody tr th {\n",
       "        vertical-align: top;\n",
       "    }\n",
       "\n",
       "    .dataframe thead th {\n",
       "        text-align: right;\n",
       "    }\n",
       "</style>\n",
       "<table border=\"1\" class=\"dataframe\">\n",
       "  <thead>\n",
       "    <tr style=\"text-align: right;\">\n",
       "      <th></th>\n",
       "      <th>age</th>\n",
       "      <th>sex</th>\n",
       "      <th>bmi</th>\n",
       "      <th>children</th>\n",
       "      <th>smoker</th>\n",
       "      <th>region</th>\n",
       "      <th>charges</th>\n",
       "    </tr>\n",
       "  </thead>\n",
       "  <tbody>\n",
       "    <tr>\n",
       "      <th>1156</th>\n",
       "      <td>19</td>\n",
       "      <td>male</td>\n",
       "      <td>44.880</td>\n",
       "      <td>0</td>\n",
       "      <td>yes</td>\n",
       "      <td>southeast</td>\n",
       "      <td>39722.74620</td>\n",
       "    </tr>\n",
       "    <tr>\n",
       "      <th>655</th>\n",
       "      <td>52</td>\n",
       "      <td>female</td>\n",
       "      <td>25.300</td>\n",
       "      <td>2</td>\n",
       "      <td>yes</td>\n",
       "      <td>southeast</td>\n",
       "      <td>24667.41900</td>\n",
       "    </tr>\n",
       "    <tr>\n",
       "      <th>71</th>\n",
       "      <td>31</td>\n",
       "      <td>male</td>\n",
       "      <td>28.500</td>\n",
       "      <td>5</td>\n",
       "      <td>no</td>\n",
       "      <td>northeast</td>\n",
       "      <td>6799.45800</td>\n",
       "    </tr>\n",
       "    <tr>\n",
       "      <th>1</th>\n",
       "      <td>18</td>\n",
       "      <td>male</td>\n",
       "      <td>33.770</td>\n",
       "      <td>1</td>\n",
       "      <td>no</td>\n",
       "      <td>southeast</td>\n",
       "      <td>1725.55230</td>\n",
       "    </tr>\n",
       "    <tr>\n",
       "      <th>760</th>\n",
       "      <td>22</td>\n",
       "      <td>female</td>\n",
       "      <td>34.580</td>\n",
       "      <td>2</td>\n",
       "      <td>no</td>\n",
       "      <td>northeast</td>\n",
       "      <td>3925.75820</td>\n",
       "    </tr>\n",
       "    <tr>\n",
       "      <th>...</th>\n",
       "      <td>...</td>\n",
       "      <td>...</td>\n",
       "      <td>...</td>\n",
       "      <td>...</td>\n",
       "      <td>...</td>\n",
       "      <td>...</td>\n",
       "      <td>...</td>\n",
       "    </tr>\n",
       "    <tr>\n",
       "      <th>714</th>\n",
       "      <td>24</td>\n",
       "      <td>female</td>\n",
       "      <td>22.600</td>\n",
       "      <td>0</td>\n",
       "      <td>no</td>\n",
       "      <td>southwest</td>\n",
       "      <td>2457.50200</td>\n",
       "    </tr>\n",
       "    <tr>\n",
       "      <th>774</th>\n",
       "      <td>41</td>\n",
       "      <td>male</td>\n",
       "      <td>34.200</td>\n",
       "      <td>2</td>\n",
       "      <td>no</td>\n",
       "      <td>northwest</td>\n",
       "      <td>7261.74100</td>\n",
       "    </tr>\n",
       "    <tr>\n",
       "      <th>278</th>\n",
       "      <td>59</td>\n",
       "      <td>male</td>\n",
       "      <td>31.790</td>\n",
       "      <td>2</td>\n",
       "      <td>no</td>\n",
       "      <td>southeast</td>\n",
       "      <td>12928.79110</td>\n",
       "    </tr>\n",
       "    <tr>\n",
       "      <th>1157</th>\n",
       "      <td>23</td>\n",
       "      <td>female</td>\n",
       "      <td>23.180</td>\n",
       "      <td>2</td>\n",
       "      <td>no</td>\n",
       "      <td>northwest</td>\n",
       "      <td>14426.07385</td>\n",
       "    </tr>\n",
       "    <tr>\n",
       "      <th>832</th>\n",
       "      <td>28</td>\n",
       "      <td>female</td>\n",
       "      <td>23.845</td>\n",
       "      <td>2</td>\n",
       "      <td>no</td>\n",
       "      <td>northwest</td>\n",
       "      <td>4719.73655</td>\n",
       "    </tr>\n",
       "  </tbody>\n",
       "</table>\n",
       "<p>1204 rows × 7 columns</p>\n",
       "</div>"
      ],
      "text/plain": [
       "      age     sex     bmi  children smoker     region      charges\n",
       "1156   19    male  44.880         0    yes  southeast  39722.74620\n",
       "655    52  female  25.300         2    yes  southeast  24667.41900\n",
       "71     31    male  28.500         5     no  northeast   6799.45800\n",
       "1      18    male  33.770         1     no  southeast   1725.55230\n",
       "760    22  female  34.580         2     no  northeast   3925.75820\n",
       "...   ...     ...     ...       ...    ...        ...          ...\n",
       "714    24  female  22.600         0     no  southwest   2457.50200\n",
       "774    41    male  34.200         2     no  northwest   7261.74100\n",
       "278    59    male  31.790         2     no  southeast  12928.79110\n",
       "1157   23  female  23.180         2     no  northwest  14426.07385\n",
       "832    28  female  23.845         2     no  northwest   4719.73655\n",
       "\n",
       "[1204 rows x 7 columns]"
      ]
     },
     "execution_count": 2,
     "metadata": {},
     "output_type": "execute_result"
    }
   ],
   "source": [
    "data = pd.read_csv('insurance.csv', sep=',')\n",
    "data_train = data.sample(frac=0.9)\n",
    "data_validate = data.loc[~data.index.isin(data_train.index)]\n",
    "data_train"
   ]
  },
  {
   "cell_type": "markdown",
   "metadata": {},
   "source": [
    "# **L1 CONFIDENCE INTERVAL 95**"
   ]
  },
  {
   "cell_type": "markdown",
   "metadata": {},
   "source": [
    "**CREATE COLUMN TRANSFORMER**"
   ]
  },
  {
   "cell_type": "code",
   "execution_count": 3,
   "metadata": {},
   "outputs": [],
   "source": [
    "col_trans_l1 = ColumnTransformer([\n",
    "    ('scaller', StandardScaler(), ['age', 'bmi', 'children']),\n",
    "    ('hot_encode', OneHotEncoder(handle_unknown='ignore', drop='first'), ['sex', 'smoker', 'region']),\n",
    "], remainder='passthrough')"
   ]
  },
  {
   "cell_type": "markdown",
   "metadata": {},
   "source": [
    "**CREATE PIPE**"
   ]
  },
  {
   "cell_type": "code",
   "execution_count": 4,
   "metadata": {},
   "outputs": [],
   "source": [
    "pipe_l1 = Pipeline([\n",
    "    ('col_trans_l1', col_trans_l1), \n",
    "    ('poly', PolynomialFeatures(degree=4, include_bias=False)), \n",
    "    ('lasso', Lasso(alpha=69.56552173913043))\n",
    "])"
   ]
  },
  {
   "cell_type": "code",
   "execution_count": 5,
   "metadata": {},
   "outputs": [
    {
     "data": {
      "text/html": [
       "<style>#sk-container-id-1 {color: black;background-color: white;}#sk-container-id-1 pre{padding: 0;}#sk-container-id-1 div.sk-toggleable {background-color: white;}#sk-container-id-1 label.sk-toggleable__label {cursor: pointer;display: block;width: 100%;margin-bottom: 0;padding: 0.3em;box-sizing: border-box;text-align: center;}#sk-container-id-1 label.sk-toggleable__label-arrow:before {content: \"▸\";float: left;margin-right: 0.25em;color: #696969;}#sk-container-id-1 label.sk-toggleable__label-arrow:hover:before {color: black;}#sk-container-id-1 div.sk-estimator:hover label.sk-toggleable__label-arrow:before {color: black;}#sk-container-id-1 div.sk-toggleable__content {max-height: 0;max-width: 0;overflow: hidden;text-align: left;background-color: #f0f8ff;}#sk-container-id-1 div.sk-toggleable__content pre {margin: 0.2em;color: black;border-radius: 0.25em;background-color: #f0f8ff;}#sk-container-id-1 input.sk-toggleable__control:checked~div.sk-toggleable__content {max-height: 200px;max-width: 100%;overflow: auto;}#sk-container-id-1 input.sk-toggleable__control:checked~label.sk-toggleable__label-arrow:before {content: \"▾\";}#sk-container-id-1 div.sk-estimator input.sk-toggleable__control:checked~label.sk-toggleable__label {background-color: #d4ebff;}#sk-container-id-1 div.sk-label input.sk-toggleable__control:checked~label.sk-toggleable__label {background-color: #d4ebff;}#sk-container-id-1 input.sk-hidden--visually {border: 0;clip: rect(1px 1px 1px 1px);clip: rect(1px, 1px, 1px, 1px);height: 1px;margin: -1px;overflow: hidden;padding: 0;position: absolute;width: 1px;}#sk-container-id-1 div.sk-estimator {font-family: monospace;background-color: #f0f8ff;border: 1px dotted black;border-radius: 0.25em;box-sizing: border-box;margin-bottom: 0.5em;}#sk-container-id-1 div.sk-estimator:hover {background-color: #d4ebff;}#sk-container-id-1 div.sk-parallel-item::after {content: \"\";width: 100%;border-bottom: 1px solid gray;flex-grow: 1;}#sk-container-id-1 div.sk-label:hover label.sk-toggleable__label {background-color: #d4ebff;}#sk-container-id-1 div.sk-serial::before {content: \"\";position: absolute;border-left: 1px solid gray;box-sizing: border-box;top: 0;bottom: 0;left: 50%;z-index: 0;}#sk-container-id-1 div.sk-serial {display: flex;flex-direction: column;align-items: center;background-color: white;padding-right: 0.2em;padding-left: 0.2em;position: relative;}#sk-container-id-1 div.sk-item {position: relative;z-index: 1;}#sk-container-id-1 div.sk-parallel {display: flex;align-items: stretch;justify-content: center;background-color: white;position: relative;}#sk-container-id-1 div.sk-item::before, #sk-container-id-1 div.sk-parallel-item::before {content: \"\";position: absolute;border-left: 1px solid gray;box-sizing: border-box;top: 0;bottom: 0;left: 50%;z-index: -1;}#sk-container-id-1 div.sk-parallel-item {display: flex;flex-direction: column;z-index: 1;position: relative;background-color: white;}#sk-container-id-1 div.sk-parallel-item:first-child::after {align-self: flex-end;width: 50%;}#sk-container-id-1 div.sk-parallel-item:last-child::after {align-self: flex-start;width: 50%;}#sk-container-id-1 div.sk-parallel-item:only-child::after {width: 0;}#sk-container-id-1 div.sk-dashed-wrapped {border: 1px dashed gray;margin: 0 0.4em 0.5em 0.4em;box-sizing: border-box;padding-bottom: 0.4em;background-color: white;}#sk-container-id-1 div.sk-label label {font-family: monospace;font-weight: bold;display: inline-block;line-height: 1.2em;}#sk-container-id-1 div.sk-label-container {text-align: center;}#sk-container-id-1 div.sk-container {/* jupyter's `normalize.less` sets `[hidden] { display: none; }` but bootstrap.min.css set `[hidden] { display: none !important; }` so we also need the `!important` here to be able to override the default hidden behavior on the sphinx rendered scikit-learn.org. See: https://github.com/scikit-learn/scikit-learn/issues/21755 */display: inline-block !important;position: relative;}#sk-container-id-1 div.sk-text-repr-fallback {display: none;}</style><div id=\"sk-container-id-1\" class=\"sk-top-container\"><div class=\"sk-text-repr-fallback\"><pre>ColumnTransformer(remainder=&#x27;passthrough&#x27;,\n",
       "                  transformers=[(&#x27;scaller&#x27;, StandardScaler(),\n",
       "                                 [&#x27;age&#x27;, &#x27;bmi&#x27;, &#x27;children&#x27;]),\n",
       "                                (&#x27;hot_encode&#x27;,\n",
       "                                 OneHotEncoder(drop=&#x27;first&#x27;,\n",
       "                                               handle_unknown=&#x27;ignore&#x27;),\n",
       "                                 [&#x27;sex&#x27;, &#x27;smoker&#x27;, &#x27;region&#x27;])])</pre><b>In a Jupyter environment, please rerun this cell to show the HTML representation or trust the notebook. <br />On GitHub, the HTML representation is unable to render, please try loading this page with nbviewer.org.</b></div><div class=\"sk-container\" hidden><div class=\"sk-item sk-dashed-wrapped\"><div class=\"sk-label-container\"><div class=\"sk-label sk-toggleable\"><input class=\"sk-toggleable__control sk-hidden--visually\" id=\"sk-estimator-id-1\" type=\"checkbox\" ><label for=\"sk-estimator-id-1\" class=\"sk-toggleable__label sk-toggleable__label-arrow\">ColumnTransformer</label><div class=\"sk-toggleable__content\"><pre>ColumnTransformer(remainder=&#x27;passthrough&#x27;,\n",
       "                  transformers=[(&#x27;scaller&#x27;, StandardScaler(),\n",
       "                                 [&#x27;age&#x27;, &#x27;bmi&#x27;, &#x27;children&#x27;]),\n",
       "                                (&#x27;hot_encode&#x27;,\n",
       "                                 OneHotEncoder(drop=&#x27;first&#x27;,\n",
       "                                               handle_unknown=&#x27;ignore&#x27;),\n",
       "                                 [&#x27;sex&#x27;, &#x27;smoker&#x27;, &#x27;region&#x27;])])</pre></div></div></div><div class=\"sk-parallel\"><div class=\"sk-parallel-item\"><div class=\"sk-item\"><div class=\"sk-label-container\"><div class=\"sk-label sk-toggleable\"><input class=\"sk-toggleable__control sk-hidden--visually\" id=\"sk-estimator-id-2\" type=\"checkbox\" ><label for=\"sk-estimator-id-2\" class=\"sk-toggleable__label sk-toggleable__label-arrow\">scaller</label><div class=\"sk-toggleable__content\"><pre>[&#x27;age&#x27;, &#x27;bmi&#x27;, &#x27;children&#x27;]</pre></div></div></div><div class=\"sk-serial\"><div class=\"sk-item\"><div class=\"sk-estimator sk-toggleable\"><input class=\"sk-toggleable__control sk-hidden--visually\" id=\"sk-estimator-id-3\" type=\"checkbox\" ><label for=\"sk-estimator-id-3\" class=\"sk-toggleable__label sk-toggleable__label-arrow\">StandardScaler</label><div class=\"sk-toggleable__content\"><pre>StandardScaler()</pre></div></div></div></div></div></div><div class=\"sk-parallel-item\"><div class=\"sk-item\"><div class=\"sk-label-container\"><div class=\"sk-label sk-toggleable\"><input class=\"sk-toggleable__control sk-hidden--visually\" id=\"sk-estimator-id-4\" type=\"checkbox\" ><label for=\"sk-estimator-id-4\" class=\"sk-toggleable__label sk-toggleable__label-arrow\">hot_encode</label><div class=\"sk-toggleable__content\"><pre>[&#x27;sex&#x27;, &#x27;smoker&#x27;, &#x27;region&#x27;]</pre></div></div></div><div class=\"sk-serial\"><div class=\"sk-item\"><div class=\"sk-estimator sk-toggleable\"><input class=\"sk-toggleable__control sk-hidden--visually\" id=\"sk-estimator-id-5\" type=\"checkbox\" ><label for=\"sk-estimator-id-5\" class=\"sk-toggleable__label sk-toggleable__label-arrow\">OneHotEncoder</label><div class=\"sk-toggleable__content\"><pre>OneHotEncoder(drop=&#x27;first&#x27;, handle_unknown=&#x27;ignore&#x27;)</pre></div></div></div></div></div></div><div class=\"sk-parallel-item\"><div class=\"sk-item\"><div class=\"sk-label-container\"><div class=\"sk-label sk-toggleable\"><input class=\"sk-toggleable__control sk-hidden--visually\" id=\"sk-estimator-id-6\" type=\"checkbox\" ><label for=\"sk-estimator-id-6\" class=\"sk-toggleable__label sk-toggleable__label-arrow\">remainder</label><div class=\"sk-toggleable__content\"><pre>[]</pre></div></div></div><div class=\"sk-serial\"><div class=\"sk-item\"><div class=\"sk-estimator sk-toggleable\"><input class=\"sk-toggleable__control sk-hidden--visually\" id=\"sk-estimator-id-7\" type=\"checkbox\" ><label for=\"sk-estimator-id-7\" class=\"sk-toggleable__label sk-toggleable__label-arrow\">passthrough</label><div class=\"sk-toggleable__content\"><pre>passthrough</pre></div></div></div></div></div></div></div></div></div></div>"
      ],
      "text/plain": [
       "ColumnTransformer(remainder='passthrough',\n",
       "                  transformers=[('scaller', StandardScaler(),\n",
       "                                 ['age', 'bmi', 'children']),\n",
       "                                ('hot_encode',\n",
       "                                 OneHotEncoder(drop='first',\n",
       "                                               handle_unknown='ignore'),\n",
       "                                 ['sex', 'smoker', 'region'])])"
      ]
     },
     "execution_count": 5,
     "metadata": {},
     "output_type": "execute_result"
    }
   ],
   "source": [
    "pipe_l1[0].fit(data_train.loc[:, ~data_train.columns.isin(['charges'])], data_train['charges'])"
   ]
  },
  {
   "cell_type": "markdown",
   "metadata": {},
   "source": [
    "**L1 RESULTS- BEST TEST SCORE**"
   ]
  },
  {
   "cell_type": "code",
   "execution_count": 6,
   "metadata": {},
   "outputs": [],
   "source": [
    "def btstrap_cv_score(data, pipe):\n",
    "    res = np.zeros((300,), dtype=int)\n",
    "    for i in range(300):\n",
    "        resampled_data = resample(data)\n",
    "        res[i] = -np.mean(cross_validate(pipe,\n",
    "                                         resampled_data.loc[:, ~resampled_data.columns.isin(['charges'])],\n",
    "                                         resampled_data['charges'],\n",
    "                                         cv=30,\n",
    "                                         scoring=('neg_mean_absolute_error',))['test_neg_mean_absolute_error'])\n",
    "    return res"
   ]
  },
  {
   "cell_type": "code",
   "execution_count": 7,
   "metadata": {
    "collapsed": true,
    "jupyter": {
     "outputs_hidden": true
    }
   },
   "outputs": [
    {
     "name": "stderr",
     "output_type": "stream",
     "text": [
      "D:\\Programming\\Anaconda\\lib\\site-packages\\sklearn\\linear_model\\_coordinate_descent.py:631: ConvergenceWarning: Objective did not converge. You might want to increase the number of iterations, check the scale of the features or consider increasing regularisation. Duality gap: 2.808e+07, tolerance: 1.633e+07\n",
      "  model = cd_fast.enet_coordinate_descent(\n",
      "D:\\Programming\\Anaconda\\lib\\site-packages\\sklearn\\linear_model\\_coordinate_descent.py:631: ConvergenceWarning: Objective did not converge. You might want to increase the number of iterations, check the scale of the features or consider increasing regularisation. Duality gap: 1.921e+07, tolerance: 1.625e+07\n",
      "  model = cd_fast.enet_coordinate_descent(\n",
      "D:\\Programming\\Anaconda\\lib\\site-packages\\sklearn\\linear_model\\_coordinate_descent.py:631: ConvergenceWarning: Objective did not converge. You might want to increase the number of iterations, check the scale of the features or consider increasing regularisation. Duality gap: 1.608e+07, tolerance: 1.600e+07\n",
      "  model = cd_fast.enet_coordinate_descent(\n",
      "D:\\Programming\\Anaconda\\lib\\site-packages\\sklearn\\linear_model\\_coordinate_descent.py:631: ConvergenceWarning: Objective did not converge. You might want to increase the number of iterations, check the scale of the features or consider increasing regularisation. Duality gap: 1.820e+07, tolerance: 1.608e+07\n",
      "  model = cd_fast.enet_coordinate_descent(\n",
      "D:\\Programming\\Anaconda\\lib\\site-packages\\sklearn\\linear_model\\_coordinate_descent.py:631: ConvergenceWarning: Objective did not converge. You might want to increase the number of iterations, check the scale of the features or consider increasing regularisation. Duality gap: 1.695e+07, tolerance: 1.612e+07\n",
      "  model = cd_fast.enet_coordinate_descent(\n",
      "D:\\Programming\\Anaconda\\lib\\site-packages\\sklearn\\linear_model\\_coordinate_descent.py:631: ConvergenceWarning: Objective did not converge. You might want to increase the number of iterations, check the scale of the features or consider increasing regularisation. Duality gap: 2.931e+07, tolerance: 1.630e+07\n",
      "  model = cd_fast.enet_coordinate_descent(\n",
      "D:\\Programming\\Anaconda\\lib\\site-packages\\sklearn\\linear_model\\_coordinate_descent.py:631: ConvergenceWarning: Objective did not converge. You might want to increase the number of iterations, check the scale of the features or consider increasing regularisation. Duality gap: 2.302e+07, tolerance: 1.596e+07\n",
      "  model = cd_fast.enet_coordinate_descent(\n",
      "D:\\Programming\\Anaconda\\lib\\site-packages\\sklearn\\linear_model\\_coordinate_descent.py:631: ConvergenceWarning: Objective did not converge. You might want to increase the number of iterations, check the scale of the features or consider increasing regularisation. Duality gap: 1.641e+07, tolerance: 1.602e+07\n",
      "  model = cd_fast.enet_coordinate_descent(\n"
     ]
    }
   ],
   "source": [
    "l1_res = btstrap_cv_score(data_train, pipe_l1)"
   ]
  },
  {
   "cell_type": "code",
   "execution_count": 8,
   "metadata": {},
   "outputs": [
    {
     "data": {
      "text/plain": [
       "array([2967, 3025, 2830, 2986, 2645, 2928, 2826, 2883, 2789, 2785, 2604,\n",
       "       2931, 2661, 2770, 2727, 2809, 2570, 3090, 2774, 2761, 3040, 2911,\n",
       "       2915, 2846, 2642, 2760, 2879, 2984, 2475, 2738, 2787, 2574, 2853,\n",
       "       2863, 3045, 3131, 2708, 2716, 3120, 3057, 2933, 2658, 2806, 2959,\n",
       "       2868, 2875, 2906, 2956, 2705, 2930, 3074, 2786, 2967, 2751, 2911,\n",
       "       2724, 2645, 2577, 2629, 2944, 2848, 3111, 2579, 2968, 2794, 2635,\n",
       "       2719, 2741, 2627, 2980, 2710, 2753, 2697, 2630, 2562, 2940, 2722,\n",
       "       2609, 2913, 2634, 2901, 2375, 2718, 2644, 2829, 2872, 2923, 3108,\n",
       "       2767, 2900, 2691, 2398, 2568, 2812, 2832, 2845, 2821, 2887, 2651,\n",
       "       2718, 2888, 2922, 2326, 2852, 2489, 2891, 2609, 2559, 2857, 2744,\n",
       "       2860, 2821, 2785, 2607, 2521, 2919, 2982, 2920, 2789, 2902, 2428,\n",
       "       2661, 2913, 3040, 3005, 2416, 2752, 2835, 3203, 2893, 2963, 2889,\n",
       "       2605, 2685, 3055, 2581, 2889, 2614, 2765, 2843, 2784, 3201, 2640,\n",
       "       2805, 2883, 2762, 2714, 2909, 2706, 2498, 3156, 2655, 2878, 2540,\n",
       "       2959, 3000, 3034, 2996, 2788, 2663, 2955, 2666, 3228, 2770, 2776,\n",
       "       2710, 2531, 2927, 2588, 2586, 2926, 2693, 2978, 2999, 2641, 2923,\n",
       "       2604, 2801, 2749, 3001, 2957, 2876, 2788, 2958, 3161, 2945, 2785,\n",
       "       2719, 2884, 3104, 2762, 2983, 2701, 2862, 2576, 2702, 2738, 2764,\n",
       "       3367, 3080, 2849, 2643, 2869, 2740, 2796, 2766, 2721, 2393, 2849,\n",
       "       2672, 2724, 2802, 2773, 2595, 2936, 2935, 2823, 2817, 2489, 2963,\n",
       "       2829, 2670, 2680, 3115, 2606, 2501, 2916, 2668, 2758, 2604, 2828,\n",
       "       2871, 2882, 2734, 3028, 2827, 2728, 2912, 2747, 2598, 2812, 3164,\n",
       "       2841, 2813, 2601, 2989, 2640, 2705, 2486, 2736, 2500, 3066, 2448,\n",
       "       2855, 2839, 2915, 2889, 3000, 2987, 2543, 3280, 2954, 2799, 2647,\n",
       "       2927, 2575, 2681, 3218, 2735, 2714, 2853, 2951, 2714, 2587, 2599,\n",
       "       2566, 2791, 3023, 2517, 2763, 3058, 2560, 3006, 2522, 2832, 2905,\n",
       "       2462, 2815, 2680, 2570, 2856, 2584, 2760, 2640, 2793, 2916, 2373,\n",
       "       3034, 2834, 2756])"
      ]
     },
     "execution_count": 8,
     "metadata": {},
     "output_type": "execute_result"
    }
   ],
   "source": [
    "l1_res"
   ]
  },
  {
   "cell_type": "code",
   "execution_count": 9,
   "metadata": {},
   "outputs": [],
   "source": [
    "l1_res_df = pd.DataFrame(data=l1_res, columns=['means'])"
   ]
  },
  {
   "cell_type": "markdown",
   "metadata": {},
   "source": [
    "**CALCULATE 95% CONFIDENSE INTERVAL**"
   ]
  },
  {
   "cell_type": "code",
   "execution_count": 10,
   "metadata": {},
   "outputs": [],
   "source": [
    "def conf_interv(array, conf_lvl):\n",
    "    return (np.mean(array) - conf_lvl * (np.std(array) / m.sqrt(array.shape[0])), np.mean(array) + conf_lvl * (np.std(array) / m.sqrt(array.shape[0])))"
   ]
  },
  {
   "cell_type": "code",
   "execution_count": 11,
   "metadata": {},
   "outputs": [
    {
     "data": {
      "text/plain": [
       "(2777.819580927515, 2818.1137524058186)"
      ]
     },
     "execution_count": 11,
     "metadata": {},
     "output_type": "execute_result"
    }
   ],
   "source": [
    "conf_interv(l1_res, 1.96)"
   ]
  },
  {
   "cell_type": "markdown",
   "metadata": {},
   "source": [
    "**BUILD HISTOGRAM**"
   ]
  },
  {
   "cell_type": "code",
   "execution_count": 12,
   "metadata": {},
   "outputs": [
    {
     "data": {
      "text/plain": [
       "array([[<matplotlib.axes._subplots.AxesSubplot object at 0x0000016284207820>]],\n",
       "      dtype=object)"
      ]
     },
     "execution_count": 12,
     "metadata": {},
     "output_type": "execute_result"
    },
    {
     "data": {
      "image/png": "[encoded data removed]",
      "text/plain": [
       "<Figure size 432x288 with 1 Axes>"
      ]
     },
     "metadata": {
      "needs_background": "light"
     },
     "output_type": "display_data"
    }
   ],
   "source": [
    "l1_res_df.hist(bins=20)"
   ]
  },
  {
   "cell_type": "code",
   "execution_count": 13,
   "metadata": {},
   "outputs": [
    {
     "data": {
      "text/plain": [
       "(2777.704272018029, 2818.2290613153045)"
      ]
     },
     "execution_count": 13,
     "metadata": {},
     "output_type": "execute_result"
    }
   ],
   "source": [
    "st.t.interval(alpha=0.95, df=len(l1_res)-1, loc=np.mean(l1_res), scale=st.sem(l1_res))"
   ]
  },
  {
   "cell_type": "markdown",
   "metadata": {},
   "source": [
    "# **L2 95 CONFIDENCE INTERVAL**"
   ]
  },
  {
   "cell_type": "markdown",
   "metadata": {},
   "source": [
    "**LETS CREATE PIPE (WE CAN USE THE SAME COLUMN TRANSFORMER)**"
   ]
  },
  {
   "cell_type": "code",
   "execution_count": 14,
   "metadata": {},
   "outputs": [],
   "source": [
    "col_trans_l2 = col_trans_l1"
   ]
  },
  {
   "cell_type": "code",
   "execution_count": 15,
   "metadata": {},
   "outputs": [],
   "source": [
    "pipe_l2 = Pipeline([\n",
    "    ('col_trans_l2', col_trans_l2), \n",
    "    ('poly', PolynomialFeatures(degree=2, include_bias=False)), \n",
    "    ('ridge', Ridge(alpha=1e-05))\n",
    "])"
   ]
  },
  {
   "cell_type": "markdown",
   "metadata": {},
   "source": [
    "**CALCULATE RESULTS**"
   ]
  },
  {
   "cell_type": "code",
   "execution_count": 16,
   "metadata": {},
   "outputs": [],
   "source": [
    "l2_res = btstrap_cv_score(data_train, pipe_l2)"
   ]
  },
  {
   "cell_type": "code",
   "execution_count": 17,
   "metadata": {},
   "outputs": [],
   "source": [
    "l2_res_df = pd.DataFrame(data=l2_res, columns=['means'])"
   ]
  },
  {
   "cell_type": "markdown",
   "metadata": {},
   "source": [
    "**BUILD HISTOGRAM**"
   ]
  },
  {
   "cell_type": "code",
   "execution_count": 18,
   "metadata": {},
   "outputs": [
    {
     "data": {
      "text/plain": [
       "array([[<matplotlib.axes._subplots.AxesSubplot object at 0x0000016284376340>]],\n",
       "      dtype=object)"
      ]
     },
     "execution_count": 18,
     "metadata": {},
     "output_type": "execute_result"
    },
    {
     "data": {
      "image/png": "[encoded data removed]",
      "text/plain": [
       "<Figure size 432x288 with 1 Axes>"
      ]
     },
     "metadata": {
      "needs_background": "light"
     },
     "output_type": "display_data"
    }
   ],
   "source": [
    "l2_res_df.hist(bins=20)"
   ]
  },
  {
   "cell_type": "markdown",
   "metadata": {},
   "source": [
    "# **DECISION TREE BOOTSTRAP**"
   ]
  },
  {
   "cell_type": "markdown",
   "metadata": {},
   "source": [
    "**CREATE COLLUMN TRANSFORMER**"
   ]
  },
  {
   "cell_type": "code",
   "execution_count": 19,
   "metadata": {},
   "outputs": [],
   "source": [
    "bintree_trans = ColumnTransformer([\n",
    "    ('encode', OneHotEncoder(handle_unknown='ignore', drop='first'), ['sex', 'smoker', 'region']),]\n",
    ")"
   ]
  },
  {
   "cell_type": "markdown",
   "metadata": {},
   "source": [
    "**CREATE PIPELINE**"
   ]
  },
  {
   "cell_type": "code",
   "execution_count": 21,
   "metadata": {},
   "outputs": [],
   "source": [
    "pipe_bintree = Pipeline([\n",
    "    ('bintree_trans', bintree_trans), \n",
    "    ('bintree', DecisionTreeRegressor(max_depth=5, min_samples_leaf=17))\n",
    "])"
   ]
  },
  {
   "cell_type": "markdown",
   "metadata": {},
   "source": [
    "**CALCULATE RESULTS**"
   ]
  },
  {
   "cell_type": "code",
   "execution_count": 22,
   "metadata": {},
   "outputs": [],
   "source": [
    "bintree_res = btstrap_cv_score(data_train, pipe_bintree)"
   ]
  },
  {
   "cell_type": "code",
   "execution_count": 23,
   "metadata": {},
   "outputs": [],
   "source": [
    "bintree_df = pd.DataFrame(data=bintree_res, columns=['means'])"
   ]
  },
  {
   "cell_type": "markdown",
   "metadata": {},
   "source": [
    "**BUILD HISTOGRAM**"
   ]
  },
  {
   "cell_type": "code",
   "execution_count": 24,
   "metadata": {},
   "outputs": [
    {
     "data": {
      "text/plain": [
       "array([[<matplotlib.axes._subplots.AxesSubplot object at 0x00000162843883D0>]],\n",
       "      dtype=object)"
      ]
     },
     "execution_count": 24,
     "metadata": {},
     "output_type": "execute_result"
    },
    {
     "data": {
      "image/png": "[encoded data removed]",
      "text/plain": [
       "<Figure size 432x288 with 1 Axes>"
      ]
     },
     "metadata": {
      "needs_background": "light"
     },
     "output_type": "display_data"
    }
   ],
   "source": [
    "bintree_df.hist(bins=20)"
   ]
  },
  {
   "cell_type": "code",
   "execution_count": null,
   "metadata": {},
   "outputs": [],
   "source": []
  }
 ],
 "metadata": {
  "kernelspec": {
   "display_name": "Python 3",
   "language": "python",
   "name": "python3"
  },
  "language_info": {
   "codemirror_mode": {
    "name": "ipython",
    "version": 3
   },
   "file_extension": ".py",
   "mimetype": "text/x-python",
   "name": "python",
   "nbconvert_exporter": "python",
   "pygments_lexer": "ipython3",
   "version": "3.8.3"
  }
 },
 "nbformat": 4,
 "nbformat_minor": 5
}
