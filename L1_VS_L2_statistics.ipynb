{
 "cells": [
  {
   "cell_type": "code",
   "execution_count": 2,
   "id": "d6883cda",
   "metadata": {},
   "outputs": [],
   "source": [
    "import numpy as np\n",
    "import pandas as pd\n",
    "import plotly.express as px\n",
    "import plotly.graph_objects as go\n",
    "from sklearn.preprocessing import OneHotEncoder, StandardScaler, PolynomialFeatures, OrdinalEncoder\n",
    "from sklearn.pipeline import Pipeline\n",
    "from sklearn.compose import ColumnTransformer\n",
    "from sklearn.linear_model import Lasso, Ridge\n",
    "from sklearn.model_selection import GridSearchCV, cross_validate\n",
    "from sklearn.tree import DecisionTreeRegressor\n",
    "from sklearn.metrics import mean_absolute_error as mae\n",
    "from sklearn.ensemble import RandomForestRegressor as RFR, HistGradientBoostingRegressor\n",
    "from  sklearn.utils import resample\n",
    "import scipy.stats as st\n",
    "import math as m\n",
    "from tqdm import tqdm\n",
    "# from lightgbm import RandomForestRegres"
   ]
  },
  {
   "cell_type": "code",
   "execution_count": 5,
   "id": "badecc8e",
   "metadata": {},
   "outputs": [
    {
     "data": {
      "text/html": [
       "<div>\n",
       "<style scoped>\n",
       "    .dataframe tbody tr th:only-of-type {\n",
       "        vertical-align: middle;\n",
       "    }\n",
       "\n",
       "    .dataframe tbody tr th {\n",
       "        vertical-align: top;\n",
       "    }\n",
       "\n",
       "    .dataframe thead th {\n",
       "        text-align: right;\n",
       "    }\n",
       "</style>\n",
       "<table border=\"1\" class=\"dataframe\">\n",
       "  <thead>\n",
       "    <tr style=\"text-align: right;\">\n",
       "      <th></th>\n",
       "      <th>age</th>\n",
       "      <th>sex</th>\n",
       "      <th>bmi</th>\n",
       "      <th>children</th>\n",
       "      <th>smoker</th>\n",
       "      <th>region</th>\n",
       "      <th>charges</th>\n",
       "    </tr>\n",
       "  </thead>\n",
       "  <tbody>\n",
       "    <tr>\n",
       "      <th>811</th>\n",
       "      <td>33</td>\n",
       "      <td>female</td>\n",
       "      <td>42.940</td>\n",
       "      <td>3</td>\n",
       "      <td>no</td>\n",
       "      <td>northwest</td>\n",
       "      <td>6360.99360</td>\n",
       "    </tr>\n",
       "    <tr>\n",
       "      <th>46</th>\n",
       "      <td>18</td>\n",
       "      <td>female</td>\n",
       "      <td>38.665</td>\n",
       "      <td>2</td>\n",
       "      <td>no</td>\n",
       "      <td>northeast</td>\n",
       "      <td>3393.35635</td>\n",
       "    </tr>\n",
       "    <tr>\n",
       "      <th>75</th>\n",
       "      <td>57</td>\n",
       "      <td>male</td>\n",
       "      <td>34.010</td>\n",
       "      <td>0</td>\n",
       "      <td>no</td>\n",
       "      <td>northwest</td>\n",
       "      <td>11356.66090</td>\n",
       "    </tr>\n",
       "    <tr>\n",
       "      <th>493</th>\n",
       "      <td>61</td>\n",
       "      <td>male</td>\n",
       "      <td>43.400</td>\n",
       "      <td>0</td>\n",
       "      <td>no</td>\n",
       "      <td>southwest</td>\n",
       "      <td>12574.04900</td>\n",
       "    </tr>\n",
       "    <tr>\n",
       "      <th>516</th>\n",
       "      <td>20</td>\n",
       "      <td>male</td>\n",
       "      <td>35.310</td>\n",
       "      <td>1</td>\n",
       "      <td>no</td>\n",
       "      <td>southeast</td>\n",
       "      <td>27724.28875</td>\n",
       "    </tr>\n",
       "    <tr>\n",
       "      <th>...</th>\n",
       "      <td>...</td>\n",
       "      <td>...</td>\n",
       "      <td>...</td>\n",
       "      <td>...</td>\n",
       "      <td>...</td>\n",
       "      <td>...</td>\n",
       "      <td>...</td>\n",
       "    </tr>\n",
       "    <tr>\n",
       "      <th>570</th>\n",
       "      <td>31</td>\n",
       "      <td>female</td>\n",
       "      <td>29.100</td>\n",
       "      <td>0</td>\n",
       "      <td>no</td>\n",
       "      <td>southwest</td>\n",
       "      <td>3761.29200</td>\n",
       "    </tr>\n",
       "    <tr>\n",
       "      <th>517</th>\n",
       "      <td>45</td>\n",
       "      <td>male</td>\n",
       "      <td>30.495</td>\n",
       "      <td>2</td>\n",
       "      <td>no</td>\n",
       "      <td>northwest</td>\n",
       "      <td>8413.46305</td>\n",
       "    </tr>\n",
       "    <tr>\n",
       "      <th>1334</th>\n",
       "      <td>18</td>\n",
       "      <td>female</td>\n",
       "      <td>31.920</td>\n",
       "      <td>0</td>\n",
       "      <td>no</td>\n",
       "      <td>northeast</td>\n",
       "      <td>2205.98080</td>\n",
       "    </tr>\n",
       "    <tr>\n",
       "      <th>523</th>\n",
       "      <td>38</td>\n",
       "      <td>female</td>\n",
       "      <td>37.730</td>\n",
       "      <td>0</td>\n",
       "      <td>no</td>\n",
       "      <td>southeast</td>\n",
       "      <td>5397.61670</td>\n",
       "    </tr>\n",
       "    <tr>\n",
       "      <th>352</th>\n",
       "      <td>30</td>\n",
       "      <td>female</td>\n",
       "      <td>27.700</td>\n",
       "      <td>0</td>\n",
       "      <td>no</td>\n",
       "      <td>southwest</td>\n",
       "      <td>3554.20300</td>\n",
       "    </tr>\n",
       "  </tbody>\n",
       "</table>\n",
       "<p>1204 rows × 7 columns</p>\n",
       "</div>"
      ],
      "text/plain": [
       "      age     sex     bmi  children smoker     region      charges\n",
       "811    33  female  42.940         3     no  northwest   6360.99360\n",
       "46     18  female  38.665         2     no  northeast   3393.35635\n",
       "75     57    male  34.010         0     no  northwest  11356.66090\n",
       "493    61    male  43.400         0     no  southwest  12574.04900\n",
       "516    20    male  35.310         1     no  southeast  27724.28875\n",
       "...   ...     ...     ...       ...    ...        ...          ...\n",
       "570    31  female  29.100         0     no  southwest   3761.29200\n",
       "517    45    male  30.495         2     no  northwest   8413.46305\n",
       "1334   18  female  31.920         0     no  northeast   2205.98080\n",
       "523    38  female  37.730         0     no  southeast   5397.61670\n",
       "352    30  female  27.700         0     no  southwest   3554.20300\n",
       "\n",
       "[1204 rows x 7 columns]"
      ]
     },
     "execution_count": 5,
     "metadata": {},
     "output_type": "execute_result"
    }
   ],
   "source": [
    "data = pd.read_csv('insurance.csv', sep=',')\n",
    "data_train = data.sample(frac=0.9)\n",
    "data_validate = data.loc[~data.index.isin(data_train.index)]\n",
    "data_train"
   ]
  },
  {
   "cell_type": "markdown",
   "id": "ca323d76",
   "metadata": {},
   "source": [
    "# **L1 CONFIDENCE INTERVAL 95**"
   ]
  },
  {
   "cell_type": "markdown",
   "id": "26ceedf3",
   "metadata": {},
   "source": [
    "**CREATE COLUMN TRANSFORMER**"
   ]
  },
  {
   "cell_type": "code",
   "execution_count": 3,
   "id": "cc07f3b5",
   "metadata": {},
   "outputs": [],
   "source": [
    "col_trans_l1 = ColumnTransformer([\n",
    "    ('scaller', StandardScaler(), ['age', 'bmi', 'children']),\n",
    "    ('hot_encode', OneHotEncoder(handle_unknown='ignore', drop='first'), ['sex', 'smoker', 'region']),\n",
    "], remainder='passthrough')"
   ]
  },
  {
   "cell_type": "markdown",
   "id": "e7c09a04",
   "metadata": {},
   "source": [
    "**CREATE PIPE**"
   ]
  },
  {
   "cell_type": "code",
   "execution_count": 4,
   "id": "2cf710d8",
   "metadata": {},
   "outputs": [],
   "source": [
    "pipe_l1 = Pipeline([\n",
    "    ('col_trans_l1', col_trans_l1), \n",
    "    ('poly', PolynomialFeatures(degree=4, include_bias=False)), \n",
    "    ('lasso', Lasso(alpha=69.56552173913043))\n",
    "])"
   ]
  },
  {
   "cell_type": "code",
   "execution_count": 5,
   "id": "bd9d21a8",
   "metadata": {},
   "outputs": [
    {
     "data": {
      "text/plain": [
       "Pipeline(steps=[('col_trans_l1',\n",
       "                 ColumnTransformer(remainder='passthrough',\n",
       "                                   transformers=[('scaller', StandardScaler(),\n",
       "                                                  ['age', 'bmi', 'children']),\n",
       "                                                 ('hot_encode',\n",
       "                                                  OneHotEncoder(drop='first',\n",
       "                                                                handle_unknown='ignore'),\n",
       "                                                  ['sex', 'smoker',\n",
       "                                                   'region'])])),\n",
       "                ('poly', PolynomialFeatures(degree=4, include_bias=False)),\n",
       "                ('lasso', Lasso(alpha=69.56552173913043))])"
      ]
     },
     "execution_count": 5,
     "metadata": {},
     "output_type": "execute_result"
    }
   ],
   "source": [
    "pipe_l1.fit(data_train.loc[:, ~data_train.columns.isin(['charges'])], data_train['charges'])"
   ]
  },
  {
   "cell_type": "markdown",
   "id": "104f6f76",
   "metadata": {},
   "source": [
    "**L1 RESULTS- BEST MEAN SCORE**"
   ]
  },
  {
   "cell_type": "code",
   "execution_count": 6,
   "id": "b2f90d74",
   "metadata": {},
   "outputs": [],
   "source": [
    "def btstrap_cv_score(data, pipe):\n",
    "    res = np.zeros((200,), dtype=int)\n",
    "    for i in tqdm(range(200)):\n",
    "        resampled_data = data.sample(frac=0.5)\n",
    "        res[i] = -np.mean(cross_validate(pipe,\n",
    "                                         resampled_data.loc[:, ~resampled_data.columns.isin(['charges'])],\n",
    "                                         resampled_data['charges'],\n",
    "                                         scoring=('neg_mean_absolute_error',))['test_neg_mean_absolute_error'])\n",
    "    return res"
   ]
  },
  {
   "cell_type": "code",
   "execution_count": 7,
   "id": "b0859d8b",
   "metadata": {
    "collapsed": true,
    "jupyter": {
     "outputs_hidden": true
    },
    "tags": []
   },
   "outputs": [
    {
     "name": "stderr",
     "output_type": "stream",
     "text": [
      " 33%|██████████████████████████▋                                                      | 66/200 [00:31<01:08,  1.94it/s]C:\\Users\\IvanZ\\anaconda3\\lib\\site-packages\\sklearn\\linear_model\\_coordinate_descent.py:647: ConvergenceWarning: Objective did not converge. You might want to increase the number of iterations, check the scale of the features or consider increasing regularisation. Duality gap: 8.336e+06, tolerance: 6.807e+06\n",
      "  model = cd_fast.enet_coordinate_descent(\n",
      " 41%|█████████████████████████████████▏                                               | 82/200 [00:38<00:54,  2.15it/s]C:\\Users\\IvanZ\\anaconda3\\lib\\site-packages\\sklearn\\linear_model\\_coordinate_descent.py:647: ConvergenceWarning: Objective did not converge. You might want to increase the number of iterations, check the scale of the features or consider increasing regularisation. Duality gap: 8.836e+06, tolerance: 6.812e+06\n",
      "  model = cd_fast.enet_coordinate_descent(\n",
      "C:\\Users\\IvanZ\\anaconda3\\lib\\site-packages\\sklearn\\linear_model\\_coordinate_descent.py:647: ConvergenceWarning: Objective did not converge. You might want to increase the number of iterations, check the scale of the features or consider increasing regularisation. Duality gap: 8.287e+06, tolerance: 7.048e+06\n",
      "  model = cd_fast.enet_coordinate_descent(\n",
      " 53%|██████████████████████████████████████████▍                                     | 106/200 [00:52<01:07,  1.39it/s]C:\\Users\\IvanZ\\anaconda3\\lib\\site-packages\\sklearn\\linear_model\\_coordinate_descent.py:647: ConvergenceWarning: Objective did not converge. You might want to increase the number of iterations, check the scale of the features or consider increasing regularisation. Duality gap: 6.162e+06, tolerance: 6.146e+06\n",
      "  model = cd_fast.enet_coordinate_descent(\n",
      " 62%|█████████████████████████████████████████████████▏                              | 123/200 [01:00<00:32,  2.36it/s]C:\\Users\\IvanZ\\anaconda3\\lib\\site-packages\\sklearn\\linear_model\\_coordinate_descent.py:647: ConvergenceWarning: Objective did not converge. You might want to increase the number of iterations, check the scale of the features or consider increasing regularisation. Duality gap: 1.515e+07, tolerance: 7.478e+06\n",
      "  model = cd_fast.enet_coordinate_descent(\n",
      " 70%|███████████████████████████████████████████████████████▌                        | 139/200 [01:09<00:26,  2.31it/s]C:\\Users\\IvanZ\\anaconda3\\lib\\site-packages\\sklearn\\linear_model\\_coordinate_descent.py:647: ConvergenceWarning: Objective did not converge. You might want to increase the number of iterations, check the scale of the features or consider increasing regularisation. Duality gap: 1.611e+07, tolerance: 6.574e+06\n",
      "  model = cd_fast.enet_coordinate_descent(\n",
      " 88%|██████████████████████████████████████████████████████████████████████▊         | 177/200 [01:27<00:09,  2.31it/s]C:\\Users\\IvanZ\\anaconda3\\lib\\site-packages\\sklearn\\linear_model\\_coordinate_descent.py:647: ConvergenceWarning: Objective did not converge. You might want to increase the number of iterations, check the scale of the features or consider increasing regularisation. Duality gap: 1.593e+07, tolerance: 6.432e+06\n",
      "  model = cd_fast.enet_coordinate_descent(\n",
      " 90%|████████████████████████████████████████████████████████████████████████▍       | 181/200 [01:29<00:08,  2.25it/s]C:\\Users\\IvanZ\\anaconda3\\lib\\site-packages\\sklearn\\linear_model\\_coordinate_descent.py:647: ConvergenceWarning: Objective did not converge. You might want to increase the number of iterations, check the scale of the features or consider increasing regularisation. Duality gap: 1.086e+07, tolerance: 6.842e+06\n",
      "  model = cd_fast.enet_coordinate_descent(\n",
      "100%|████████████████████████████████████████████████████████████████████████████████| 200/200 [01:38<00:00,  2.02it/s]\n"
     ]
    }
   ],
   "source": [
    "l1_res = btstrap_cv_score(data_train, pipe_l1)"
   ]
  },
  {
   "cell_type": "code",
   "execution_count": 8,
   "id": "cb210810",
   "metadata": {},
   "outputs": [
    {
     "data": {
      "text/plain": [
       "array([2930, 2783, 3213, 2854, 2849, 3167, 3455, 2918, 2989, 3019, 3188,\n",
       "       2854, 2663, 2907, 3326, 3199, 3332, 3126, 2890, 3317, 3008, 2934,\n",
       "       3384, 2841, 3363, 3355, 3130, 2808, 2343, 2737, 3275, 3146, 2995,\n",
       "       3306, 3178, 2891, 2870, 3073, 3114, 2828, 3230, 3266, 3000, 2845,\n",
       "       2534, 2948, 2784, 3181, 2870, 3390, 2793, 2924, 2844, 2636, 3325,\n",
       "       2989, 3239, 2848, 2849, 3300, 2777, 3244, 3115, 3576, 3098, 2748,\n",
       "       3463, 3094, 2846, 2855, 3321, 3009, 2601, 3116, 2574, 3254, 3087,\n",
       "       3191, 2652, 3463, 2801, 2718, 3144, 3411, 2746, 3470, 2951, 2857,\n",
       "       3039, 3215, 2818, 2632, 2970, 3074, 2942, 3186, 3128, 3626, 3116,\n",
       "       2748, 3132, 2965, 2853, 2899, 3089, 3111, 2884, 3017, 2869, 2793,\n",
       "       2825, 3218, 2797, 2836, 2807, 2820, 3023, 2636, 3358, 2488, 2921,\n",
       "       3055, 3087, 3103, 3091, 2981, 3234, 2858, 3091, 2683, 3177, 2958,\n",
       "       3229, 3056, 2948, 3479, 2897, 2518, 2682, 2943, 3160, 3158, 2996,\n",
       "       2932, 2646, 2838, 2966, 3141, 3000, 2969, 2946, 2657, 2875, 3346,\n",
       "       3045, 3128, 3043, 2791, 2764, 2992, 3711, 2754, 3061, 3130, 2631,\n",
       "       3338, 3063, 2980, 2912, 2880, 2690, 3094, 3056, 3095, 3084, 2935,\n",
       "       3096, 3027, 3277, 3216, 3508, 3125, 3025, 2823, 3157, 2988, 2830,\n",
       "       2944, 2993, 2928, 2792, 2653, 3262, 3090, 3163, 2977, 2872, 3063,\n",
       "       3268, 3228])"
      ]
     },
     "execution_count": 8,
     "metadata": {},
     "output_type": "execute_result"
    }
   ],
   "source": [
    "l1_res"
   ]
  },
  {
   "cell_type": "code",
   "execution_count": 9,
   "id": "e596b9b7",
   "metadata": {},
   "outputs": [],
   "source": [
    "l1_res_df = pd.DataFrame(data=l1_res, columns=['means'])"
   ]
  },
  {
   "cell_type": "code",
   "execution_count": 10,
   "id": "625fd18f-ffd2-4df0-ad1a-9902ea245e5f",
   "metadata": {},
   "outputs": [
    {
     "name": "stdout",
     "output_type": "stream",
     "text": [
      "3012.76 231.4831411207209 14.142135623730951\n"
     ]
    }
   ],
   "source": [
    "print(np.mean(l1_res), np.std(l1_res, ddof=1), len(l1_res) ** 0.5)"
   ]
  },
  {
   "cell_type": "markdown",
   "id": "c1d9fce2",
   "metadata": {},
   "source": [
    "**CALCULATE 95% CONFIDENSE INTERVAL**"
   ]
  },
  {
   "cell_type": "code",
   "execution_count": 11,
   "id": "e85caddd",
   "metadata": {},
   "outputs": [],
   "source": [
    "def conf_interv(array, conf_lvl):\n",
    "    return (np.mean(array) - conf_lvl * (np.std(array, ddof=1) / m.sqrt(array.shape[0])), \n",
    "            np.mean(array) + conf_lvl * (np.std(array, ddof=1) / m.sqrt(array.shape[0])))"
   ]
  },
  {
   "cell_type": "code",
   "execution_count": 12,
   "id": "4a5b8ade",
   "metadata": {},
   "outputs": [
    {
     "data": {
      "text/plain": [
       "(2980.6780734319027, 3044.8419265680977)"
      ]
     },
     "execution_count": 12,
     "metadata": {},
     "output_type": "execute_result"
    }
   ],
   "source": [
    "conf_interv(l1_res, 1.96)"
   ]
  },
  {
   "cell_type": "markdown",
   "id": "2b756c1b",
   "metadata": {},
   "source": [
    "**BUILD HISTOGRAM**"
   ]
  },
  {
   "cell_type": "code",
   "execution_count": 13,
   "id": "900e3249",
   "metadata": {},
   "outputs": [
    {
     "data": {
      "text/plain": [
       "<matplotlib.lines.Line2D at 0x1f6afa65a00>"
      ]
     },
     "execution_count": 13,
     "metadata": {},
     "output_type": "execute_result"
    },
    {
     "data": {
      "image/png": "[encoded data removed]",
      "text/plain": [
       "<Figure size 640x480 with 1 Axes>"
      ]
     },
     "metadata": {},
     "output_type": "display_data"
    }
   ],
   "source": [
    "fig = l1_res_df.hist(bins=30)\n",
    "fig[0][0].axvline(x=np.mean(l1_res) - 2 * np.std(l1_res, ddof=1), color='red')\n",
    "fig[0][0].axvline(x=np.mean(l1_res) + 2 * np.std(l1_res, ddof=1), color='red')"
   ]
  },
  {
   "cell_type": "markdown",
   "id": "a17eea47-ff5e-4bf0-8cb5-c73cd753672c",
   "metadata": {},
   "source": [
    "**BUILD PROBABILITY DENSITY FUNCTION**"
   ]
  },
  {
   "cell_type": "code",
   "execution_count": 14,
   "id": "4815896d",
   "metadata": {
    "tags": []
   },
   "outputs": [
    {
     "name": "stderr",
     "output_type": "stream",
     "text": [
      "C:\\Users\\IvanZ\\AppData\\Local\\Temp\\ipykernel_3300\\1746027687.py:1: DeprecationWarning: Use of keyword argument `alpha` for method `interval` is deprecated. Use first positional argument or keyword argument `confidence` instead.\n",
      "  st.t.interval(alpha=0.95, df=len(l1_res)-1, loc=np.mean(l1_res), scale=st.sem(l1_res), )\n"
     ]
    },
    {
     "data": {
      "text/plain": [
       "(2980.482364771384, 3045.0376352286166)"
      ]
     },
     "execution_count": 14,
     "metadata": {},
     "output_type": "execute_result"
    }
   ],
   "source": [
    "st.t.interval(alpha=0.95, df=len(l1_res)-1, loc=np.mean(l1_res), scale=st.sem(l1_res), )"
   ]
  },
  {
   "cell_type": "markdown",
   "id": "b6116ec5",
   "metadata": {},
   "source": [
    "# **L2 95 CONFIDENCE INTERVAL**"
   ]
  },
  {
   "cell_type": "markdown",
   "id": "7cf1bddb",
   "metadata": {},
   "source": [
    "**LETS CREATE PIPE (WE CAN USE THE SAME COLUMN TRANSFORMER)**"
   ]
  },
  {
   "cell_type": "code",
   "execution_count": 15,
   "id": "9be03f9a",
   "metadata": {},
   "outputs": [],
   "source": [
    "col_trans_l2 = col_trans_l1"
   ]
  },
  {
   "cell_type": "code",
   "execution_count": 16,
   "id": "7277547a",
   "metadata": {},
   "outputs": [],
   "source": [
    "pipe_l2 = Pipeline([\n",
    "    ('col_trans_l2', col_trans_l2), \n",
    "    ('poly', PolynomialFeatures(degree=2, include_bias=False)), \n",
    "    ('ridge', Ridge(alpha=1e-05))\n",
    "])"
   ]
  },
  {
   "cell_type": "markdown",
   "id": "95f5a537",
   "metadata": {},
   "source": [
    "**CALCULATE RESULTS**"
   ]
  },
  {
   "cell_type": "code",
   "execution_count": 17,
   "id": "fb9f55ba",
   "metadata": {},
   "outputs": [
    {
     "name": "stderr",
     "output_type": "stream",
     "text": [
      "100%|████████████████████████████████████████████████████████████████████████████████| 200/200 [00:22<00:00,  9.03it/s]\n"
     ]
    }
   ],
   "source": [
    "l2_res = btstrap_cv_score(data_train, pipe_l2)"
   ]
  },
  {
   "cell_type": "code",
   "execution_count": 18,
   "id": "cfd8687b",
   "metadata": {
    "tags": []
   },
   "outputs": [],
   "source": [
    "l2_res_df = pd.DataFrame(data=l2_res, columns=['means'])"
   ]
  },
  {
   "cell_type": "code",
   "execution_count": 19,
   "id": "738bcef1-1efa-448b-a542-483595be20ab",
   "metadata": {},
   "outputs": [
    {
     "name": "stderr",
     "output_type": "stream",
     "text": [
      "C:\\Users\\IvanZ\\AppData\\Local\\Temp\\ipykernel_3300\\1830565150.py:1: DeprecationWarning: Use of keyword argument `alpha` for method `interval` is deprecated. Use first positional argument or keyword argument `confidence` instead.\n",
      "  st.t.interval(alpha=0.95, df=len(l2_res)-1, loc=np.mean(l2_res), scale=st.sem(l2_res))\n"
     ]
    },
    {
     "data": {
      "text/plain": [
       "(2989.4384657488904, 3044.11153425111)"
      ]
     },
     "execution_count": 19,
     "metadata": {},
     "output_type": "execute_result"
    }
   ],
   "source": [
    "st.t.interval(alpha=0.95, df=len(l2_res)-1, loc=np.mean(l2_res), scale=st.sem(l2_res))"
   ]
  },
  {
   "cell_type": "markdown",
   "id": "785a54a1",
   "metadata": {},
   "source": [
    "**BUILD HISTOGRAM**"
   ]
  },
  {
   "cell_type": "code",
   "execution_count": 20,
   "id": "a39ed8a6",
   "metadata": {},
   "outputs": [
    {
     "data": {
      "text/plain": [
       "array([[<AxesSubplot:title={'center':'means'}>]], dtype=object)"
      ]
     },
     "execution_count": 20,
     "metadata": {},
     "output_type": "execute_result"
    },
    {
     "data": {
      "image/png": "[encoded data removed]",
      "text/plain": [
       "<Figure size 640x480 with 1 Axes>"
      ]
     },
     "metadata": {},
     "output_type": "display_data"
    }
   ],
   "source": [
    "l2_res_df.hist(bins=20)"
   ]
  },
  {
   "cell_type": "markdown",
   "id": "be80c882",
   "metadata": {},
   "source": [
    "# **DECISION TREE BOOTSTRAP**"
   ]
  },
  {
   "cell_type": "markdown",
   "id": "198828bf",
   "metadata": {},
   "source": [
    "**CREATE COLLUMN TRANSFORMER**"
   ]
  },
  {
   "cell_type": "code",
   "execution_count": 21,
   "id": "9020c66a",
   "metadata": {},
   "outputs": [],
   "source": [
    "bintree_trans = ColumnTransformer([\n",
    "    ('encode_ord', OrdinalEncoder(handle_unknown='use_encoded_value', unknown_value=-1), ['sex', 'smoker', 'region']),\n",
    "], remainder='passthrough')"
   ]
  },
  {
   "cell_type": "markdown",
   "id": "fd2cf989",
   "metadata": {},
   "source": [
    "**CREATE PIPELINE**"
   ]
  },
  {
   "cell_type": "code",
   "execution_count": 22,
   "id": "eed76764",
   "metadata": {},
   "outputs": [],
   "source": [
    "pipe_bintree = Pipeline([\n",
    "    ('bintree_trans', bintree_trans), \n",
    "    ('bintree', DecisionTreeRegressor(max_depth=5, min_samples_leaf=11))\n",
    "])"
   ]
  },
  {
   "cell_type": "markdown",
   "id": "752275ce-f47c-4117-a396-92a149a64ccf",
   "metadata": {},
   "source": [
    "**CALCULATE RESULTS**"
   ]
  },
  {
   "cell_type": "code",
   "execution_count": 23,
   "id": "8667bfe4",
   "metadata": {},
   "outputs": [
    {
     "name": "stderr",
     "output_type": "stream",
     "text": [
      "100%|████████████████████████████████████████████████████████████████████████████████| 200/200 [00:12<00:00, 16.04it/s]\n"
     ]
    }
   ],
   "source": [
    "bintree_res = btstrap_cv_score(data_train, pipe_bintree)"
   ]
  },
  {
   "cell_type": "code",
   "execution_count": 24,
   "id": "327cc785-3259-4bcc-8c1c-5877b0edbed3",
   "metadata": {},
   "outputs": [
    {
     "data": {
      "text/plain": [
       "array([2985, 2623, 2826, 2591, 2732, 2999, 2828, 2564, 2611, 2748, 2605,\n",
       "       2520, 2676, 2514, 2866, 2759, 2630, 2844, 3021, 2858, 2886, 2841,\n",
       "       2853, 2592, 2699, 2844, 3198, 2791, 2831, 2696, 2766, 2771, 2742,\n",
       "       2818, 2588, 2791, 2770, 2635, 2580, 3056, 2559, 2733, 2788, 2818,\n",
       "       2533, 2461, 2790, 3048, 2602, 2525, 2728, 2816, 2882, 2579, 2438,\n",
       "       2488, 2664, 2982, 2783, 2680, 2750, 2839, 2937, 2882, 2661, 2868,\n",
       "       2691, 2861, 2839, 2686, 2900, 2537, 2754, 2784, 2937, 2645, 2645,\n",
       "       2730, 2677, 2885, 2862, 2737, 2841, 2948, 2982, 3103, 3449, 3169,\n",
       "       3229, 2941, 2668, 2795, 2759, 2694, 2718, 2894, 2715, 2955, 2679,\n",
       "       2519, 2796, 2839, 2823, 2720, 2771, 2821, 2397, 2932, 2769, 2758,\n",
       "       2849, 2618, 2939, 2595, 3079, 3070, 2612, 2519, 2592, 2718, 2630,\n",
       "       2949, 3358, 2619, 3132, 2848, 2687, 2587, 2560, 2662, 2697, 2670,\n",
       "       2905, 2567, 2747, 2843, 2956, 2874, 2599, 2939, 2782, 2871, 2617,\n",
       "       2854, 2812, 2648, 3042, 2837, 2918, 2592, 2677, 2161, 2871, 3196,\n",
       "       2578, 2719, 2448, 2633, 2852, 2300, 2586, 2697, 2813, 2929, 2524,\n",
       "       2616, 2903, 2912, 2830, 2938, 2828, 2613, 2722, 2860, 2764, 2951,\n",
       "       2902, 2740, 2607, 2515, 2599, 3083, 2767, 2773, 2759, 3081, 2610,\n",
       "       2669, 2612, 2710, 2739, 2555, 2223, 2785, 2830, 3175, 2820, 2560,\n",
       "       2766, 2878])"
      ]
     },
     "execution_count": 24,
     "metadata": {},
     "output_type": "execute_result"
    }
   ],
   "source": [
    "bintree_res"
   ]
  },
  {
   "cell_type": "code",
   "execution_count": 25,
   "id": "ea73aacc",
   "metadata": {},
   "outputs": [],
   "source": [
    "bintree_df = pd.DataFrame(data=bintree_res, columns=['means'])"
   ]
  },
  {
   "cell_type": "markdown",
   "id": "ad5f3f5c",
   "metadata": {},
   "source": [
    "**BUILD HISTOGRAM**"
   ]
  },
  {
   "cell_type": "code",
   "execution_count": 26,
   "id": "ade0d67e",
   "metadata": {},
   "outputs": [
    {
     "data": {
      "text/plain": [
       "array([[<AxesSubplot:title={'center':'means'}>]], dtype=object)"
      ]
     },
     "execution_count": 26,
     "metadata": {},
     "output_type": "execute_result"
    },
    {
     "data": {
      "image/png": "[encoded data removed]",
      "text/plain": [
       "<Figure size 640x480 with 1 Axes>"
      ]
     },
     "metadata": {},
     "output_type": "display_data"
    }
   ],
   "source": [
    "bintree_df.hist(bins=20)"
   ]
  },
  {
   "cell_type": "code",
   "execution_count": 27,
   "id": "3a30ace3",
   "metadata": {},
   "outputs": [
    {
     "name": "stderr",
     "output_type": "stream",
     "text": [
      "C:\\Users\\IvanZ\\AppData\\Local\\Temp\\ipykernel_3300\\2307373638.py:1: DeprecationWarning: Use of keyword argument `alpha` for method `interval` is deprecated. Use first positional argument or keyword argument `confidence` instead.\n",
      "  st.t.interval(alpha=0.95, df=len(bintree_res)-1, loc=np.mean(bintree_res), scale=st.sem(bintree_res), )\n"
     ]
    },
    {
     "data": {
      "text/plain": [
       "(2740.6125391835826, 2792.4674608164173)"
      ]
     },
     "execution_count": 27,
     "metadata": {},
     "output_type": "execute_result"
    }
   ],
   "source": [
    "st.t.interval(alpha=0.95, df=len(bintree_res)-1, loc=np.mean(bintree_res), scale=st.sem(bintree_res), )"
   ]
  },
  {
   "cell_type": "code",
   "execution_count": 41,
   "id": "0d952de9-2e53-4867-9e76-b9f8fd98ba1b",
   "metadata": {},
   "outputs": [],
   "source": [
    "boost = [Pipeline([\n",
    "    ('bintree_trans', bintree_trans), \n",
    "    ('bintree', DecisionTreeRegressor(splitter='random', max_features=4))\n",
    "]) for i in range(100)]"
   ]
  },
  {
   "cell_type": "code",
   "execution_count": 42,
   "id": "7e5b2d57-0ccf-4209-a17f-57f52cd24ced",
   "metadata": {},
   "outputs": [],
   "source": [
    "objective = data_train['charges'].copy(deep=True)\n",
    "for tree in boost:\n",
    "    tree.fit(data_train.loc[:, ~data_train.columns.isin(['charges'])], objective)\n",
    "    temp_res = tree.predict(data_train.loc[:, ~data_train.columns.isin(['charges'])])\n",
    "    objective -= 0.01 * temp_res"
   ]
  },
  {
   "cell_type": "code",
   "execution_count": 43,
   "id": "38d4510d-3c5b-4f3b-a3fa-6ffd182e40fa",
   "metadata": {},
   "outputs": [
    {
     "data": {
      "text/plain": [
       "8226.872504239976"
      ]
     },
     "execution_count": 43,
     "metadata": {},
     "output_type": "execute_result"
    }
   ],
   "source": [
    "mae(data_train['charges'], objective)"
   ]
  },
  {
   "cell_type": "code",
   "execution_count": 7,
   "id": "ef5f01cc-957f-4776-bed5-7b650526f607",
   "metadata": {},
   "outputs": [],
   "source": [
    "model = HistGradientBoostingRegressor(learning_rate=0.01, loss='absolute_error', categorical_features= ['sex', 'smoker', 'region'])"
   ]
  },
  {
   "cell_type": "code",
   "execution_count": 8,
   "id": "8d4224ef-69a6-43fe-bce2-547bf8fb9b32",
   "metadata": {},
   "outputs": [
    {
     "ename": "ValueError",
     "evalue": "could not convert string to float: 'female'",
     "output_type": "error",
     "traceback": [
      "\u001b[1;31m---------------------------------------------------------------------------\u001b[0m",
      "\u001b[1;31mValueError\u001b[0m                                Traceback (most recent call last)",
      "\u001b[1;32m~\\AppData\\Local\\Temp\\ipykernel_15996\\3361639113.py\u001b[0m in \u001b[0;36m<module>\u001b[1;34m\u001b[0m\n\u001b[1;32m----> 1\u001b[1;33m \u001b[0mmodel\u001b[0m\u001b[1;33m.\u001b[0m\u001b[0mfit\u001b[0m\u001b[1;33m(\u001b[0m\u001b[0mdata_train\u001b[0m\u001b[1;33m.\u001b[0m\u001b[0mloc\u001b[0m\u001b[1;33m[\u001b[0m\u001b[1;33m:\u001b[0m\u001b[1;33m,\u001b[0m \u001b[1;33m~\u001b[0m\u001b[0mdata_train\u001b[0m\u001b[1;33m.\u001b[0m\u001b[0mcolumns\u001b[0m\u001b[1;33m.\u001b[0m\u001b[0misin\u001b[0m\u001b[1;33m(\u001b[0m\u001b[1;33m[\u001b[0m\u001b[1;34m'charges'\u001b[0m\u001b[1;33m]\u001b[0m\u001b[1;33m)\u001b[0m\u001b[1;33m]\u001b[0m\u001b[1;33m,\u001b[0m \u001b[0mdata_train\u001b[0m\u001b[1;33m[\u001b[0m\u001b[1;34m'charges'\u001b[0m\u001b[1;33m]\u001b[0m\u001b[1;33m)\u001b[0m\u001b[1;33m\u001b[0m\u001b[1;33m\u001b[0m\u001b[0m\n\u001b[0m",
      "\u001b[1;32m~\\anaconda3\\lib\\site-packages\\sklearn\\ensemble\\_hist_gradient_boosting\\gradient_boosting.py\u001b[0m in \u001b[0;36mfit\u001b[1;34m(self, X, y, sample_weight)\u001b[0m\n\u001b[0;32m    231\u001b[0m         \u001b[1;31m# time spent predicting X for gradient and hessians update\u001b[0m\u001b[1;33m\u001b[0m\u001b[1;33m\u001b[0m\u001b[0m\n\u001b[0;32m    232\u001b[0m         \u001b[0macc_prediction_time\u001b[0m \u001b[1;33m=\u001b[0m \u001b[1;36m0.0\u001b[0m\u001b[1;33m\u001b[0m\u001b[1;33m\u001b[0m\u001b[0m\n\u001b[1;32m--> 233\u001b[1;33m         \u001b[0mX\u001b[0m\u001b[1;33m,\u001b[0m \u001b[0my\u001b[0m \u001b[1;33m=\u001b[0m \u001b[0mself\u001b[0m\u001b[1;33m.\u001b[0m\u001b[0m_validate_data\u001b[0m\u001b[1;33m(\u001b[0m\u001b[0mX\u001b[0m\u001b[1;33m,\u001b[0m \u001b[0my\u001b[0m\u001b[1;33m,\u001b[0m \u001b[0mdtype\u001b[0m\u001b[1;33m=\u001b[0m\u001b[1;33m[\u001b[0m\u001b[0mX_DTYPE\u001b[0m\u001b[1;33m]\u001b[0m\u001b[1;33m,\u001b[0m \u001b[0mforce_all_finite\u001b[0m\u001b[1;33m=\u001b[0m\u001b[1;32mFalse\u001b[0m\u001b[1;33m)\u001b[0m\u001b[1;33m\u001b[0m\u001b[1;33m\u001b[0m\u001b[0m\n\u001b[0m\u001b[0;32m    234\u001b[0m         \u001b[0my\u001b[0m \u001b[1;33m=\u001b[0m \u001b[0mself\u001b[0m\u001b[1;33m.\u001b[0m\u001b[0m_encode_y\u001b[0m\u001b[1;33m(\u001b[0m\u001b[0my\u001b[0m\u001b[1;33m)\u001b[0m\u001b[1;33m\u001b[0m\u001b[1;33m\u001b[0m\u001b[0m\n\u001b[0;32m    235\u001b[0m         \u001b[0mcheck_consistent_length\u001b[0m\u001b[1;33m(\u001b[0m\u001b[0mX\u001b[0m\u001b[1;33m,\u001b[0m \u001b[0my\u001b[0m\u001b[1;33m)\u001b[0m\u001b[1;33m\u001b[0m\u001b[1;33m\u001b[0m\u001b[0m\n",
      "\u001b[1;32m~\\anaconda3\\lib\\site-packages\\sklearn\\base.py\u001b[0m in \u001b[0;36m_validate_data\u001b[1;34m(self, X, y, reset, validate_separately, **check_params)\u001b[0m\n\u001b[0;32m    579\u001b[0m                 \u001b[0my\u001b[0m \u001b[1;33m=\u001b[0m \u001b[0mcheck_array\u001b[0m\u001b[1;33m(\u001b[0m\u001b[0my\u001b[0m\u001b[1;33m,\u001b[0m \u001b[1;33m**\u001b[0m\u001b[0mcheck_y_params\u001b[0m\u001b[1;33m)\u001b[0m\u001b[1;33m\u001b[0m\u001b[1;33m\u001b[0m\u001b[0m\n\u001b[0;32m    580\u001b[0m             \u001b[1;32melse\u001b[0m\u001b[1;33m:\u001b[0m\u001b[1;33m\u001b[0m\u001b[1;33m\u001b[0m\u001b[0m\n\u001b[1;32m--> 581\u001b[1;33m                 \u001b[0mX\u001b[0m\u001b[1;33m,\u001b[0m \u001b[0my\u001b[0m \u001b[1;33m=\u001b[0m \u001b[0mcheck_X_y\u001b[0m\u001b[1;33m(\u001b[0m\u001b[0mX\u001b[0m\u001b[1;33m,\u001b[0m \u001b[0my\u001b[0m\u001b[1;33m,\u001b[0m \u001b[1;33m**\u001b[0m\u001b[0mcheck_params\u001b[0m\u001b[1;33m)\u001b[0m\u001b[1;33m\u001b[0m\u001b[1;33m\u001b[0m\u001b[0m\n\u001b[0m\u001b[0;32m    582\u001b[0m             \u001b[0mout\u001b[0m \u001b[1;33m=\u001b[0m \u001b[0mX\u001b[0m\u001b[1;33m,\u001b[0m \u001b[0my\u001b[0m\u001b[1;33m\u001b[0m\u001b[1;33m\u001b[0m\u001b[0m\n\u001b[0;32m    583\u001b[0m \u001b[1;33m\u001b[0m\u001b[0m\n",
      "\u001b[1;32m~\\anaconda3\\lib\\site-packages\\sklearn\\utils\\validation.py\u001b[0m in \u001b[0;36mcheck_X_y\u001b[1;34m(X, y, accept_sparse, accept_large_sparse, dtype, order, copy, force_all_finite, ensure_2d, allow_nd, multi_output, ensure_min_samples, ensure_min_features, y_numeric, estimator)\u001b[0m\n\u001b[0;32m    962\u001b[0m         \u001b[1;32mraise\u001b[0m \u001b[0mValueError\u001b[0m\u001b[1;33m(\u001b[0m\u001b[1;34m\"y cannot be None\"\u001b[0m\u001b[1;33m)\u001b[0m\u001b[1;33m\u001b[0m\u001b[1;33m\u001b[0m\u001b[0m\n\u001b[0;32m    963\u001b[0m \u001b[1;33m\u001b[0m\u001b[0m\n\u001b[1;32m--> 964\u001b[1;33m     X = check_array(\n\u001b[0m\u001b[0;32m    965\u001b[0m         \u001b[0mX\u001b[0m\u001b[1;33m,\u001b[0m\u001b[1;33m\u001b[0m\u001b[1;33m\u001b[0m\u001b[0m\n\u001b[0;32m    966\u001b[0m         \u001b[0maccept_sparse\u001b[0m\u001b[1;33m=\u001b[0m\u001b[0maccept_sparse\u001b[0m\u001b[1;33m,\u001b[0m\u001b[1;33m\u001b[0m\u001b[1;33m\u001b[0m\u001b[0m\n",
      "\u001b[1;32m~\\anaconda3\\lib\\site-packages\\sklearn\\utils\\validation.py\u001b[0m in \u001b[0;36mcheck_array\u001b[1;34m(array, accept_sparse, accept_large_sparse, dtype, order, copy, force_all_finite, ensure_2d, allow_nd, ensure_min_samples, ensure_min_features, estimator)\u001b[0m\n\u001b[0;32m    744\u001b[0m                     \u001b[0marray\u001b[0m \u001b[1;33m=\u001b[0m \u001b[0marray\u001b[0m\u001b[1;33m.\u001b[0m\u001b[0mastype\u001b[0m\u001b[1;33m(\u001b[0m\u001b[0mdtype\u001b[0m\u001b[1;33m,\u001b[0m \u001b[0mcasting\u001b[0m\u001b[1;33m=\u001b[0m\u001b[1;34m\"unsafe\"\u001b[0m\u001b[1;33m,\u001b[0m \u001b[0mcopy\u001b[0m\u001b[1;33m=\u001b[0m\u001b[1;32mFalse\u001b[0m\u001b[1;33m)\u001b[0m\u001b[1;33m\u001b[0m\u001b[1;33m\u001b[0m\u001b[0m\n\u001b[0;32m    745\u001b[0m                 \u001b[1;32melse\u001b[0m\u001b[1;33m:\u001b[0m\u001b[1;33m\u001b[0m\u001b[1;33m\u001b[0m\u001b[0m\n\u001b[1;32m--> 746\u001b[1;33m                     \u001b[0marray\u001b[0m \u001b[1;33m=\u001b[0m \u001b[0mnp\u001b[0m\u001b[1;33m.\u001b[0m\u001b[0masarray\u001b[0m\u001b[1;33m(\u001b[0m\u001b[0marray\u001b[0m\u001b[1;33m,\u001b[0m \u001b[0morder\u001b[0m\u001b[1;33m=\u001b[0m\u001b[0morder\u001b[0m\u001b[1;33m,\u001b[0m \u001b[0mdtype\u001b[0m\u001b[1;33m=\u001b[0m\u001b[0mdtype\u001b[0m\u001b[1;33m)\u001b[0m\u001b[1;33m\u001b[0m\u001b[1;33m\u001b[0m\u001b[0m\n\u001b[0m\u001b[0;32m    747\u001b[0m             \u001b[1;32mexcept\u001b[0m \u001b[0mComplexWarning\u001b[0m \u001b[1;32mas\u001b[0m \u001b[0mcomplex_warning\u001b[0m\u001b[1;33m:\u001b[0m\u001b[1;33m\u001b[0m\u001b[1;33m\u001b[0m\u001b[0m\n\u001b[0;32m    748\u001b[0m                 raise ValueError(\n",
      "\u001b[1;32m~\\anaconda3\\lib\\site-packages\\pandas\\core\\generic.py\u001b[0m in \u001b[0;36m__array__\u001b[1;34m(self, dtype)\u001b[0m\n\u001b[0;32m   2062\u001b[0m \u001b[1;33m\u001b[0m\u001b[0m\n\u001b[0;32m   2063\u001b[0m     \u001b[1;32mdef\u001b[0m \u001b[0m__array__\u001b[0m\u001b[1;33m(\u001b[0m\u001b[0mself\u001b[0m\u001b[1;33m,\u001b[0m \u001b[0mdtype\u001b[0m\u001b[1;33m:\u001b[0m \u001b[0mnpt\u001b[0m\u001b[1;33m.\u001b[0m\u001b[0mDTypeLike\u001b[0m \u001b[1;33m|\u001b[0m \u001b[1;32mNone\u001b[0m \u001b[1;33m=\u001b[0m \u001b[1;32mNone\u001b[0m\u001b[1;33m)\u001b[0m \u001b[1;33m->\u001b[0m \u001b[0mnp\u001b[0m\u001b[1;33m.\u001b[0m\u001b[0mndarray\u001b[0m\u001b[1;33m:\u001b[0m\u001b[1;33m\u001b[0m\u001b[1;33m\u001b[0m\u001b[0m\n\u001b[1;32m-> 2064\u001b[1;33m         \u001b[1;32mreturn\u001b[0m \u001b[0mnp\u001b[0m\u001b[1;33m.\u001b[0m\u001b[0masarray\u001b[0m\u001b[1;33m(\u001b[0m\u001b[0mself\u001b[0m\u001b[1;33m.\u001b[0m\u001b[0m_values\u001b[0m\u001b[1;33m,\u001b[0m \u001b[0mdtype\u001b[0m\u001b[1;33m=\u001b[0m\u001b[0mdtype\u001b[0m\u001b[1;33m)\u001b[0m\u001b[1;33m\u001b[0m\u001b[1;33m\u001b[0m\u001b[0m\n\u001b[0m\u001b[0;32m   2065\u001b[0m \u001b[1;33m\u001b[0m\u001b[0m\n\u001b[0;32m   2066\u001b[0m     def __array_wrap__(\n",
      "\u001b[1;31mValueError\u001b[0m: could not convert string to float: 'female'"
     ]
    }
   ],
   "source": [
    "model.fit(data_train.loc[:, ~data_train.columns.isin(['charges'])], data_train['charges'])"
   ]
  },
  {
   "cell_type": "code",
   "execution_count": null,
   "id": "f3b357c2-5cf1-4852-aca1-c518c848c930",
   "metadata": {},
   "outputs": [],
   "source": []
  }
 ],
 "metadata": {
  "kernelspec": {
   "display_name": "Python 3 (ipykernel)",
   "language": "python",
   "name": "python3"
  },
  "language_info": {
   "codemirror_mode": {
    "name": "ipython",
    "version": 3
   },
   "file_extension": ".py",
   "mimetype": "text/x-python",
   "name": "python",
   "nbconvert_exporter": "python",
   "pygments_lexer": "ipython3",
   "version": "3.9.13"
  }
 },
 "nbformat": 4,
 "nbformat_minor": 5
}
