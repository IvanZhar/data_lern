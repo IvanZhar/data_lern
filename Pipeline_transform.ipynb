{
 "cells": [
  {
   "cell_type": "code",
   "execution_count": 21,
   "id": "a6de3584-c463-4768-a1fe-2e2e745aeca5",
   "metadata": {},
   "outputs": [],
   "source": [
    "import numpy as np\n",
    "import pandas as pd\n",
    "import plotly.express as px\n",
    "import plotly.graph_objects as go\n",
    "from sklearn.preprocessing import OneHotEncoder, StandardScaler, PolynomialFeatures\n",
    "from sklearn.pipeline import Pipeline\n",
    "from sklearn.compose import ColumnTransformer\n",
    "from sklearn.linear_model import Lasso\n",
    "from sklearn.model_selection import GridSearchCV"
   ]
  },
  {
   "cell_type": "code",
   "execution_count": 2,
   "id": "c37b93d7-3f89-4e34-abf3-840accbab931",
   "metadata": {},
   "outputs": [],
   "source": [
    "data = pd.read_csv('insurance.csv', sep=',')"
   ]
  },
  {
   "cell_type": "code",
   "execution_count": 3,
   "id": "3c0d4dfa-5c4b-469d-8106-b9c57f4a6f5a",
   "metadata": {},
   "outputs": [
    {
     "data": {
      "text/html": [
       "<div>\n",
       "<style scoped>\n",
       "    .dataframe tbody tr th:only-of-type {\n",
       "        vertical-align: middle;\n",
       "    }\n",
       "\n",
       "    .dataframe tbody tr th {\n",
       "        vertical-align: top;\n",
       "    }\n",
       "\n",
       "    .dataframe thead th {\n",
       "        text-align: right;\n",
       "    }\n",
       "</style>\n",
       "<table border=\"1\" class=\"dataframe\">\n",
       "  <thead>\n",
       "    <tr style=\"text-align: right;\">\n",
       "      <th></th>\n",
       "      <th>age</th>\n",
       "      <th>sex</th>\n",
       "      <th>bmi</th>\n",
       "      <th>children</th>\n",
       "      <th>smoker</th>\n",
       "      <th>region</th>\n",
       "      <th>charges</th>\n",
       "    </tr>\n",
       "  </thead>\n",
       "  <tbody>\n",
       "    <tr>\n",
       "      <th>0</th>\n",
       "      <td>19</td>\n",
       "      <td>female</td>\n",
       "      <td>27.900</td>\n",
       "      <td>0</td>\n",
       "      <td>yes</td>\n",
       "      <td>southwest</td>\n",
       "      <td>16884.92400</td>\n",
       "    </tr>\n",
       "    <tr>\n",
       "      <th>1</th>\n",
       "      <td>18</td>\n",
       "      <td>male</td>\n",
       "      <td>33.770</td>\n",
       "      <td>1</td>\n",
       "      <td>no</td>\n",
       "      <td>southeast</td>\n",
       "      <td>1725.55230</td>\n",
       "    </tr>\n",
       "    <tr>\n",
       "      <th>2</th>\n",
       "      <td>28</td>\n",
       "      <td>male</td>\n",
       "      <td>33.000</td>\n",
       "      <td>3</td>\n",
       "      <td>no</td>\n",
       "      <td>southeast</td>\n",
       "      <td>4449.46200</td>\n",
       "    </tr>\n",
       "    <tr>\n",
       "      <th>3</th>\n",
       "      <td>33</td>\n",
       "      <td>male</td>\n",
       "      <td>22.705</td>\n",
       "      <td>0</td>\n",
       "      <td>no</td>\n",
       "      <td>northwest</td>\n",
       "      <td>21984.47061</td>\n",
       "    </tr>\n",
       "    <tr>\n",
       "      <th>4</th>\n",
       "      <td>32</td>\n",
       "      <td>male</td>\n",
       "      <td>28.880</td>\n",
       "      <td>0</td>\n",
       "      <td>no</td>\n",
       "      <td>northwest</td>\n",
       "      <td>3866.85520</td>\n",
       "    </tr>\n",
       "    <tr>\n",
       "      <th>...</th>\n",
       "      <td>...</td>\n",
       "      <td>...</td>\n",
       "      <td>...</td>\n",
       "      <td>...</td>\n",
       "      <td>...</td>\n",
       "      <td>...</td>\n",
       "      <td>...</td>\n",
       "    </tr>\n",
       "    <tr>\n",
       "      <th>1333</th>\n",
       "      <td>50</td>\n",
       "      <td>male</td>\n",
       "      <td>30.970</td>\n",
       "      <td>3</td>\n",
       "      <td>no</td>\n",
       "      <td>northwest</td>\n",
       "      <td>10600.54830</td>\n",
       "    </tr>\n",
       "    <tr>\n",
       "      <th>1334</th>\n",
       "      <td>18</td>\n",
       "      <td>female</td>\n",
       "      <td>31.920</td>\n",
       "      <td>0</td>\n",
       "      <td>no</td>\n",
       "      <td>northeast</td>\n",
       "      <td>2205.98080</td>\n",
       "    </tr>\n",
       "    <tr>\n",
       "      <th>1335</th>\n",
       "      <td>18</td>\n",
       "      <td>female</td>\n",
       "      <td>36.850</td>\n",
       "      <td>0</td>\n",
       "      <td>no</td>\n",
       "      <td>southeast</td>\n",
       "      <td>1629.83350</td>\n",
       "    </tr>\n",
       "    <tr>\n",
       "      <th>1336</th>\n",
       "      <td>21</td>\n",
       "      <td>female</td>\n",
       "      <td>25.800</td>\n",
       "      <td>0</td>\n",
       "      <td>no</td>\n",
       "      <td>southwest</td>\n",
       "      <td>2007.94500</td>\n",
       "    </tr>\n",
       "    <tr>\n",
       "      <th>1337</th>\n",
       "      <td>61</td>\n",
       "      <td>female</td>\n",
       "      <td>29.070</td>\n",
       "      <td>0</td>\n",
       "      <td>yes</td>\n",
       "      <td>northwest</td>\n",
       "      <td>29141.36030</td>\n",
       "    </tr>\n",
       "  </tbody>\n",
       "</table>\n",
       "<p>1338 rows × 7 columns</p>\n",
       "</div>"
      ],
      "text/plain": [
       "      age     sex     bmi  children smoker     region      charges\n",
       "0      19  female  27.900         0    yes  southwest  16884.92400\n",
       "1      18    male  33.770         1     no  southeast   1725.55230\n",
       "2      28    male  33.000         3     no  southeast   4449.46200\n",
       "3      33    male  22.705         0     no  northwest  21984.47061\n",
       "4      32    male  28.880         0     no  northwest   3866.85520\n",
       "...   ...     ...     ...       ...    ...        ...          ...\n",
       "1333   50    male  30.970         3     no  northwest  10600.54830\n",
       "1334   18  female  31.920         0     no  northeast   2205.98080\n",
       "1335   18  female  36.850         0     no  southeast   1629.83350\n",
       "1336   21  female  25.800         0     no  southwest   2007.94500\n",
       "1337   61  female  29.070         0    yes  northwest  29141.36030\n",
       "\n",
       "[1338 rows x 7 columns]"
      ]
     },
     "execution_count": 3,
     "metadata": {},
     "output_type": "execute_result"
    }
   ],
   "source": [
    "data"
   ]
  },
  {
   "cell_type": "code",
   "execution_count": 26,
   "id": "98d25fa2-feaf-4ee4-924f-fd3c8565fbfd",
   "metadata": {},
   "outputs": [],
   "source": [
    "col_trans = ColumnTransformer([\n",
    "    ('st_scller', StandardScaler(), ('age', 'bmi', 'children')), \n",
    "    ('hot_encode', OneHotEncoder(handle_unknown='ignore'), ('sex', 'smoker', 'region'))\n",
    "])\n",
    "pipe = Pipeline([('col_trans', col_trans), ('poly_trans', PolynomialFeatures()), ('lasso', Lasso())])"
   ]
  },
  {
   "cell_type": "code",
   "execution_count": 25,
   "id": "4aa33f1a-a69f-4653-9bff-e2e4784c46b4",
   "metadata": {},
   "outputs": [
    {
     "name": "stderr",
     "output_type": "stream",
     "text": [
      "C:\\Users\\IvanZ\\anaconda3\\lib\\site-packages\\sklearn\\linear_model\\_coordinate_descent.py:647: ConvergenceWarning: Objective did not converge. You might want to increase the number of iterations, check the scale of the features or consider increasing regularisation. Duality gap: 7.240e+08, tolerance: 1.961e+07\n",
      "  model = cd_fast.enet_coordinate_descent(\n"
     ]
    },
    {
     "data": {
      "text/plain": [
       "Pipeline(steps=[('col_trans',\n",
       "                 ColumnTransformer(transformers=[('st_scller', StandardScaler(),\n",
       "                                                  ('age', 'bmi', 'children')),\n",
       "                                                 ('hot_encode',\n",
       "                                                  OneHotEncoder(handle_unknown='ignore'),\n",
       "                                                  ('sex', 'smoker',\n",
       "                                                   'region'))])),\n",
       "                ('poly_trans', PolynomialFeatures(include_bias=False)),\n",
       "                ('lasso', Lasso())])"
      ]
     },
     "execution_count": 25,
     "metadata": {},
     "output_type": "execute_result"
    }
   ],
   "source": [
    "pipe.fit(data.loc[:, ~data.columns.isin(['charges'])], data['charges'])"
   ]
  },
  {
   "cell_type": "code",
   "execution_count": 10,
   "id": "cd14b9ad-cc99-43d8-97d6-5b9943d0033a",
   "metadata": {},
   "outputs": [
    {
     "data": {
      "text/plain": [
       "array([25292.71980928,  3457.15124861,  6713.73270997, ...,\n",
       "        4152.88209098,  1253.16912707, 37073.39682083])"
      ]
     },
     "execution_count": 10,
     "metadata": {},
     "output_type": "execute_result"
    }
   ],
   "source": [
    "pipe.predict(data.loc[:, ~data.columns.isin(['charges'])])"
   ]
  },
  {
   "cell_type": "code",
   "execution_count": 29,
   "id": "8a3523e2-66a7-4c97-bb8f-051bd026ddea",
   "metadata": {},
   "outputs": [
    {
     "name": "stdout",
     "output_type": "stream",
     "text": [
      "Fitting 5 folds for each of 200 candidates, totalling 1000 fits\n",
      "Wall time: 41.7 s\n"
     ]
    },
    {
     "data": {
      "text/plain": [
       "GridSearchCV(estimator=Pipeline(steps=[('col_trans',\n",
       "                                        ColumnTransformer(transformers=[('st_scller',\n",
       "                                                                         StandardScaler(),\n",
       "                                                                         ('age',\n",
       "                                                                          'bmi',\n",
       "                                                                          'children')),\n",
       "                                                                        ('hot_encode',\n",
       "                                                                         OneHotEncoder(handle_unknown='ignore'),\n",
       "                                                                         ('sex',\n",
       "                                                                          'smoker',\n",
       "                                                                          'region'))])),\n",
       "                                       ('poly_trans', PolynomialFeatures()),\n",
       "                                       ('lasso', Lasso())]),\n",
       "             n_jobs=8,\n",
       "             param_grid={'lasso__alpha': array([1.000e-03, 1.020e-01, 2.030e-0...\n",
       "       7.273e+00, 7.374e+00, 7.475e+00, 7.576e+00, 7.677e+00, 7.778e+00,\n",
       "       7.879e+00, 7.980e+00, 8.081e+00, 8.182e+00, 8.283e+00, 8.384e+00,\n",
       "       8.485e+00, 8.586e+00, 8.687e+00, 8.788e+00, 8.889e+00, 8.990e+00,\n",
       "       9.091e+00, 9.192e+00, 9.293e+00, 9.394e+00, 9.495e+00, 9.596e+00,\n",
       "       9.697e+00, 9.798e+00, 9.899e+00, 1.000e+01]),\n",
       "                         'poly_trans__degree': [2, 3],\n",
       "                         'poly_trans__include_bias': [False]},\n",
       "             scoring='neg_mean_absolute_error', verbose=1)"
      ]
     },
     "execution_count": 29,
     "metadata": {},
     "output_type": "execute_result"
    }
   ],
   "source": [
    "%%time\n",
    "params = dict(\n",
    "    lasso__alpha= np.linspace(0.001, 10, 100), \n",
    "    poly_trans__degree = [2, 3, ], \n",
    "    poly_trans__include_bias = [False, ], \n",
    ")\n",
    "alfa_search = GridSearchCV(pipe, params, scoring='neg_mean_absolute_error', verbose=1, n_jobs=8)\n",
    "alfa_search.fit(data.loc[:, ~data.columns.isin(['charges'])], data['charges'])"
   ]
  },
  {
   "cell_type": "code",
   "execution_count": 24,
   "id": "7dfd9aa9-77fe-4790-9e30-1ff4e1aaac40",
   "metadata": {},
   "outputs": [
    {
     "data": {
      "text/plain": [
       "-4197.721232171699"
      ]
     },
     "execution_count": 24,
     "metadata": {},
     "output_type": "execute_result"
    }
   ],
   "source": [
    "alfa_search.best_score_"
   ]
  },
  {
   "cell_type": "code",
   "execution_count": 30,
   "id": "50241d57-c02d-4060-8e6c-ca0c65fec4ac",
   "metadata": {},
   "outputs": [
    {
     "data": {
      "text/plain": [
       "-2947.548490762148"
      ]
     },
     "execution_count": 30,
     "metadata": {},
     "output_type": "execute_result"
    }
   ],
   "source": [
    "alfa_search.best_score_"
   ]
  },
  {
   "cell_type": "markdown",
   "id": "f0322be7-1a88-4162-97b5-2bb56434feea",
   "metadata": {},
   "source": [
    "# **ДЗ**"
   ]
  },
  {
   "cell_type": "markdown",
   "id": "85928a59-ce66-4253-863c-8021887eaf4a",
   "metadata": {},
   "source": [
    "**1. Сделать это только предварительно выбрать валидационный базис**\n",
    "**2. Сделать то же самое для дерева (пайп и grid search)**\n",
    "**3. Из матрицы результатов, получаемых при разных гиперпараметрах, посмотреть какие наиболее значимые**\n",
    "**4. Сделать то же для случайного леса (пайп и grid search)**"
   ]
  },
  {
   "cell_type": "code",
   "execution_count": null,
   "id": "c7146cc7-bb0b-4d27-8645-893db5f12342",
   "metadata": {},
   "outputs": [],
   "source": []
  }
 ],
 "metadata": {
  "kernelspec": {
   "display_name": "Python 3 (ipykernel)",
   "language": "python",
   "name": "python3"
  },
  "language_info": {
   "codemirror_mode": {
    "name": "ipython",
    "version": 3
   },
   "file_extension": ".py",
   "mimetype": "text/x-python",
   "name": "python",
   "nbconvert_exporter": "python",
   "pygments_lexer": "ipython3",
   "version": "3.9.13"
  }
 },
 "nbformat": 4,
 "nbformat_minor": 5
}
