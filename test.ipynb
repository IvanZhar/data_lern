{
 "cells": [
  {
   "cell_type": "code",
   "execution_count": 40,
   "id": "4f07c7d0-7f00-4634-bdcd-cd11608e321b",
   "metadata": {},
   "outputs": [
    {
     "data": {
      "text/plain": [
       "True"
      ]
     },
     "execution_count": 40,
     "metadata": {},
     "output_type": "execute_result"
    }
   ],
   "source": [
    "not all({Fale, False})"
   ]
  },
  {
   "cell_type": "code",
   "execution_count": 41,
   "id": "b07ca900-f20d-4df7-8573-0eb85cfe6a9f",
   "metadata": {},
   "outputs": [],
   "source": [
    "a = (1, 2)\n",
    "b = (3, 4)"
   ]
  },
  {
   "cell_type": "code",
   "execution_count": 45,
   "id": "2861bc00-ffa6-4e47-b369-847f46061a48",
   "metadata": {},
   "outputs": [],
   "source": [
    "c = frozenset([a, b])"
   ]
  },
  {
   "cell_type": "code",
   "execution_count": 49,
   "id": "7eba928f-c532-414e-9bb0-fce4b7c3f636",
   "metadata": {},
   "outputs": [],
   "source": [
    "q, w = c"
   ]
  },
  {
   "cell_type": "code",
   "execution_count": 52,
   "id": "5d78a2f7-c3b9-423d-a62a-3905f59ac39b",
   "metadata": {},
   "outputs": [
    {
     "data": {
      "text/plain": [
       "(3, 4)"
      ]
     },
     "execution_count": 52,
     "metadata": {},
     "output_type": "execute_result"
    }
   ],
   "source": [
    "w"
   ]
  },
  {
   "cell_type": "code",
   "execution_count": null,
   "id": "83354eef-89b2-4fc4-bb0e-7b5c3af64554",
   "metadata": {},
   "outputs": [],
   "source": []
  }
 ],
 "metadata": {
  "kernelspec": {
   "display_name": "Python 3 (ipykernel)",
   "language": "python",
   "name": "python3"
  },
  "language_info": {
   "codemirror_mode": {
    "name": "ipython",
    "version": 3
   },
   "file_extension": ".py",
   "mimetype": "text/x-python",
   "name": "python",
   "nbconvert_exporter": "python",
   "pygments_lexer": "ipython3",
   "version": "3.9.13"
  }
 },
 "nbformat": 4,
 "nbformat_minor": 5
}
