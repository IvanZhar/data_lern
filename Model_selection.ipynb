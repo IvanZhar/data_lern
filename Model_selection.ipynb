{
 "cells": [
  {
   "cell_type": "code",
   "execution_count": 1,
   "metadata": {},
   "outputs": [],
   "source": [
    "import numpy as np\n",
    "import pandas as pd\n",
    "import plotly.express as px\n",
    "import plotly.graph_objects as go\n",
    "from sklearn.preprocessing import OneHotEncoder, StandardScaler, PolynomialFeatures, OrdinalEncoder\n",
    "from sklearn.pipeline import Pipeline\n",
    "from sklearn.compose import ColumnTransformer\n",
    "from sklearn.linear_model import Lasso, Ridge\n",
    "from sklearn.model_selection import GridSearchCV\n",
    "from sklearn.tree import DecisionTreeRegressor\n",
    "from sklearn.metrics import mean_absolute_error as mae\n",
    "from sklearn.ensemble import RandomForestRegressor as RFR"
   ]
  },
  {
   "cell_type": "code",
   "execution_count": 2,
   "metadata": {},
   "outputs": [],
   "source": [
    "data = pd.read_csv('insurance.csv', sep=',')\n",
    "data_train = data.sample(frac=0.8)\n",
    "data_validate = data.loc[~data.index.isin(data_train.index)]"
   ]
  },
  {
   "cell_type": "code",
   "execution_count": 3,
   "metadata": {},
   "outputs": [
    {
     "data": {
      "text/html": [
       "<div>\n",
       "<style scoped>\n",
       "    .dataframe tbody tr th:only-of-type {\n",
       "        vertical-align: middle;\n",
       "    }\n",
       "\n",
       "    .dataframe tbody tr th {\n",
       "        vertical-align: top;\n",
       "    }\n",
       "\n",
       "    .dataframe thead th {\n",
       "        text-align: right;\n",
       "    }\n",
       "</style>\n",
       "<table border=\"1\" class=\"dataframe\">\n",
       "  <thead>\n",
       "    <tr style=\"text-align: right;\">\n",
       "      <th></th>\n",
       "      <th>age</th>\n",
       "      <th>sex</th>\n",
       "      <th>bmi</th>\n",
       "      <th>children</th>\n",
       "      <th>smoker</th>\n",
       "      <th>region</th>\n",
       "      <th>charges</th>\n",
       "    </tr>\n",
       "  </thead>\n",
       "  <tbody>\n",
       "    <tr>\n",
       "      <th>0</th>\n",
       "      <td>19</td>\n",
       "      <td>female</td>\n",
       "      <td>27.900</td>\n",
       "      <td>0</td>\n",
       "      <td>yes</td>\n",
       "      <td>southwest</td>\n",
       "      <td>16884.92400</td>\n",
       "    </tr>\n",
       "    <tr>\n",
       "      <th>1</th>\n",
       "      <td>18</td>\n",
       "      <td>male</td>\n",
       "      <td>33.770</td>\n",
       "      <td>1</td>\n",
       "      <td>no</td>\n",
       "      <td>southeast</td>\n",
       "      <td>1725.55230</td>\n",
       "    </tr>\n",
       "    <tr>\n",
       "      <th>2</th>\n",
       "      <td>28</td>\n",
       "      <td>male</td>\n",
       "      <td>33.000</td>\n",
       "      <td>3</td>\n",
       "      <td>no</td>\n",
       "      <td>southeast</td>\n",
       "      <td>4449.46200</td>\n",
       "    </tr>\n",
       "    <tr>\n",
       "      <th>3</th>\n",
       "      <td>33</td>\n",
       "      <td>male</td>\n",
       "      <td>22.705</td>\n",
       "      <td>0</td>\n",
       "      <td>no</td>\n",
       "      <td>northwest</td>\n",
       "      <td>21984.47061</td>\n",
       "    </tr>\n",
       "    <tr>\n",
       "      <th>4</th>\n",
       "      <td>32</td>\n",
       "      <td>male</td>\n",
       "      <td>28.880</td>\n",
       "      <td>0</td>\n",
       "      <td>no</td>\n",
       "      <td>northwest</td>\n",
       "      <td>3866.85520</td>\n",
       "    </tr>\n",
       "    <tr>\n",
       "      <th>...</th>\n",
       "      <td>...</td>\n",
       "      <td>...</td>\n",
       "      <td>...</td>\n",
       "      <td>...</td>\n",
       "      <td>...</td>\n",
       "      <td>...</td>\n",
       "      <td>...</td>\n",
       "    </tr>\n",
       "    <tr>\n",
       "      <th>1333</th>\n",
       "      <td>50</td>\n",
       "      <td>male</td>\n",
       "      <td>30.970</td>\n",
       "      <td>3</td>\n",
       "      <td>no</td>\n",
       "      <td>northwest</td>\n",
       "      <td>10600.54830</td>\n",
       "    </tr>\n",
       "    <tr>\n",
       "      <th>1334</th>\n",
       "      <td>18</td>\n",
       "      <td>female</td>\n",
       "      <td>31.920</td>\n",
       "      <td>0</td>\n",
       "      <td>no</td>\n",
       "      <td>northeast</td>\n",
       "      <td>2205.98080</td>\n",
       "    </tr>\n",
       "    <tr>\n",
       "      <th>1335</th>\n",
       "      <td>18</td>\n",
       "      <td>female</td>\n",
       "      <td>36.850</td>\n",
       "      <td>0</td>\n",
       "      <td>no</td>\n",
       "      <td>southeast</td>\n",
       "      <td>1629.83350</td>\n",
       "    </tr>\n",
       "    <tr>\n",
       "      <th>1336</th>\n",
       "      <td>21</td>\n",
       "      <td>female</td>\n",
       "      <td>25.800</td>\n",
       "      <td>0</td>\n",
       "      <td>no</td>\n",
       "      <td>southwest</td>\n",
       "      <td>2007.94500</td>\n",
       "    </tr>\n",
       "    <tr>\n",
       "      <th>1337</th>\n",
       "      <td>61</td>\n",
       "      <td>female</td>\n",
       "      <td>29.070</td>\n",
       "      <td>0</td>\n",
       "      <td>yes</td>\n",
       "      <td>northwest</td>\n",
       "      <td>29141.36030</td>\n",
       "    </tr>\n",
       "  </tbody>\n",
       "</table>\n",
       "<p>1338 rows × 7 columns</p>\n",
       "</div>"
      ],
      "text/plain": [
       "      age     sex     bmi  children smoker     region      charges\n",
       "0      19  female  27.900         0    yes  southwest  16884.92400\n",
       "1      18    male  33.770         1     no  southeast   1725.55230\n",
       "2      28    male  33.000         3     no  southeast   4449.46200\n",
       "3      33    male  22.705         0     no  northwest  21984.47061\n",
       "4      32    male  28.880         0     no  northwest   3866.85520\n",
       "...   ...     ...     ...       ...    ...        ...          ...\n",
       "1333   50    male  30.970         3     no  northwest  10600.54830\n",
       "1334   18  female  31.920         0     no  northeast   2205.98080\n",
       "1335   18  female  36.850         0     no  southeast   1629.83350\n",
       "1336   21  female  25.800         0     no  southwest   2007.94500\n",
       "1337   61  female  29.070         0    yes  northwest  29141.36030\n",
       "\n",
       "[1338 rows x 7 columns]"
      ]
     },
     "execution_count": 3,
     "metadata": {},
     "output_type": "execute_result"
    }
   ],
   "source": [
    "data"
   ]
  },
  {
   "cell_type": "markdown",
   "metadata": {},
   "source": [
    "# **LINEAR_REGRESSION LASSO L1**"
   ]
  },
  {
   "cell_type": "markdown",
   "metadata": {},
   "source": [
    "**PREPROCESSING. CREATE TRANSFORMERS TO BE USED FURTHER IN PIPE**"
   ]
  },
  {
   "cell_type": "code",
   "execution_count": 4,
   "metadata": {},
   "outputs": [],
   "source": [
    "col_trans_lin_l1 = ColumnTransformer([\n",
    "    ('scaller', StandardScaler(), ['age', 'bmi', 'children']),\n",
    "    ('encode', OneHotEncoder(handle_unknown='ignore', drop='first'), ['sex', 'smoker', 'region'])\n",
    "], remainder='passthrough')"
   ]
  },
  {
   "cell_type": "markdown",
   "metadata": {},
   "source": [
    "**CREATING PIPELINE TO BE PASSED TO GRID SEARCH**"
   ]
  },
  {
   "cell_type": "code",
   "execution_count": 5,
   "metadata": {},
   "outputs": [],
   "source": [
    "pipe_lin_l1 = Pipeline([('col_trans_lin', col_trans_lin_l1), ('poly', PolynomialFeatures()), ('lin_regr_l1', Lasso())])"
   ]
  },
  {
   "cell_type": "markdown",
   "metadata": {},
   "source": [
    "**HYPER PARAMETER OPTIMISATION USING GRID SEARCH CV**"
   ]
  },
  {
   "cell_type": "code",
   "execution_count": 46,
   "metadata": {},
   "outputs": [],
   "source": [
    "parameters_lin_l1 = {\n",
    "    'poly__degree': [1, 2, 3, 4, 5, 6],\n",
    "    'lin_regr_l1__alpha': np.linspace(0.001, 100, 300),\n",
    "    'poly__include_bias': [False, ]\n",
    "}"
   ]
  },
  {
   "cell_type": "code",
   "execution_count": 47,
   "metadata": {},
   "outputs": [],
   "source": [
    "grid_lin_l1 = GridSearchCV(pipe_lin_l1, parameters_lin_l1, scoring='neg_mean_absolute_error', n_jobs=8, verbose=1)"
   ]
  },
  {
   "cell_type": "code",
   "execution_count": 48,
   "metadata": {},
   "outputs": [
    {
     "name": "stdout",
     "output_type": "stream",
     "text": [
      "Fitting 5 folds for each of 1800 candidates, totalling 9000 fits\n"
     ]
    },
    {
     "data": {
      "text/plain": [
       "GridSearchCV(estimator=Pipeline(steps=[('col_trans_lin',\n",
       "                                        ColumnTransformer(remainder='passthrough',\n",
       "                                                          transformers=[('scaller',\n",
       "                                                                         StandardScaler(),\n",
       "                                                                         ['age',\n",
       "                                                                          'bmi',\n",
       "                                                                          'children']),\n",
       "                                                                        ('encode',\n",
       "                                                                         OneHotEncoder(drop='first',\n",
       "                                                                                       handle_unknown='ignore'),\n",
       "                                                                         ['sex',\n",
       "                                                                          'smoker',\n",
       "                                                                          'region'])])),\n",
       "                                       ('poly', PolynomialFeatures()),\n",
       "                                       ('lin_regr_l1', Lasso())]),\n",
       "             n_jobs=8,\n",
       "             param_grid={'lin_regr_l1__a...\n",
       "       9.36455485e+01, 9.39799933e+01, 9.43144381e+01, 9.46488829e+01,\n",
       "       9.49833278e+01, 9.53177726e+01, 9.56522174e+01, 9.59866622e+01,\n",
       "       9.63211070e+01, 9.66555518e+01, 9.69899967e+01, 9.73244415e+01,\n",
       "       9.76588863e+01, 9.79933311e+01, 9.83277759e+01, 9.86622207e+01,\n",
       "       9.89966656e+01, 9.93311104e+01, 9.96655552e+01, 1.00000000e+02]),\n",
       "                         'poly__degree': [1, 2, 3, 4, 5, 6],\n",
       "                         'poly__include_bias': [False]},\n",
       "             scoring='neg_mean_absolute_error', verbose=1)"
      ]
     },
     "execution_count": 48,
     "metadata": {},
     "output_type": "execute_result"
    }
   ],
   "source": [
    "grid_lin_l1.fit(data_train.loc[:, ~data_train.columns.isin(['charges'])], data_train['charges'])"
   ]
  },
  {
   "cell_type": "markdown",
   "metadata": {},
   "source": [
    "**CHECH RESULT- BEST QUALITY**"
   ]
  },
  {
   "cell_type": "code",
   "execution_count": 9,
   "metadata": {},
   "outputs": [
    {
     "data": {
      "text/plain": [
       "-2826.6049168097247"
      ]
     },
     "execution_count": 9,
     "metadata": {},
     "output_type": "execute_result"
    }
   ],
   "source": [
    "grid_lin_l1.best_score_"
   ]
  },
  {
   "cell_type": "code",
   "execution_count": 10,
   "metadata": {},
   "outputs": [
    {
     "data": {
      "text/plain": [
       "{'lin_regr_l1__alpha': 74.58219397993311,\n",
       " 'poly__degree': 4,\n",
       " 'poly__include_bias': False}"
      ]
     },
     "execution_count": 10,
     "metadata": {},
     "output_type": "execute_result"
    }
   ],
   "source": [
    "grid_lin_l1.best_params_"
   ]
  },
  {
   "cell_type": "markdown",
   "metadata": {},
   "source": [
    "# **LINEAR REGRESSION L2**"
   ]
  },
  {
   "cell_type": "markdown",
   "metadata": {},
   "source": [
    "**WE CAN USE THE SAME TRANSFORMER**"
   ]
  },
  {
   "cell_type": "code",
   "execution_count": 11,
   "metadata": {},
   "outputs": [],
   "source": [
    "col_trans_lin_l2 = col_trans_lin_l1"
   ]
  },
  {
   "cell_type": "markdown",
   "metadata": {},
   "source": [
    "**CREATE PIPELINE**"
   ]
  },
  {
   "cell_type": "code",
   "execution_count": 12,
   "metadata": {},
   "outputs": [],
   "source": [
    "pipe_lin_l2 = Pipeline([('col_trans_lin', col_trans_lin_l2), ('poly', PolynomialFeatures()), ('lin_regr_l2', Ridge())])"
   ]
  },
  {
   "cell_type": "markdown",
   "metadata": {},
   "source": [
    "**HYPER PARAMETER OPTIMISATION, AGAIN WE CAN USE THE SAME PARAMETERS**"
   ]
  },
  {
   "cell_type": "code",
   "execution_count": 43,
   "metadata": {},
   "outputs": [],
   "source": [
    "parameters_lin_l2 = {\n",
    "    'poly__degree': [1, 2, 3, 4],\n",
    "    'lin_regr_l2__alpha': np.linspace(0.00000001, 100, 1000),\n",
    "    'poly__include_bias': [False, ]\n",
    "}"
   ]
  },
  {
   "cell_type": "code",
   "execution_count": 41,
   "metadata": {},
   "outputs": [],
   "source": [
    "grid_lin_l2 = GridSearchCV(pipe_lin_l2, parameters_lin_l2, scoring='neg_mean_absolute_error', n_jobs=8, verbose=1)"
   ]
  },
  {
   "cell_type": "code",
   "execution_count": 42,
   "metadata": {},
   "outputs": [
    {
     "name": "stdout",
     "output_type": "stream",
     "text": [
      "Fitting 5 folds for each of 4000 candidates, totalling 20000 fits\n"
     ]
    },
    {
     "data": {
      "text/plain": [
       "GridSearchCV(estimator=Pipeline(steps=[('col_trans_lin',\n",
       "                                        ColumnTransformer(remainder='passthrough',\n",
       "                                                          transformers=[('scaller',\n",
       "                                                                         StandardScaler(),\n",
       "                                                                         ['age',\n",
       "                                                                          'bmi',\n",
       "                                                                          'children']),\n",
       "                                                                        ('encode',\n",
       "                                                                         OneHotEncoder(drop='first',\n",
       "                                                                                       handle_unknown='ignore'),\n",
       "                                                                         ['sex',\n",
       "                                                                          'smoker',\n",
       "                                                                          'region'])])),\n",
       "                                       ('poly', PolynomialFeatures()),\n",
       "                                       ('lin_regr_l2', Ridge())]),\n",
       "             n_jobs=8,\n",
       "             param_grid={'lin_regr_l2__a...\n",
       "       9.80980981e+01, 9.81981982e+01, 9.82982983e+01, 9.83983984e+01,\n",
       "       9.84984985e+01, 9.85985986e+01, 9.86986987e+01, 9.87987988e+01,\n",
       "       9.88988989e+01, 9.89989990e+01, 9.90990991e+01, 9.91991992e+01,\n",
       "       9.92992993e+01, 9.93993994e+01, 9.94994995e+01, 9.95995996e+01,\n",
       "       9.96996997e+01, 9.97997998e+01, 9.98998999e+01, 1.00000000e+02]),\n",
       "                         'poly__degree': [1, 2, 3, 4],\n",
       "                         'poly__include_bias': [False]},\n",
       "             scoring='neg_mean_absolute_error', verbose=1)"
      ]
     },
     "execution_count": 42,
     "metadata": {},
     "output_type": "execute_result"
    }
   ],
   "source": [
    "grid_lin_l2.fit(data_train.loc[:, ~data_train.columns.isin(['charges'])], data_train['charges'])"
   ]
  },
  {
   "cell_type": "markdown",
   "metadata": {},
   "source": [
    "**CHECK BEST SCORE**"
   ]
  },
  {
   "cell_type": "code",
   "execution_count": 44,
   "metadata": {},
   "outputs": [
    {
     "data": {
      "text/plain": [
       "-2838.3162458738975"
      ]
     },
     "execution_count": 44,
     "metadata": {},
     "output_type": "execute_result"
    }
   ],
   "source": [
    "grid_lin_l2.best_score_"
   ]
  },
  {
   "cell_type": "code",
   "execution_count": 45,
   "metadata": {},
   "outputs": [
    {
     "data": {
      "text/plain": [
       "{'lin_regr_l2__alpha': 1e-08, 'poly__degree': 2, 'poly__include_bias': False}"
      ]
     },
     "execution_count": 45,
     "metadata": {},
     "output_type": "execute_result"
    }
   ],
   "source": [
    "grid_lin_l2.best_params_"
   ]
  },
  {
   "cell_type": "markdown",
   "metadata": {},
   "source": [
    "# **BINARY THREE**"
   ]
  },
  {
   "cell_type": "markdown",
   "metadata": {},
   "source": [
    "**CREATE TRANSFORMER FOR BINARY TREE**"
   ]
  },
  {
   "cell_type": "code",
   "execution_count": null,
   "metadata": {},
   "outputs": [],
   "source": [
    "col_trans_tree = ColumnTransformer([\n",
    "    ('encode', OneHotEncoder(handle_unknown='ignore', drop='first'), ['sex', 'smoker', 'region'])\n",
    "], remainder='passthrough')"
   ]
  },
  {
   "cell_type": "markdown",
   "metadata": {},
   "source": [
    "**CREATE PIPELINE**"
   ]
  },
  {
   "cell_type": "code",
   "execution_count": null,
   "metadata": {},
   "outputs": [],
   "source": [
    "pipe_bintree = Pipeline([('col_trans_tree', col_trans_tree), ('tree', DecisionTreeRegressor())])"
   ]
  },
  {
   "cell_type": "markdown",
   "metadata": {},
   "source": [
    "**HYPER PARAMETER OPTIMISATION**"
   ]
  },
  {
   "cell_type": "code",
   "execution_count": null,
   "metadata": {},
   "outputs": [],
   "source": [
    "parameters_bintree = {\n",
    "    'tree__max_depth': np.linspace(2, 20, 19).astype(int),\n",
    "    'tree__min_samples_leaf': np.linspace(2, 150, 146).astype(int)\n",
    "}"
   ]
  },
  {
   "cell_type": "code",
   "execution_count": null,
   "metadata": {},
   "outputs": [],
   "source": [
    "drid_search_tree = GridSearchCV(pipe_bintree, parameters_bintree, scoring='neg_mean_absolute_error', n_jobs=8, verbose=1)"
   ]
  },
  {
   "cell_type": "code",
   "execution_count": null,
   "metadata": {},
   "outputs": [],
   "source": [
    "drid_search_tree.fit(data_train.loc[:, ~data_train.columns.isin(['charges'])], data_train['charges'])"
   ]
  },
  {
   "cell_type": "markdown",
   "metadata": {},
   "source": [
    "**CHECK BEST SCORE**"
   ]
  },
  {
   "cell_type": "code",
   "execution_count": null,
   "metadata": {},
   "outputs": [],
   "source": [
    "drid_search_tree.best_score_"
   ]
  },
  {
   "cell_type": "code",
   "execution_count": null,
   "metadata": {},
   "outputs": [],
   "source": [
    "drid_search_tree.best_params_"
   ]
  },
  {
   "cell_type": "code",
   "execution_count": null,
   "metadata": {},
   "outputs": [],
   "source": [
    "tree__max_depth = drid_search_tree.best_params_['tree__max_depth']\n",
    "tree__min_samples_leaf = drid_search_tree.best_params_['tree__min_samples_leaf']"
   ]
  },
  {
   "cell_type": "code",
   "execution_count": null,
   "metadata": {},
   "outputs": [],
   "source": [
    "res_tree_one_hot = pd.DataFrame(drid_search_tree.cv_results_).drop(['params'], axis=1)"
   ]
  },
  {
   "cell_type": "code",
   "execution_count": null,
   "metadata": {},
   "outputs": [],
   "source": [
    "res_tree_one_hot['mean_fit_time'].sum() * 5"
   ]
  },
  {
   "cell_type": "markdown",
   "metadata": {},
   "source": [
    "**--------- WE SELECT BINARY TREE AS THE MOST PRECISE MODEL FOR THIS PARTICULAR DATABASE ---------**"
   ]
  },
  {
   "cell_type": "markdown",
   "metadata": {},
   "source": [
    "**USE LABEL ENCODER INSTEAD OF ONE HOT**"
   ]
  },
  {
   "cell_type": "code",
   "execution_count": null,
   "metadata": {},
   "outputs": [],
   "source": [
    "col_trans_tree_ordinal = ColumnTransformer([\n",
    "    ('encode_ord', OrdinalEncoder(handle_unknown='use_encoded_value', unknown_value=-1), ['sex', 'smoker', 'region']),\n",
    "], remainder='passthrough')"
   ]
  },
  {
   "cell_type": "code",
   "execution_count": null,
   "metadata": {},
   "outputs": [],
   "source": [
    "col_trans_tree_ordinal.fit_transform(data_train)"
   ]
  },
  {
   "cell_type": "code",
   "execution_count": null,
   "metadata": {},
   "outputs": [],
   "source": [
    "pipe_bintree_ord_encode = Pipeline([('col_trans_tree', col_trans_tree_ordinal), ('tree', DecisionTreeRegressor())])"
   ]
  },
  {
   "cell_type": "code",
   "execution_count": null,
   "metadata": {},
   "outputs": [],
   "source": [
    "parameters_bintree_ord_encode = {\n",
    "    'tree__max_depth': np.linspace(2, 20, 19).astype(int),\n",
    "    'tree__min_samples_leaf': np.linspace(2, 150, 146).astype(int)\n",
    "}"
   ]
  },
  {
   "cell_type": "code",
   "execution_count": null,
   "metadata": {},
   "outputs": [],
   "source": [
    "grid_search_tree_ord_encode = GridSearchCV(pipe_bintree_ord_encode, \n",
    "                                           parameters_bintree_ord_encode, \n",
    "                                           scoring='neg_mean_absolute_error', \n",
    "                                           n_jobs=8, \n",
    "                                           verbose=1)"
   ]
  },
  {
   "cell_type": "code",
   "execution_count": null,
   "metadata": {},
   "outputs": [],
   "source": [
    "grid_search_tree_ord_encode.fit(data_train.loc[:, ~data_train.columns.isin(['charges'])], data_train['charges'])"
   ]
  },
  {
   "cell_type": "code",
   "execution_count": null,
   "metadata": {},
   "outputs": [],
   "source": [
    "grid_search_tree_ord_encode.best_score_"
   ]
  },
  {
   "cell_type": "code",
   "execution_count": null,
   "metadata": {},
   "outputs": [],
   "source": [
    "grid_search_tree_ord_encode.best_params_"
   ]
  },
  {
   "cell_type": "code",
   "execution_count": null,
   "metadata": {},
   "outputs": [],
   "source": [
    "res_grid_tree_ord_encode = pd.DataFrame(grid_search_tree_ord_encode.cv_results_).drop(['params'], axis=1)\n",
    "res_grid_tree_ord_encode"
   ]
  },
  {
   "cell_type": "code",
   "execution_count": null,
   "metadata": {},
   "outputs": [],
   "source": [
    "tot_time_ord = res_grid_tree_ord_encode['mean_fit_time'].sum() * 5\n",
    "tot_time_ord"
   ]
  },
  {
   "cell_type": "markdown",
   "metadata": {},
   "source": [
    "# **LETS ESTIMATE WHICH HYPERPARAMETERS ARE THE MOST VALUABLE IN TERMS OF BEST SCORE**"
   ]
  },
  {
   "cell_type": "code",
   "execution_count": null,
   "metadata": {},
   "outputs": [],
   "source": [
    "bintree_hyperpar_opt_results = pd.DataFrame(drid_search_tree.cv_results_)\n",
    "bintree_hyperpar_opt_results = bintree_hyperpar_opt_results.drop(['params'], axis=1)\n",
    "bintree_hyperpar_opt_results"
   ]
  },
  {
   "cell_type": "code",
   "execution_count": null,
   "metadata": {},
   "outputs": [],
   "source": [
    "short_res = bintree_hyperpar_opt_results[['param_tree__max_depth', 'param_tree__min_samples_leaf', 'mean_test_score']]\n",
    "pd.to_numeric(short_res['param_tree__max_depth'])\n",
    "pd.to_numeric(short_res['param_tree__min_samples_leaf'])\n",
    "short_res['mean_test_score'] = short_res['mean_test_score'].apply(lambda x: -1 * x)\n",
    "short_res"
   ]
  },
  {
   "cell_type": "markdown",
   "metadata": {},
   "source": [
    "**LETS PLOT SOME GRAPHICS**"
   ]
  },
  {
   "cell_type": "code",
   "execution_count": null,
   "metadata": {},
   "outputs": [],
   "source": [
    "fig = px.scatter(short_res, x='param_tree__max_depth', y='mean_test_score')\n",
    "fig.write_html(\"BINTREE__max_depth_VS_score.html\")"
   ]
  },
  {
   "cell_type": "code",
   "execution_count": null,
   "metadata": {},
   "outputs": [],
   "source": [
    "fig = px.scatter(short_res, x='param_tree__min_samples_leaf', y='mean_test_score')\n",
    "fig.write_html(\"BINTREE__min_samples_leaf_VS_score.html\")"
   ]
  },
  {
   "cell_type": "markdown",
   "metadata": {},
   "source": [
    "**MAX_DEPTH VS SCORE FOR SEVERAL MIN_SAMPLES_LEAF**"
   ]
  },
  {
   "cell_type": "code",
   "execution_count": null,
   "metadata": {},
   "outputs": [],
   "source": [
    "fig = go.Figure()\n",
    "fig.add_trace(go.Scatter(x=short_res['param_tree__max_depth'].loc[short_res['param_tree__min_samples_leaf'] == tree__min_samples_leaf - 1], \n",
    "                        y=short_res['mean_test_score'].loc[short_res['param_tree__min_samples_leaf'] == tree__min_samples_leaf - 1],\n",
    "                        name=f\"min_samples_leaf={tree__min_samples_leaf - 1}\"))\n",
    "fig.add_trace(go.Scatter(x=short_res['param_tree__max_depth'].loc[short_res['param_tree__min_samples_leaf'] == tree__min_samples_leaf], \n",
    "                         y=short_res['mean_test_score'].loc[short_res['param_tree__min_samples_leaf'] == tree__min_samples_leaf],\n",
    "                        name=f\"min_samples_leaf={tree__min_samples_leaf}\"))\n",
    "fig.add_trace(go.Scatter(x=short_res['param_tree__max_depth'].loc[short_res['param_tree__min_samples_leaf'] == tree__min_samples_leaf + 1], \n",
    "                         y=short_res['mean_test_score'].loc[short_res['param_tree__min_samples_leaf'] == tree__min_samples_leaf + 1],\n",
    "                        name=f\"min_samples_leaf={tree__min_samples_leaf + 1}\"))\n",
    "fig.update_layout(\n",
    "    title=\"BINTREE__max_depth_VS_score___COLOR-min_samp_leaf\",\n",
    "    xaxis_title=\"max_depth\",\n",
    "    yaxis_title=\"score\",\n",
    ")\n",
    "fig.write_html(\"BINTREE__max_depth_VS_score___COLOR-min_samp_leaf.html\")"
   ]
  },
  {
   "cell_type": "markdown",
   "metadata": {},
   "source": [
    "**MIN_SAMPLES_LEAF VS SCORE FOR SEVERAL MAX_DEPTH**"
   ]
  },
  {
   "cell_type": "code",
   "execution_count": null,
   "metadata": {},
   "outputs": [],
   "source": [
    "fig = go.Figure()\n",
    "fig.add_trace(go.Scatter(x=short_res['param_tree__min_samples_leaf'].loc[short_res['param_tree__max_depth'] == tree__max_depth - 1], \n",
    "                        y=short_res['mean_test_score'].loc[short_res['param_tree__max_depth'] == tree__max_depth - 1],\n",
    "                        name=f\"param_tree__max_depth={tree__max_depth - 1}\"))\n",
    "fig.add_trace(go.Scatter(x=short_res['param_tree__min_samples_leaf'].loc[short_res['param_tree__max_depth'] == tree__max_depth], \n",
    "                         y=short_res['mean_test_score'].loc[short_res['param_tree__max_depth'] == tree__max_depth],\n",
    "                        name=f\"param_tree__max_depth={tree__max_depth}\"))\n",
    "fig.add_trace(go.Scatter(x=short_res['param_tree__min_samples_leaf'].loc[short_res['param_tree__max_depth'] == tree__max_depth + 1], \n",
    "                         y=short_res['mean_test_score'].loc[short_res['param_tree__max_depth'] == tree__max_depth + 1],\n",
    "                        name=f\"param_tree__max_depth={tree__max_depth + 1}\"))\n",
    "fig.update_layout(\n",
    "    title=\"BINTREE__min_samples_leaf_VS_score___COLOR-max_depth\",\n",
    "    xaxis_title=\"min_samples_leaf\",\n",
    "    yaxis_title=\"score\",\n",
    ")\n",
    "fig.write_html(\"BINTREE__min_samples_leaf_VS_score___COLOR-max_depth.html\")"
   ]
  },
  {
   "cell_type": "code",
   "execution_count": null,
   "metadata": {
    "tags": []
   },
   "outputs": [],
   "source": [
    "fig = px.scatter_3d(short_res, x='param_tree__max_depth', y='param_tree__min_samples_leaf', z='mean_test_score', height=800)\n",
    "fig.show()"
   ]
  },
  {
   "cell_type": "markdown",
   "metadata": {},
   "source": [
    "# **LETS CHECK THE QUALITY OF MY BINTREE MODEL ON VALIDATION BASIS**"
   ]
  },
  {
   "cell_type": "markdown",
   "metadata": {},
   "source": [
    "**FIRST WE CREATE CORRESPONDING PIPELINE**"
   ]
  },
  {
   "cell_type": "code",
   "execution_count": null,
   "metadata": {},
   "outputs": [],
   "source": [
    "pipe_best_tree = Pipeline([('col_trans_tree', col_trans_tree), ('best_tree', DecisionTreeRegressor(max_depth=5, min_samples_leaf=14))])"
   ]
  },
  {
   "cell_type": "code",
   "execution_count": null,
   "metadata": {},
   "outputs": [],
   "source": [
    "pipe_best_tree.fit(data_train.loc[:, ~data_train.columns.isin(['charges'])], data_train['charges'])"
   ]
  },
  {
   "cell_type": "code",
   "execution_count": null,
   "metadata": {},
   "outputs": [],
   "source": [
    "target_true = data_validate['charges']\n",
    "target_predict = pipe_best_tree.predict(data_validate.loc[:, ~data_validate.columns.isin(['charges'])])"
   ]
  },
  {
   "cell_type": "code",
   "execution_count": null,
   "metadata": {},
   "outputs": [],
   "source": [
    "mae(target_true, target_predict)"
   ]
  },
  {
   "cell_type": "markdown",
   "metadata": {},
   "source": [
    "# **RANDOM FORREST**"
   ]
  },
  {
   "cell_type": "code",
   "execution_count": null,
   "metadata": {},
   "outputs": [],
   "source": [
    "pipe_ranfor_ord_encode = Pipeline([('col_trans_tree', col_trans_tree_ordinal), ('ranfor', RFR())])"
   ]
  },
  {
   "cell_type": "code",
   "execution_count": null,
   "metadata": {},
   "outputs": [],
   "source": [
    "ranfor_params = {\n",
    "    'ranfor__n_estimators': range(10, 122, 2),\n",
    "    'ranfor__max_depth': range(3, 10, 1), \n",
    "    'ranfor__min_samples_leaf': range(5, 50, 1),\n",
    "    'ranfor__max_features': [2, 3, 4, 5]\n",
    "}"
   ]
  },
  {
   "cell_type": "code",
   "execution_count": null,
   "metadata": {},
   "outputs": [],
   "source": [
    "grid_search_ranfor = GridSearchCV(\n",
    "    pipe_ranfor_ord_encode, \n",
    "    ranfor_params, \n",
    "    scoring='neg_mean_absolute_error', \n",
    "    n_jobs=1, \n",
    "    verbose=1,\n",
    ")"
   ]
  },
  {
   "cell_type": "raw",
   "metadata": {},
   "source": [
    "grid_search_ranfor.fit(data_train.loc[:, ~data_train.columns.isin(['charges'])], data_train['charges'])"
   ]
  },
  {
   "cell_type": "raw",
   "metadata": {},
   "source": [
    "grid_search_ranfor.best_score_"
   ]
  },
  {
   "cell_type": "markdown",
   "metadata": {},
   "source": [
    "# **ДЗ**"
   ]
  },
  {
   "cell_type": "markdown",
   "metadata": {},
   "source": [
    "**1. Доказать, что L1 работает немного лучше, чем другая.**\n",
    "**бутстрепом получить кучу случайных подвыборок, для каждой подвыборки прогнать модели L1 и L2, построить распределения и доказать статистически (ГУГЛ или Методички) что L1 работает лучше чем L2. Построить распределения и посчитать доверительные интервалы**"
   ]
  },
  {
   "cell_type": "markdown",
   "metadata": {},
   "source": [
    "**2. Прикинуть влияние разбиения на результат BinTree (бутстреп)**"
   ]
  },
  {
   "cell_type": "markdown",
   "metadata": {},
   "source": [
    "**3. Попробовать Градиентный Бустинг**"
   ]
  },
  {
   "cell_type": "code",
   "execution_count": null,
   "metadata": {},
   "outputs": [],
   "source": []
  }
 ],
 "metadata": {
  "kernelspec": {
   "display_name": "Python 3 (ipykernel)",
   "language": "python",
   "name": "python3"
  },
  "language_info": {
   "codemirror_mode": {
    "name": "ipython",
    "version": 3
   },
   "file_extension": ".py",
   "mimetype": "text/x-python",
   "name": "python",
   "nbconvert_exporter": "python",
   "pygments_lexer": "ipython3",
   "version": "3.9.13"
  }
 },
 "nbformat": 4,
 "nbformat_minor": 4
}
