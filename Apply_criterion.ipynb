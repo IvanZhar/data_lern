{
 "cells": [
  {
   "cell_type": "code",
   "execution_count": 1,
   "metadata": {},
   "outputs": [],
   "source": [
    "import numpy as np\n",
    "import pandas as pd\n",
    "import scipy.stats as st"
   ]
  },
  {
   "cell_type": "code",
   "execution_count": 2,
   "metadata": {},
   "outputs": [],
   "source": [
    "wine_df = pd.read_csv('winequality-red.csv')"
   ]
  },
  {
   "cell_type": "markdown",
   "metadata": {},
   "source": [
    "# **Критерий КОЛМОГОРОВА-СМИРНОВА**"
   ]
  },
  {
   "cell_type": "markdown",
   "metadata": {},
   "source": [
    "**запишем функцию для вычисления**"
   ]
  },
  {
   "cell_type": "code",
   "execution_count": 3,
   "metadata": {},
   "outputs": [],
   "source": [
    "def kolmogorov(data, loc, scale):\n",
    "    D_plus = np.zeros(data.shape[0])\n",
    "    D_minus = np.zeros(data.shape[0])\n",
    "    for i in range(data.shape[0]):\n",
    "        D_plus[i] = ((i + 1) / data.shape[0]) - st.norm.cdf(data[i], loc=loc, scale=scale)\n",
    "        D_minus[i] = st.norm.cdf(data[i], loc=loc, scale=scale) - ((i) / data.shape[0])\n",
    "    D = np.max([np.max(D_plus), np.max(D_minus)])\n",
    "    return (6 * data.shape[0] * D + 1) / (6 * np.sqrt(data.shape[0]))"
   ]
  },
  {
   "cell_type": "markdown",
   "metadata": {},
   "source": [
    "**вычислим критерий соответствия данных wine_df['pH'] с нормальным распределением**"
   ]
  },
  {
   "cell_type": "markdown",
   "metadata": {},
   "source": [
    "**Для начала определим матожидание. Применим 95% доверительный интервал. Берем Z статистику, поскольку у нас много значений в выборке**"
   ]
  },
  {
   "cell_type": "code",
   "execution_count": 4,
   "metadata": {},
   "outputs": [
    {
     "name": "stdout",
     "output_type": "stream",
     "text": [
      "3.303545893815603 3.318680497679083\n",
      "прикидочное среднее: 3.311113195747343\n"
     ]
    }
   ],
   "source": [
    "Cl = wine_df['pH'].mean() - 1.96 * np.std(wine_df['pH'], ddof=1) / np.sqrt(wine_df['pH'].shape[0])\n",
    "Cr = wine_df['pH'].mean() + 1.96 * np.std(wine_df['pH'], ddof=1) / np.sqrt(wine_df['pH'].shape[0])\n",
    "print(Cl, Cr)\n",
    "print(f\"прикидочное среднее: {np.mean(np.array([Cl, Cr]))}\")"
   ]
  },
  {
   "cell_type": "markdown",
   "metadata": {},
   "source": [
    "**черт с ним, будем брать среднее и дисперсию выборкию Посчитаем Колмогорова**"
   ]
  },
  {
   "cell_type": "code",
   "execution_count": 5,
   "metadata": {},
   "outputs": [
    {
     "data": {
      "text/plain": [
       "38.86358450482914"
      ]
     },
     "execution_count": 5,
     "metadata": {},
     "output_type": "execute_result"
    }
   ],
   "source": [
    "kolmogorov(wine_df['pH'], loc=wine_df['pH'].mean(), scale=np.std(wine_df['pH'], ddof=1))"
   ]
  },
  {
   "cell_type": "markdown",
   "metadata": {},
   "source": [
    "**Че то много. Протестируем Колмогорова на заведомо нормально распределенной выборке**"
   ]
  },
  {
   "cell_type": "code",
   "execution_count": 6,
   "metadata": {},
   "outputs": [
    {
     "data": {
      "text/plain": [
       "44.18626306387382"
      ]
     },
     "execution_count": 6,
     "metadata": {},
     "output_type": "execute_result"
    }
   ],
   "source": [
    "test_data = st.norm.rvs(loc=5, scale=7, size=2000)\n",
    "kolmogorov(test_data, loc=test_data.mean(), scale=np.std(test_data, ddof=1))"
   ]
  },
  {
   "cell_type": "markdown",
   "metadata": {},
   "source": [
    "**??????????????????????????????????????????????????????????????????????????????????????????????????????**"
   ]
  },
  {
   "cell_type": "markdown",
   "metadata": {},
   "source": [
    "**попробуем воспользоваться scipy**"
   ]
  },
  {
   "cell_type": "code",
   "execution_count": 15,
   "metadata": {},
   "outputs": [
    {
     "data": {
      "text/plain": [
       "KstestResult(statistic=0.040368454197074355, pvalue=0.010604884802440944)"
      ]
     },
     "execution_count": 15,
     "metadata": {},
     "output_type": "execute_result"
    }
   ],
   "source": [
    "st.kstest(wine_df['pH'], st.norm.cdf, args=(wine_df['pH'].mean(), np.std(wine_df['pH'], ddof=1)))"
   ]
  },
  {
   "cell_type": "code",
   "execution_count": 13,
   "metadata": {},
   "outputs": [
    {
     "data": {
      "text/plain": [
       "KstestResult(statistic=0.02344463304844213, pvalue=0.21818490719902595)"
      ]
     },
     "execution_count": 13,
     "metadata": {},
     "output_type": "execute_result"
    }
   ],
   "source": [
    "st.kstest(test_data, st.norm.cdf, args=(5, 6.9))"
   ]
  },
  {
   "cell_type": "markdown",
   "metadata": {},
   "source": [
    "# **Критерий Омега-квадрат**"
   ]
  },
  {
   "cell_type": "markdown",
   "metadata": {},
   "source": [
    "**напишем функцию вычисления статистики омега квадрат**"
   ]
  },
  {
   "cell_type": "code",
   "execution_count": 9,
   "metadata": {},
   "outputs": [],
   "source": [
    "def omega_square(data, loc, scale):\n",
    "    return (1 / 12 / data.shape[0]) + np.sum([(st.norm.cdf(data[i], loc=loc, scale=scale) - (2 * i) / (2 * data.shape[0])) ** 2 for i in range(data.shape[0])])"
   ]
  },
  {
   "cell_type": "markdown",
   "metadata": {},
   "source": [
    "**вычислим статистику омега квадрат для столбца density**"
   ]
  },
  {
   "cell_type": "code",
   "execution_count": 10,
   "metadata": {},
   "outputs": [
    {
     "data": {
      "text/plain": [
       "358.9006714768003"
      ]
     },
     "execution_count": 10,
     "metadata": {},
     "output_type": "execute_result"
    }
   ],
   "source": [
    "omega_square(wine_df['density'], np.mean(wine_df['density']), np.std(wine_df['density'], ddof=1))"
   ]
  },
  {
   "cell_type": "code",
   "execution_count": 11,
   "metadata": {},
   "outputs": [
    {
     "data": {
      "text/plain": [
       "340.448333825846"
      ]
     },
     "execution_count": 11,
     "metadata": {},
     "output_type": "execute_result"
    }
   ],
   "source": [
    "test_data = st.norm.rvs(loc=5, scale=7, size=2000)\n",
    "omega_square(test_data, test_data.mean(), np.std(test_data, ddof=1))"
   ]
  },
  {
   "cell_type": "markdown",
   "metadata": {},
   "source": [
    "**????????????????????????????????**"
   ]
  },
  {
   "cell_type": "code",
   "execution_count": null,
   "metadata": {},
   "outputs": [],
   "source": []
  }
 ],
 "metadata": {
  "kernelspec": {
   "display_name": "Python 3 (ipykernel)",
   "language": "python",
   "name": "python3"
  },
  "language_info": {
   "codemirror_mode": {
    "name": "ipython",
    "version": 3
   },
   "file_extension": ".py",
   "mimetype": "text/x-python",
   "name": "python",
   "nbconvert_exporter": "python",
   "pygments_lexer": "ipython3",
   "version": "3.9.13"
  }
 },
 "nbformat": 4,
 "nbformat_minor": 4
}
