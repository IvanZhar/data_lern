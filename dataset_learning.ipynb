{
 "cells": [
  {
   "cell_type": "code",
   "execution_count": 11,
   "id": "6fd7e45b-d152-47c4-95d8-3d6e9f81b02a",
   "metadata": {},
   "outputs": [],
   "source": [
    "import pandas as pd\n",
    "import numpy as np\n",
    "import plotly.graph_objects\n",
    "import plotly.express\n",
    "import scipy.stats as st"
   ]
  },
  {
   "cell_type": "code",
   "execution_count": 14,
   "id": "fcc474d8-99f0-4aa9-adf3-4c5d599a3358",
   "metadata": {},
   "outputs": [],
   "source": [
    "wine_df = pd.read_csv('winequality-red.csv')"
   ]
  },
  {
   "cell_type": "code",
   "execution_count": 15,
   "id": "82d843ff-e8ec-4d01-9e5e-10f3bca6db04",
   "metadata": {},
   "outputs": [
    {
     "data": {
      "text/html": [
       "<div>\n",
       "<style scoped>\n",
       "    .dataframe tbody tr th:only-of-type {\n",
       "        vertical-align: middle;\n",
       "    }\n",
       "\n",
       "    .dataframe tbody tr th {\n",
       "        vertical-align: top;\n",
       "    }\n",
       "\n",
       "    .dataframe thead th {\n",
       "        text-align: right;\n",
       "    }\n",
       "</style>\n",
       "<table border=\"1\" class=\"dataframe\">\n",
       "  <thead>\n",
       "    <tr style=\"text-align: right;\">\n",
       "      <th></th>\n",
       "      <th>fixed acidity</th>\n",
       "      <th>volatile acidity</th>\n",
       "      <th>citric acid</th>\n",
       "      <th>residual sugar</th>\n",
       "      <th>chlorides</th>\n",
       "      <th>free sulfur dioxide</th>\n",
       "      <th>total sulfur dioxide</th>\n",
       "      <th>density</th>\n",
       "      <th>pH</th>\n",
       "      <th>sulphates</th>\n",
       "      <th>alcohol</th>\n",
       "      <th>quality</th>\n",
       "    </tr>\n",
       "  </thead>\n",
       "  <tbody>\n",
       "    <tr>\n",
       "      <th>0</th>\n",
       "      <td>7.4</td>\n",
       "      <td>0.700</td>\n",
       "      <td>0.00</td>\n",
       "      <td>1.9</td>\n",
       "      <td>0.076</td>\n",
       "      <td>11.0</td>\n",
       "      <td>34.0</td>\n",
       "      <td>0.99780</td>\n",
       "      <td>3.51</td>\n",
       "      <td>0.56</td>\n",
       "      <td>9.4</td>\n",
       "      <td>5</td>\n",
       "    </tr>\n",
       "    <tr>\n",
       "      <th>1</th>\n",
       "      <td>7.8</td>\n",
       "      <td>0.880</td>\n",
       "      <td>0.00</td>\n",
       "      <td>2.6</td>\n",
       "      <td>0.098</td>\n",
       "      <td>25.0</td>\n",
       "      <td>67.0</td>\n",
       "      <td>0.99680</td>\n",
       "      <td>3.20</td>\n",
       "      <td>0.68</td>\n",
       "      <td>9.8</td>\n",
       "      <td>5</td>\n",
       "    </tr>\n",
       "    <tr>\n",
       "      <th>2</th>\n",
       "      <td>7.8</td>\n",
       "      <td>0.760</td>\n",
       "      <td>0.04</td>\n",
       "      <td>2.3</td>\n",
       "      <td>0.092</td>\n",
       "      <td>15.0</td>\n",
       "      <td>54.0</td>\n",
       "      <td>0.99700</td>\n",
       "      <td>3.26</td>\n",
       "      <td>0.65</td>\n",
       "      <td>9.8</td>\n",
       "      <td>5</td>\n",
       "    </tr>\n",
       "    <tr>\n",
       "      <th>3</th>\n",
       "      <td>11.2</td>\n",
       "      <td>0.280</td>\n",
       "      <td>0.56</td>\n",
       "      <td>1.9</td>\n",
       "      <td>0.075</td>\n",
       "      <td>17.0</td>\n",
       "      <td>60.0</td>\n",
       "      <td>0.99800</td>\n",
       "      <td>3.16</td>\n",
       "      <td>0.58</td>\n",
       "      <td>9.8</td>\n",
       "      <td>6</td>\n",
       "    </tr>\n",
       "    <tr>\n",
       "      <th>4</th>\n",
       "      <td>7.4</td>\n",
       "      <td>0.700</td>\n",
       "      <td>0.00</td>\n",
       "      <td>1.9</td>\n",
       "      <td>0.076</td>\n",
       "      <td>11.0</td>\n",
       "      <td>34.0</td>\n",
       "      <td>0.99780</td>\n",
       "      <td>3.51</td>\n",
       "      <td>0.56</td>\n",
       "      <td>9.4</td>\n",
       "      <td>5</td>\n",
       "    </tr>\n",
       "    <tr>\n",
       "      <th>...</th>\n",
       "      <td>...</td>\n",
       "      <td>...</td>\n",
       "      <td>...</td>\n",
       "      <td>...</td>\n",
       "      <td>...</td>\n",
       "      <td>...</td>\n",
       "      <td>...</td>\n",
       "      <td>...</td>\n",
       "      <td>...</td>\n",
       "      <td>...</td>\n",
       "      <td>...</td>\n",
       "      <td>...</td>\n",
       "    </tr>\n",
       "    <tr>\n",
       "      <th>1594</th>\n",
       "      <td>6.2</td>\n",
       "      <td>0.600</td>\n",
       "      <td>0.08</td>\n",
       "      <td>2.0</td>\n",
       "      <td>0.090</td>\n",
       "      <td>32.0</td>\n",
       "      <td>44.0</td>\n",
       "      <td>0.99490</td>\n",
       "      <td>3.45</td>\n",
       "      <td>0.58</td>\n",
       "      <td>10.5</td>\n",
       "      <td>5</td>\n",
       "    </tr>\n",
       "    <tr>\n",
       "      <th>1595</th>\n",
       "      <td>5.9</td>\n",
       "      <td>0.550</td>\n",
       "      <td>0.10</td>\n",
       "      <td>2.2</td>\n",
       "      <td>0.062</td>\n",
       "      <td>39.0</td>\n",
       "      <td>51.0</td>\n",
       "      <td>0.99512</td>\n",
       "      <td>3.52</td>\n",
       "      <td>0.76</td>\n",
       "      <td>11.2</td>\n",
       "      <td>6</td>\n",
       "    </tr>\n",
       "    <tr>\n",
       "      <th>1596</th>\n",
       "      <td>6.3</td>\n",
       "      <td>0.510</td>\n",
       "      <td>0.13</td>\n",
       "      <td>2.3</td>\n",
       "      <td>0.076</td>\n",
       "      <td>29.0</td>\n",
       "      <td>40.0</td>\n",
       "      <td>0.99574</td>\n",
       "      <td>3.42</td>\n",
       "      <td>0.75</td>\n",
       "      <td>11.0</td>\n",
       "      <td>6</td>\n",
       "    </tr>\n",
       "    <tr>\n",
       "      <th>1597</th>\n",
       "      <td>5.9</td>\n",
       "      <td>0.645</td>\n",
       "      <td>0.12</td>\n",
       "      <td>2.0</td>\n",
       "      <td>0.075</td>\n",
       "      <td>32.0</td>\n",
       "      <td>44.0</td>\n",
       "      <td>0.99547</td>\n",
       "      <td>3.57</td>\n",
       "      <td>0.71</td>\n",
       "      <td>10.2</td>\n",
       "      <td>5</td>\n",
       "    </tr>\n",
       "    <tr>\n",
       "      <th>1598</th>\n",
       "      <td>6.0</td>\n",
       "      <td>0.310</td>\n",
       "      <td>0.47</td>\n",
       "      <td>3.6</td>\n",
       "      <td>0.067</td>\n",
       "      <td>18.0</td>\n",
       "      <td>42.0</td>\n",
       "      <td>0.99549</td>\n",
       "      <td>3.39</td>\n",
       "      <td>0.66</td>\n",
       "      <td>11.0</td>\n",
       "      <td>6</td>\n",
       "    </tr>\n",
       "  </tbody>\n",
       "</table>\n",
       "<p>1599 rows × 12 columns</p>\n",
       "</div>"
      ],
      "text/plain": [
       "      fixed acidity  volatile acidity  citric acid  residual sugar  chlorides  \\\n",
       "0               7.4             0.700         0.00             1.9      0.076   \n",
       "1               7.8             0.880         0.00             2.6      0.098   \n",
       "2               7.8             0.760         0.04             2.3      0.092   \n",
       "3              11.2             0.280         0.56             1.9      0.075   \n",
       "4               7.4             0.700         0.00             1.9      0.076   \n",
       "...             ...               ...          ...             ...        ...   \n",
       "1594            6.2             0.600         0.08             2.0      0.090   \n",
       "1595            5.9             0.550         0.10             2.2      0.062   \n",
       "1596            6.3             0.510         0.13             2.3      0.076   \n",
       "1597            5.9             0.645         0.12             2.0      0.075   \n",
       "1598            6.0             0.310         0.47             3.6      0.067   \n",
       "\n",
       "      free sulfur dioxide  total sulfur dioxide  density    pH  sulphates  \\\n",
       "0                    11.0                  34.0  0.99780  3.51       0.56   \n",
       "1                    25.0                  67.0  0.99680  3.20       0.68   \n",
       "2                    15.0                  54.0  0.99700  3.26       0.65   \n",
       "3                    17.0                  60.0  0.99800  3.16       0.58   \n",
       "4                    11.0                  34.0  0.99780  3.51       0.56   \n",
       "...                   ...                   ...      ...   ...        ...   \n",
       "1594                 32.0                  44.0  0.99490  3.45       0.58   \n",
       "1595                 39.0                  51.0  0.99512  3.52       0.76   \n",
       "1596                 29.0                  40.0  0.99574  3.42       0.75   \n",
       "1597                 32.0                  44.0  0.99547  3.57       0.71   \n",
       "1598                 18.0                  42.0  0.99549  3.39       0.66   \n",
       "\n",
       "      alcohol  quality  \n",
       "0         9.4        5  \n",
       "1         9.8        5  \n",
       "2         9.8        5  \n",
       "3         9.8        6  \n",
       "4         9.4        5  \n",
       "...       ...      ...  \n",
       "1594     10.5        5  \n",
       "1595     11.2        6  \n",
       "1596     11.0        6  \n",
       "1597     10.2        5  \n",
       "1598     11.0        6  \n",
       "\n",
       "[1599 rows x 12 columns]"
      ]
     },
     "execution_count": 15,
     "metadata": {},
     "output_type": "execute_result"
    }
   ],
   "source": [
    "wine_df"
   ]
  },
  {
   "cell_type": "code",
   "execution_count": 16,
   "id": "b33347b9-26a9-4014-bb2f-74cd9eff6524",
   "metadata": {},
   "outputs": [
    {
     "data": {
      "text/plain": [
       "<AxesSubplot:>"
      ]
     },
     "execution_count": 16,
     "metadata": {},
     "output_type": "execute_result"
    },
    {
     "data": {
      "image/png": "[encoded data removed]",
      "text/plain": [
       "<Figure size 640x480 with 1 Axes>"
      ]
     },
     "metadata": {},
     "output_type": "display_data"
    }
   ],
   "source": [
    "wine_df['quality'].hist(bins=6)"
   ]
  },
  {
   "cell_type": "markdown",
   "id": "405df4ba-3525-4ea7-9ce7-5a99407b529f",
   "metadata": {},
   "source": [
    "# **apply Z statistics test for fixed acidity**"
   ]
  },
  {
   "cell_type": "markdown",
   "id": "54aab384-6680-4243-a74f-a26e59b9092d",
   "metadata": {},
   "source": [
    "**assume some initial distribution**"
   ]
  },
  {
   "cell_type": "code",
   "execution_count": 29,
   "id": "d13b2288-b557-449a-b32a-d995253c9d2d",
   "metadata": {},
   "outputs": [],
   "source": [
    "p_expected = [0.01, 0.3, 0.05, 0.3, 0.22, 0.12]\n",
    "freq_observed = [wine_df.loc[wine_df['quality'] == i].shape[0] / wine_df.shape[0] for i in range(3, 9)]"
   ]
  },
  {
   "cell_type": "code",
   "execution_count": 30,
   "id": "f8986e5c-b112-46e5-a802-dc1e7f9bd34a",
   "metadata": {},
   "outputs": [
    {
     "data": {
      "text/plain": [
       "Power_divergenceResult(statistic=3.2373658380613946, pvalue=0.6634437320622432)"
      ]
     },
     "execution_count": 30,
     "metadata": {},
     "output_type": "execute_result"
    }
   ],
   "source": [
    "st.chisquare(freq_observed, p_expected)"
   ]
  },
  {
   "cell_type": "markdown",
   "id": "534e1640-f091-4b1c-9f84-3c9f6fbe1c87",
   "metadata": {},
   "source": [
    "**Z criterion**"
   ]
  },
  {
   "cell_type": "code",
   "execution_count": 82,
   "id": "bcdaabca-77ad-4aee-9008-20b63104894a",
   "metadata": {},
   "outputs": [
    {
     "data": {
      "text/plain": [
       "8.319637273295838"
      ]
     },
     "execution_count": 82,
     "metadata": {},
     "output_type": "execute_result"
    }
   ],
   "source": [
    "wine_df['fixed acidity'].mean()"
   ]
  },
  {
   "cell_type": "code",
   "execution_count": 33,
   "id": "d7fea6e5-9eb8-4679-8042-c4dc43b3e968",
   "metadata": {},
   "outputs": [
    {
     "data": {
      "text/plain": [
       "<AxesSubplot:>"
      ]
     },
     "execution_count": 33,
     "metadata": {},
     "output_type": "execute_result"
    },
    {
     "data": {
      "image/png": "[encoded data removed]",
      "text/plain": [
       "<Figure size 640x480 with 1 Axes>"
      ]
     },
     "metadata": {},
     "output_type": "display_data"
    }
   ],
   "source": [
    "wine_df['fixed acidity'].hist()"
   ]
  },
  {
   "cell_type": "markdown",
   "id": "40d65f79-e026-44f4-902b-cb8e413fbf9b",
   "metadata": {},
   "source": [
    "**assign mu 0 as zero hypotesys**"
   ]
  },
  {
   "cell_type": "code",
   "execution_count": 106,
   "id": "341b97e7-d841-44ea-844e-64fed8fac743",
   "metadata": {},
   "outputs": [],
   "source": [
    "mu_0 = 8.23429688066657"
   ]
  },
  {
   "cell_type": "code",
   "execution_count": 107,
   "id": "fbae1ef7-9033-4ad8-a00c-2bc01870f18d",
   "metadata": {},
   "outputs": [],
   "source": [
    "Z = (\n",
    "    (wine_df['fixed acidity'].mean() - mu_0) \n",
    "    / (np.std(wine_df['fixed acidity'], ddof=1) / np.sqrt(wine_df['fixed acidity'].shape[0]))\n",
    ")"
   ]
  },
  {
   "cell_type": "code",
   "execution_count": 108,
   "id": "2e0b5d1f-891a-49b9-965f-d49b6234a38a",
   "metadata": {},
   "outputs": [
    {
     "data": {
      "text/plain": [
       "1.9600000000000035"
      ]
     },
     "execution_count": 108,
     "metadata": {},
     "output_type": "execute_result"
    }
   ],
   "source": [
    "Z"
   ]
  },
  {
   "cell_type": "markdown",
   "id": "db6f8be3-143e-4d80-bf7b-40d2d6b6da0d",
   "metadata": {},
   "source": [
    "**одностроняя 1 гипотеза H1 что fixed acidity больше чем предположение mu 0**"
   ]
  },
  {
   "cell_type": "code",
   "execution_count": 109,
   "id": "a00efc78-e070-4ce1-889c-1559a6350e69",
   "metadata": {},
   "outputs": [
    {
     "data": {
      "text/plain": [
       "0.02499789514822026"
      ]
     },
     "execution_count": 109,
     "metadata": {},
     "output_type": "execute_result"
    }
   ],
   "source": [
    "1 - st.norm.cdf(Z)"
   ]
  },
  {
   "cell_type": "markdown",
   "id": "044b416e-4f6b-4350-a14e-6880a4432900",
   "metadata": {},
   "source": [
    "**одностроняя 1 гипотеза H1 что fixed acidity меньше чем предположение mu 0**"
   ]
  },
  {
   "cell_type": "code",
   "execution_count": 112,
   "id": "caa6f16d-86f6-4240-a7c5-b6f618513333",
   "metadata": {},
   "outputs": [
    {
     "data": {
      "text/plain": [
       "0.9750021048517797"
      ]
     },
     "execution_count": 112,
     "metadata": {},
     "output_type": "execute_result"
    }
   ],
   "source": [
    "st.norm.cdf(Z)"
   ]
  },
  {
   "cell_type": "markdown",
   "id": "d1c62d43-515e-43ff-a794-34a43be3322f",
   "metadata": {},
   "source": [
    "**двухсторонняя 1 гипотеза H1 что fixed acidity меньше или больше чем предположение mu 0**"
   ]
  },
  {
   "cell_type": "code",
   "execution_count": 111,
   "id": "d85d1eab-275b-4c71-9241-3771b5a5be8b",
   "metadata": {},
   "outputs": [
    {
     "data": {
      "text/plain": [
       "0.04999579029644052"
      ]
     },
     "execution_count": 111,
     "metadata": {},
     "output_type": "execute_result"
    }
   ],
   "source": [
    "2 * (1 - st.norm.cdf(abs(Z)))"
   ]
  },
  {
   "cell_type": "code",
   "execution_count": 98,
   "id": "8dbe0a8a-786b-4beb-b784-193d7f33f72c",
   "metadata": {},
   "outputs": [],
   "source": [
    "Cl = wine_df['fixed acidity'].mean() - 1.96*(np.std(wine_df['fixed acidity'], ddof=1) / np.sqrt(wine_df['fixed acidity'].shape[0]))\n",
    "Cr = wine_df['fixed acidity'].mean() + 1.96*(np.std(wine_df['fixed acidity'], ddof=1) / np.sqrt(wine_df['fixed acidity'].shape[0]))"
   ]
  },
  {
   "cell_type": "code",
   "execution_count": 99,
   "id": "4f5b6668-f09d-4c7a-86a3-cc6d3f6f5c09",
   "metadata": {},
   "outputs": [
    {
     "data": {
      "text/plain": [
       "(8.23429688066657, 8.404977665925106)"
      ]
     },
     "execution_count": 99,
     "metadata": {},
     "output_type": "execute_result"
    }
   ],
   "source": [
    "Cl, Cr"
   ]
  },
  {
   "cell_type": "markdown",
   "id": "d1f3439a-71c9-456e-8bd1-eba3831bdeaa",
   "metadata": {},
   "source": [
    "# **apply Shapiro_Wilks test for free sulfur dioxide**"
   ]
  },
  {
   "cell_type": "code",
   "execution_count": 114,
   "id": "9aab6dc1-231e-4ab0-9678-8f7df3ab1a02",
   "metadata": {},
   "outputs": [
    {
     "data": {
      "text/plain": [
       "<AxesSubplot:>"
      ]
     },
     "execution_count": 114,
     "metadata": {},
     "output_type": "execute_result"
    },
    {
     "data": {
      "image/png": "[encoded data removed]",
      "text/plain": [
       "<Figure size 640x480 with 1 Axes>"
      ]
     },
     "metadata": {},
     "output_type": "display_data"
    }
   ],
   "source": [
    "wine_df['free sulfur dioxide'].hist()"
   ]
  },
  {
   "cell_type": "code",
   "execution_count": 115,
   "id": "b3b9ad4a-de9e-4009-ac23-9f849e387659",
   "metadata": {},
   "outputs": [
    {
     "data": {
      "text/plain": [
       "ShapiroResult(statistic=0.9018418192863464, pvalue=7.699692533903026e-31)"
      ]
     },
     "execution_count": 115,
     "metadata": {},
     "output_type": "execute_result"
    }
   ],
   "source": [
    "st.shapiro(wine_df['free sulfur dioxide'])"
   ]
  },
  {
   "cell_type": "markdown",
   "id": "6e51a096-b9f3-4562-a3d0-2ff6125a059e",
   "metadata": {},
   "source": [
    "# **apply Shapiro_Wilks test for fixed acidity**"
   ]
  },
  {
   "cell_type": "code",
   "execution_count": 116,
   "id": "550eb598-6a69-4939-9e12-38bad537b8ec",
   "metadata": {},
   "outputs": [
    {
     "data": {
      "text/plain": [
       "ShapiroResult(statistic=0.9420264959335327, pvalue=1.5227779442162196e-24)"
      ]
     },
     "execution_count": 116,
     "metadata": {},
     "output_type": "execute_result"
    }
   ],
   "source": [
    "st.shapiro(wine_df['fixed acidity'])"
   ]
  },
  {
   "cell_type": "code",
   "execution_count": 118,
   "id": "71e55204-b22f-440f-b941-ad3f30e51ef3",
   "metadata": {},
   "outputs": [
    {
     "data": {
      "text/plain": [
       "<AxesSubplot:>"
      ]
     },
     "execution_count": 118,
     "metadata": {},
     "output_type": "execute_result"
    },
    {
     "data": {
      "image/png": "[encoded data removed]",
      "text/plain": [
       "<Figure size 640x480 with 1 Axes>"
      ]
     },
     "metadata": {},
     "output_type": "display_data"
    }
   ],
   "source": [
    "wine_df['density'].hist()"
   ]
  },
  {
   "cell_type": "code",
   "execution_count": 119,
   "id": "50b6833f-f9c4-4a45-a8d5-8ba727c59bb1",
   "metadata": {},
   "outputs": [
    {
     "data": {
      "text/plain": [
       "ShapiroResult(statistic=0.9908602237701416, pvalue=1.9199848821926935e-08)"
      ]
     },
     "execution_count": 119,
     "metadata": {},
     "output_type": "execute_result"
    }
   ],
   "source": [
    "st.shapiro(wine_df['density'])"
   ]
  },
  {
   "cell_type": "code",
   "execution_count": 136,
   "id": "da6448f1-0de4-4691-936a-3628431ec271",
   "metadata": {},
   "outputs": [],
   "source": [
    "temp_data = st.norm.rvs(loc=100, scale=27, size=1000)"
   ]
  },
  {
   "cell_type": "code",
   "execution_count": 137,
   "id": "b513cb51-3770-496a-a29d-3a5959e71c94",
   "metadata": {},
   "outputs": [
    {
     "data": {
      "text/plain": [
       "ShapiroResult(statistic=0.9987866878509521, pvalue=0.7462266087532043)"
      ]
     },
     "execution_count": 137,
     "metadata": {},
     "output_type": "execute_result"
    }
   ],
   "source": [
    "st.shapiro(temp_data)"
   ]
  },
  {
   "cell_type": "markdown",
   "id": "483452a0-0a0e-46e5-93a2-b477f90b9111",
   "metadata": {},
   "source": [
    "# ДЗ"
   ]
  },
  {
   "cell_type": "markdown",
   "id": "d6270985-e795-4712-b3bc-f3bd0254f293",
   "metadata": {},
   "source": [
    "1. Методичка по тестам на примере данного датасета\n",
    "2. Методичка по непараметрическим тестам для датасета"
   ]
  },
  {
   "cell_type": "code",
   "execution_count": null,
   "id": "e0dd4818-bb28-4241-ad3d-7d440806503b",
   "metadata": {},
   "outputs": [],
   "source": []
  }
 ],
 "metadata": {
  "kernelspec": {
   "display_name": "Python 3 (ipykernel)",
   "language": "python",
   "name": "python3"
  },
  "language_info": {
   "codemirror_mode": {
    "name": "ipython",
    "version": 3
   },
   "file_extension": ".py",
   "mimetype": "text/x-python",
   "name": "python",
   "nbconvert_exporter": "python",
   "pygments_lexer": "ipython3",
   "version": "3.9.13"
  }
 },
 "nbformat": 4,
 "nbformat_minor": 5
}
